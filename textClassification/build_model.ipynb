{
 "cells": [
  {
   "cell_type": "markdown",
   "metadata": {},
   "source": [
    "# 1. Load the data preprocessed "
   ]
  },
  {
   "cell_type": "markdown",
   "metadata": {},
   "source": [
    "Some useable techniques for Vietnamese:\n",
    "- lower casing\n",
    "- punctuation removal\n",
    "- stopwords removal\n",
    "- frequent words removal"
   ]
  },
  {
   "cell_type": "code",
   "execution_count": 2,
   "metadata": {},
   "outputs": [],
   "source": [
    "# convert data preprocessed to scr_matrix scipy\n",
    "# each feature have the same labels file y_data, y_test\n",
    "import numpy as np\n",
    "from scipy.sparse import save_npz, load_npz\n",
    "\n",
    "from sklearn.model_selection import train_test_split\n",
    "\n",
    "# save and load model\n",
    "from joblib import dump, load\n",
    "# if-idf features\n",
    "import sklearn.naive_bayes as naive_bayes\n",
    "import sklearn.metrics as metrics\n",
    "import pickle\n",
    "\n",
    "from tqdm.notebook import tqdm "
   ]
  },
  {
   "cell_type": "code",
   "execution_count": 3,
   "metadata": {},
   "outputs": [
    {
     "ename": "FileNotFoundError",
     "evalue": "[Errno 2] No such file or directory: 'X_data_count.npy'",
     "output_type": "error",
     "traceback": [
      "\u001b[1;31m---------------------------------------------------------------------------\u001b[0m",
      "\u001b[1;31mFileNotFoundError\u001b[0m                         Traceback (most recent call last)",
      "\u001b[1;32m<ipython-input-3-da51f94b3dc2>\u001b[0m in \u001b[0;36m<module>\u001b[1;34m\u001b[0m\n\u001b[0;32m      6\u001b[0m \u001b[1;31m# training data\u001b[0m\u001b[1;33m\u001b[0m\u001b[1;33m\u001b[0m\u001b[1;33m\u001b[0m\u001b[0m\n\u001b[0;32m      7\u001b[0m     \u001b[1;31m# count features\u001b[0m\u001b[1;33m\u001b[0m\u001b[1;33m\u001b[0m\u001b[1;33m\u001b[0m\u001b[0m\n\u001b[1;32m----> 8\u001b[1;33m \u001b[0msaveData\u001b[0m\u001b[1;33m(\u001b[0m\u001b[1;34m'X_data_count'\u001b[0m\u001b[1;33m)\u001b[0m\u001b[1;33m\u001b[0m\u001b[1;33m\u001b[0m\u001b[0m\n\u001b[0m\u001b[0;32m      9\u001b[0m     \u001b[1;31m# tf-idf features\u001b[0m\u001b[1;33m\u001b[0m\u001b[1;33m\u001b[0m\u001b[1;33m\u001b[0m\u001b[0m\n\u001b[0;32m     10\u001b[0m \u001b[0msaveData\u001b[0m\u001b[1;33m(\u001b[0m\u001b[1;34m'X_data_tfidf'\u001b[0m\u001b[1;33m)\u001b[0m\u001b[1;33m\u001b[0m\u001b[1;33m\u001b[0m\u001b[0m\n",
      "\u001b[1;32m<ipython-input-3-da51f94b3dc2>\u001b[0m in \u001b[0;36msaveData\u001b[1;34m(data_name)\u001b[0m\n\u001b[0;32m      1\u001b[0m \u001b[1;32mdef\u001b[0m \u001b[0msaveData\u001b[0m\u001b[1;33m(\u001b[0m\u001b[0mdata_name\u001b[0m\u001b[1;33m)\u001b[0m\u001b[1;33m:\u001b[0m\u001b[1;33m\u001b[0m\u001b[1;33m\u001b[0m\u001b[0m\n\u001b[0;32m      2\u001b[0m     \u001b[1;31m# data_name: a string\u001b[0m\u001b[1;33m\u001b[0m\u001b[1;33m\u001b[0m\u001b[1;33m\u001b[0m\u001b[0m\n\u001b[1;32m----> 3\u001b[1;33m     \u001b[0mdata\u001b[0m \u001b[1;33m=\u001b[0m \u001b[0mnp\u001b[0m\u001b[1;33m.\u001b[0m\u001b[0mload\u001b[0m\u001b[1;33m(\u001b[0m\u001b[1;34m'%s.npy'\u001b[0m \u001b[1;33m%\u001b[0m\u001b[0mdata_name\u001b[0m\u001b[1;33m)\u001b[0m\u001b[1;33m\u001b[0m\u001b[1;33m\u001b[0m\u001b[0m\n\u001b[0m\u001b[0;32m      4\u001b[0m     \u001b[0msave_npz\u001b[0m\u001b[1;33m(\u001b[0m\u001b[1;34m'%s.npz'\u001b[0m\u001b[1;33m%\u001b[0m\u001b[0mdata_name\u001b[0m\u001b[1;33m,\u001b[0m \u001b[0mdata\u001b[0m\u001b[1;33m.\u001b[0m\u001b[0mitem\u001b[0m\u001b[1;33m(\u001b[0m\u001b[1;33m)\u001b[0m\u001b[1;33m)\u001b[0m\u001b[1;33m\u001b[0m\u001b[1;33m\u001b[0m\u001b[0m\n\u001b[0;32m      5\u001b[0m \u001b[1;33m\u001b[0m\u001b[0m\n",
      "\u001b[1;32mc:\\users\\hhd\\appdata\\local\\programs\\python\\python36\\lib\\site-packages\\numpy\\lib\\npyio.py\u001b[0m in \u001b[0;36mload\u001b[1;34m(file, mmap_mode, allow_pickle, fix_imports, encoding)\u001b[0m\n\u001b[0;32m    413\u001b[0m         \u001b[0mown_fid\u001b[0m \u001b[1;33m=\u001b[0m \u001b[1;32mFalse\u001b[0m\u001b[1;33m\u001b[0m\u001b[1;33m\u001b[0m\u001b[0m\n\u001b[0;32m    414\u001b[0m     \u001b[1;32melse\u001b[0m\u001b[1;33m:\u001b[0m\u001b[1;33m\u001b[0m\u001b[1;33m\u001b[0m\u001b[0m\n\u001b[1;32m--> 415\u001b[1;33m         \u001b[0mfid\u001b[0m \u001b[1;33m=\u001b[0m \u001b[0mopen\u001b[0m\u001b[1;33m(\u001b[0m\u001b[0mos_fspath\u001b[0m\u001b[1;33m(\u001b[0m\u001b[0mfile\u001b[0m\u001b[1;33m)\u001b[0m\u001b[1;33m,\u001b[0m \u001b[1;34m\"rb\"\u001b[0m\u001b[1;33m)\u001b[0m\u001b[1;33m\u001b[0m\u001b[1;33m\u001b[0m\u001b[0m\n\u001b[0m\u001b[0;32m    416\u001b[0m         \u001b[0mown_fid\u001b[0m \u001b[1;33m=\u001b[0m \u001b[1;32mTrue\u001b[0m\u001b[1;33m\u001b[0m\u001b[1;33m\u001b[0m\u001b[0m\n\u001b[0;32m    417\u001b[0m \u001b[1;33m\u001b[0m\u001b[0m\n",
      "\u001b[1;31mFileNotFoundError\u001b[0m: [Errno 2] No such file or directory: 'X_data_count.npy'"
     ]
    }
   ],
   "source": [
    "def saveData(data_name):\n",
    "    # data_name: a string\n",
    "    data = np.load('%s.npy' %data_name)\n",
    "    save_npz('%s.npz'%data_name, data.item())\n",
    "\n",
    "# training data\n",
    "    # count features\n",
    "saveData('X_data_count')\n",
    "    # tf-idf features\n",
    "saveData('X_data_tfidf')\n",
    "saveData('X_data_tfidf_ngram')\n",
    "saveData('X_data_tfidf_ngram_char')\n",
    "\n",
    "# testing data\n",
    "    # count features\n",
    "saveData('X_test_count')\n",
    "    # tf-idf features\n",
    "saveData('X_test_tfidf')\n",
    "saveData('X_test_tfidf_ngram')\n",
    "saveData('X_test_tfidf_ngram_char')"
   ]
  },
  {
   "cell_type": "code",
   "execution_count": null,
   "metadata": {},
   "outputs": [],
   "source": [
    "# tf-idf with reduced dimensions is numpy type so don't need to convert to scipy data type"
   ]
  },
  {
   "cell_type": "markdown",
   "metadata": {},
   "source": [
    "# 2. Model"
   ]
  },
  {
   "cell_type": "code",
   "execution_count": 30,
   "metadata": {},
   "outputs": [],
   "source": []
  },
  {
   "cell_type": "code",
   "execution_count": 4,
   "metadata": {
    "scrolled": true
   },
   "outputs": [],
   "source": [
    "# training the model\n",
    "def trainModel(classifier, X_data, y_data, X_test, y_test, is_neuralnet=False, n_epochs=5):       \n",
    "    X_train, X_val, y_train, y_val = train_test_split(X_data, y_data, test_size=0.3, random_state=42)\n",
    "    \n",
    "    if is_neuralnet:\n",
    "        classifier.fit(X_train, y_train, validation_data=(X_val, y_val), epochs=n_epochs, batch_size=512)\n",
    "        \n",
    "        val_predictions = classifier.predict(X_val)\n",
    "        test_predictions = classifier.predict(X_test)\n",
    "        val_predictions = val_predictions.argmax(axis=-1)\n",
    "        test_predictions = test_predictions.argmax(axis=-1)\n",
    "    else:\n",
    "        classifier.fit(X_train, y_train)\n",
    "    \n",
    "        train_predictions = classifier.predict(X_train)\n",
    "        val_predictions = classifier.predict(X_val)\n",
    "        test_predictions = classifier.predict(X_test)\n",
    "        \n",
    "    print(\"Validation accuracy: \", metrics.accuracy_score(val_predictions, y_val))\n",
    "    print(\"Test accuracy: \", metrics.accuracy_score(test_predictions, y_test))\n",
    "    return (classifier, X_train, X_val, y_train, y_val)"
   ]
  },
  {
   "cell_type": "code",
   "execution_count": 32,
   "metadata": {},
   "outputs": [],
   "source": []
  },
  {
   "cell_type": "code",
   "execution_count": 49,
   "metadata": {},
   "outputs": [],
   "source": [
    "# saving trained model\n",
    "def saveModel(model, model_name):\n",
    "    dump(model, '%s.joblib' %model_name)"
   ]
  },
  {
   "cell_type": "code",
   "execution_count": 7,
   "metadata": {},
   "outputs": [],
   "source": [
    "# training data\n",
    "X_data_tfidf = load_npz(\"data_compressed/X_data_tfidf.npz\")\n",
    "y_data = pickle.load(open('VNTC_data/y_data.pkl', 'rb'))\n",
    "# testing data\n",
    "X_test_tfidf = load_npz(\"data_compressed/X_test_tfidf.npz\")\n",
    "y_test = pickle.load(open('VNTC_data/y_test.pkl', 'rb'))"
   ]
  },
  {
   "cell_type": "code",
   "execution_count": 8,
   "metadata": {},
   "outputs": [
    {
     "name": "stdout",
     "output_type": "stream",
     "text": [
      "Validation accuracy:  0.8531793048973144\n",
      "Test accuracy:  0.8509121950251126\n"
     ]
    }
   ],
   "source": [
    "# train the model\n",
    "(tfidf_MultinomialNB, X_train, X_val, y_train, y_val) = trainModel(naive_bayes.MultinomialNB(), X_data_tfidf, y_data, X_test_tfidf, y_test, is_neuralnet=False)"
   ]
  },
  {
   "cell_type": "code",
   "execution_count": 52,
   "metadata": {},
   "outputs": [
    {
     "data": {
      "text/plain": [
       "['tfidf_MultinomialNB.joblib']"
      ]
     },
     "execution_count": 52,
     "metadata": {},
     "output_type": "execute_result"
    }
   ],
   "source": [
    "dump(tfidf_MultinomialNB, 'tfidf_MultinomialNB.joblib')"
   ]
  },
  {
   "cell_type": "code",
   "execution_count": 53,
   "metadata": {},
   "outputs": [],
   "source": [
    "tfidf_MultinomialNB = load('tfidf_MultinomialNB.joblib')"
   ]
  },
  {
   "cell_type": "code",
   "execution_count": 54,
   "metadata": {},
   "outputs": [
    {
     "name": "stdout",
     "output_type": "stream",
     "text": [
      "Chinh tri Xa hoi : 3671.0\n",
      "Doi song : 2185.0\n",
      "Khoa hoc : 1278.0\n",
      "Kinh doanh : 1753.0\n",
      "Phap luat : 2731.0\n",
      "Suc khoe : 2368.0\n",
      "The gioi : 2044.0\n",
      "The thao : 3724.0\n",
      "Van hoa : 2117.0\n",
      "Vi tinh : 1760.0\n",
      "Total: 23631.0\n"
     ]
    }
   ],
   "source": [
    "# stats about data used for training\n",
    "num_classes = 10\n",
    "for i in range(num_classes):\n",
    "    print(tfidf_MultinomialNB.classes_[i], \":\", tfidf_MultinomialNB.class_count_[i])\n",
    "print(\"Total:\", sum(tfidf_MultinomialNB.class_count_))"
   ]
  },
  {
   "cell_type": "code",
   "execution_count": 55,
   "metadata": {},
   "outputs": [],
   "source": [
    "y_train_labels = tfidf_MultinomialNB.predict(X_train)"
   ]
  },
  {
   "cell_type": "code",
   "execution_count": 56,
   "metadata": {},
   "outputs": [
    {
     "name": "stdout",
     "output_type": "stream",
     "text": [
      "The thao 4206\n",
      "Doi song 2682\n",
      "The gioi 2066\n",
      "Vi tinh 1813\n",
      "Kinh doanh 1573\n",
      "Khoa hoc 708\n",
      "Suc khoe 2936\n",
      "Chinh tri Xa hoi 5662\n",
      "Van hoa 2367\n",
      "Phap luat 2994\n"
     ]
    }
   ],
   "source": [
    "for i in set(sth):\n",
    "    print(i, sth.tolist().count(i))"
   ]
  },
  {
   "cell_type": "code",
   "execution_count": 57,
   "metadata": {},
   "outputs": [
    {
     "name": "stdout",
     "output_type": "stream",
     "text": [
      "                  precision    recall  f1-score   support\n",
      "\n",
      "Chinh tri Xa hoi       0.67      0.94      0.78      3671\n",
      "        Doi song       0.84      0.89      0.86      2185\n",
      "        Khoa hoc       0.99      0.45      0.62      1278\n",
      "      Kinh doanh       0.95      0.70      0.80      1753\n",
      "       Phap luat       0.94      0.90      0.92      2731\n",
      "        Suc khoe       0.87      0.93      0.90      2368\n",
      "        The gioi       0.96      0.85      0.90      2044\n",
      "        The thao       0.99      0.98      0.98      3724\n",
      "         Van hoa       0.94      0.91      0.92      2117\n",
      "         Vi tinh       0.96      0.87      0.91      1760\n",
      "\n",
      "       micro avg       0.87      0.87      0.87     23631\n",
      "       macro avg       0.91      0.84      0.86     23631\n",
      "    weighted avg       0.90      0.87      0.87     23631\n",
      "\n"
     ]
    }
   ],
   "source": [
    "y_data_predicted = tfidf_MultinomialNB.predict(X_train)\n",
    "print(metrics.classification_report(y_train, y_data_predicted))"
   ]
  },
  {
   "cell_type": "code",
   "execution_count": 58,
   "metadata": {},
   "outputs": [
    {
     "name": "stdout",
     "output_type": "stream",
     "text": [
      "                  precision    recall  f1-score   support\n",
      "\n",
      "Chinh tri Xa hoi       0.62      0.96      0.75      7567\n",
      "        Doi song       0.68      0.68      0.68      2036\n",
      "        Khoa hoc       0.98      0.33      0.49      2096\n",
      "      Kinh doanh       0.96      0.65      0.78      5276\n",
      "       Phap luat       0.89      0.87      0.88      3788\n",
      "        Suc khoe       0.88      0.93      0.90      5417\n",
      "        The gioi       0.96      0.85      0.90      6716\n",
      "        The thao       0.97      0.97      0.97      6667\n",
      "         Van hoa       0.92      0.91      0.92      6250\n",
      "         Vi tinh       0.95      0.85      0.90      4560\n",
      "\n",
      "       micro avg       0.85      0.85      0.85     50373\n",
      "       macro avg       0.88      0.80      0.82     50373\n",
      "    weighted avg       0.88      0.85      0.85     50373\n",
      "\n"
     ]
    }
   ],
   "source": [
    "y_data_predicted = tfidf_MultinomialNB.predict(X_test_tfidf)\n",
    "print(metrics.classification_report(y_test, y_data_predicted))"
   ]
  },
  {
   "cell_type": "code",
   "execution_count": 59,
   "metadata": {},
   "outputs": [],
   "source": [
    "from sklearn.feature_extraction.text import TfidfVectorizer\n",
    "# Load the data (python list)\n",
    "X_data = pickle.load(open('VNTC_data/X_data.pkl', 'rb'))\n",
    "y_data = pickle.load(open('VNTC_data/y_data.pkl', 'rb'))\n",
    "\n",
    "X_test = pickle.load(open('VNTC_data/X_test.pkl', 'rb'))\n",
    "y_test = pickle.load(open('VNTC_data/y_test.pkl', 'rb'))\n",
    "\n",
    "# word level - we choose max number of words equal to 30000 except all words (100k+ words)\n",
    "tfidf_vect = TfidfVectorizer(analyzer='word', max_features=30000)\n",
    "tfidf_vect.fit(X_data) # learn vocabulary and idf from training set\n",
    "X_data_tfidf =  tfidf_vect.transform(X_data)\n",
    "# assume that we don't have test set before\n",
    "X_test_tfidf =  tfidf_vect.transform(X_test)"
   ]
  },
  {
   "cell_type": "code",
   "execution_count": 64,
   "metadata": {},
   "outputs": [],
   "source": [
    "with open('tfidf_vect_feature_names.txt', 'w', encoding='utf-8') as feature_file:\n",
    "    for i in tfidf_vect.get_feature_names():\n",
    "        feature_file.write('%s \\n' %i)\n",
    "feature_file.close()"
   ]
  },
  {
   "cell_type": "code",
   "execution_count": 2,
   "metadata": {},
   "outputs": [],
   "source": [
    "with open('vietnamese-stopwords-dash.txt', 'r', encoding='utf-8') as stop_words_file:\n",
    "    stop_words = stop_words_file.readlines()\n",
    "    stop_words_file.close()\n",
    "with open('tfidf_vect_feature_names.txt', 'r', encoding='utf-8') as feature_file:\n",
    "    feature_names = feature_file.readlines()\n",
    "    feature_file.close()"
   ]
  },
  {
   "cell_type": "code",
   "execution_count": 11,
   "metadata": {},
   "outputs": [
    {
     "name": "stdout",
     "output_type": "stream",
     "text": [
      "670\n"
     ]
    }
   ],
   "source": [
    "count = 0\n",
    "for i in stop_words:\n",
    "    for j in feature_names:\n",
    "        if i.rstrip().strip() == j.rstrip().strip():\n",
    "            count += 1\n",
    "print(count)"
   ]
  },
  {
   "cell_type": "code",
   "execution_count": 12,
   "metadata": {},
   "outputs": [
    {
     "name": "stdout",
     "output_type": "stream",
     "text": [
      "30000\n"
     ]
    }
   ],
   "source": [
    "print(len(feature_names))"
   ]
  },
  {
   "cell_type": "code",
   "execution_count": 13,
   "metadata": {},
   "outputs": [
    {
     "name": "stdout",
     "output_type": "stream",
     "text": [
      "1942\n"
     ]
    }
   ],
   "source": [
    "print(len(stop_words))"
   ]
  },
  {
   "cell_type": "code",
   "execution_count": 15,
   "metadata": {},
   "outputs": [],
   "source": [
    "\n",
    "# Load the data (python list)\n",
    "X_data = pickle.load(open('VNTC_data/X_data.pkl', 'rb'))\n",
    "y_data = pickle.load(open('VNTC_data/y_data.pkl', 'rb'))\n",
    "\n",
    "X_test = pickle.load(open('VNTC_data/X_test.pkl', 'rb'))\n",
    "y_test = pickle.load(open('VNTC_data/y_test.pkl', 'rb'))"
   ]
  },
  {
   "cell_type": "code",
   "execution_count": 21,
   "metadata": {},
   "outputs": [],
   "source": [
    "# remove stopwords\n",
    "\n",
    "def removeStopwords(data):\n",
    "    # import stopwords\n",
    "    with open('vietnamese-stopwords-dash.txt', 'r', encoding='utf-8') as stop_words_file:\n",
    "        stop_words = stop_words_file.readlines()\n",
    "        stop_words_file.close()\n",
    "    # remove words\n",
    "    new_data = []\n",
    "    for text in tqdm(data):\n",
    "        temp_data = text\n",
    "        for word in stop_words:\n",
    "            temp_data = temp_data.replace(word.rstrip().strip(), '')\n",
    "        new_data.append(temp_data)\n",
    "    return new_data"
   ]
  },
  {
   "cell_type": "code",
   "execution_count": 22,
   "metadata": {},
   "outputs": [
    {
     "data": {
      "application/vnd.jupyter.widget-view+json": {
       "model_id": "40ef8a96cfc3442da642b6c8f9074830",
       "version_major": 2,
       "version_minor": 0
      },
      "text/plain": [
       "HBox(children=(FloatProgress(value=0.0, max=33759.0), HTML(value='')))"
      ]
     },
     "metadata": {},
     "output_type": "display_data"
    },
    {
     "name": "stdout",
     "output_type": "stream",
     "text": [
      "\n"
     ]
    }
   ],
   "source": [
    "X_data_stopwords = removeStopwords(X_data)"
   ]
  },
  {
   "cell_type": "code",
   "execution_count": 23,
   "metadata": {},
   "outputs": [
    {
     "data": {
      "application/vnd.jupyter.widget-view+json": {
       "model_id": "d0de0b01e41c436c96fe6074f98853e7",
       "version_major": 2,
       "version_minor": 0
      },
      "text/plain": [
       "HBox(children=(FloatProgress(value=0.0, max=50373.0), HTML(value='')))"
      ]
     },
     "metadata": {},
     "output_type": "display_data"
    },
    {
     "name": "stdout",
     "output_type": "stream",
     "text": [
      "\n"
     ]
    }
   ],
   "source": [
    "X_test_stopwords = removeStopwords(X_test)"
   ]
  },
  {
   "cell_type": "code",
   "execution_count": null,
   "metadata": {},
   "outputs": [],
   "source": []
  },
  {
   "cell_type": "code",
   "execution_count": 25,
   "metadata": {},
   "outputs": [
    {
     "name": "stdout",
     "output_type": "stream",
     "text": [
      "['a_lô', 'a_ha', 'ai', 'ai_ai', 'ai_nấy', 'ai_đó', 'alô', 'amen', 'anh', 'anh_ấy', 'ba', 'ba_ba', 'ba_bản', 'ba_cùng', 'ba_họ', 'ba_ngày', 'ba_ngôi', 'ba_tăng', 'bao_giờ', 'bao_lâu', 'bao_nhiêu', 'bao_nả', 'bay_biến', 'biết', 'biết_bao', 'biết_bao_nhiêu', 'biết_chắc', 'biết_chừng_nào', 'biết_mình', 'biết_mấy', 'biết_thế', 'biết_trước', 'biết_việc', 'biết_đâu', 'biết_đâu_chừng', 'biết_đâu_đấy', 'biết_được', 'buổi', 'buổi_làm', 'buổi_mới', 'buổi_ngày', 'buổi_sớm', 'bà', 'bà_ấy', 'bài', 'bài_bác', 'bài_bỏ', 'bài_cái', 'bác', 'bán', 'bán_cấp', 'bán_dạ', 'bán_thế', 'bây_bẩy', 'bây_chừ', 'bây_giờ', 'bây_nhiêu', 'bèn', 'béng', 'bên', 'bên_bị', 'bên_có', 'bên_cạnh', 'bông', 'bước', 'bước_khỏi', 'bước_tới', 'bước_đi', 'bạn', 'bản', 'bản_bộ', 'bản_riêng', 'bản_thân', 'bản_ý', 'bất_chợt', 'bất_cứ', 'bất_giác', 'bất_kì', 'bất_kể', 'bất_kỳ', 'bất_luận', 'bất_ngờ', 'bất_nhược', 'bất_quá', 'bất_quá_chỉ', 'bất_thình_lình', 'bất_tử', 'bất_đồ', 'bấy', 'bấy_chầy', 'bấy_chừ', 'bấy_giờ', 'bấy_lâu', 'bấy_lâu_nay', 'bấy_nay', 'bấy_nhiêu', 'bập_bà_bập_bõm', 'bập_bõm', 'bắt_đầu', 'bắt_đầu_từ', 'bằng', 'bằng_cứ', 'bằng_không', 'bằng_người', 'bằng_nhau', 'bằng_như', 'bằng_nào', 'bằng_nấy', 'bằng_vào', 'bằng_được', 'bằng_ấy', 'bển', 'bệt', 'bị', 'bị_chú', 'bị_vì', 'bỏ', 'bỏ_bà', 'bỏ_cha', 'bỏ_cuộc', 'bỏ_không', 'bỏ_lại', 'bỏ_mình', 'bỏ_mất', 'bỏ_mẹ', 'bỏ_nhỏ', 'bỏ_quá', 'bỏ_ra', 'bỏ_riêng', 'bỏ_việc', 'bỏ_xa', 'bỗng', 'bỗng_chốc', 'bỗng_dưng', 'bỗng_không', 'bỗng_nhiên', 'bỗng_nhưng', 'bỗng_thấy', 'bỗng_đâu', 'bộ', 'bộ_thuộc', 'bộ_điều', 'bội_phần', 'bớ', 'bởi', 'bởi_ai', 'bởi_chưng', 'bởi_nhưng', 'bởi_sao', 'bởi_thế', 'bởi_thế_cho_nên', 'bởi_tại', 'bởi_vì', 'bởi_vậy', 'bởi_đâu', 'bức', 'cao', 'cao_lâu', 'cao_ráo', 'cao_răng', 'cao_sang', 'cao_số', 'cao_thấp', 'cao_thế', 'cao_xa', 'cha', 'cha_chả', 'chao_ôi', 'chia_sẻ', 'chiếc', 'cho', 'cho_biết', 'cho_chắc', 'cho_hay', 'cho_nhau', 'cho_nên', 'cho_rằng', 'cho_rồi', 'cho_thấy', 'cho_tin', 'cho_tới', 'cho_tới_khi', 'cho_về', 'cho_ăn', 'cho_đang', 'cho_được', 'cho_đến', 'cho_đến_khi', 'cho_đến_nỗi', 'choa', 'chu_cha', 'chui_cha', 'chung', 'chung_cho', 'chung_chung', 'chung_cuộc', 'chung_cục', 'chung_nhau', 'chung_qui', 'chung_quy', 'chung_quy_lại', 'chung_ái', 'chuyển', 'chuyển_tự', 'chuyển_đạt', 'chuyện', 'chuẩn_bị', 'chành_chạnh', 'chí_chết', 'chính', 'chính_bản', 'chính_giữa', 'chính_là', 'chính_thị', 'chính_điểm', 'chùn_chùn', 'chùn_chũn', 'chú', 'chú_dẫn', 'chú_khách', 'chú_mày', 'chú_mình', 'chúng', 'chúng_mình', 'chúng_ta', 'chúng_tôi', 'chúng_ông', 'chăn_chắn', 'chăng', 'chăng_chắc', 'chăng_nữa', 'chơi', 'chơi_họ', 'chưa', 'chưa_bao_giờ', 'chưa_chắc', 'chưa_có', 'chưa_cần', 'chưa_dùng', 'chưa_dễ', 'chưa_kể', 'chưa_tính', 'chưa_từng', 'chầm_chập', 'chậc', 'chắc', 'chắc_chắn', 'chắc_dạ', 'chắc_hẳn', 'chắc_lòng', 'chắc_người', 'chắc_vào', 'chắc_ăn', 'chẳng_lẽ', 'chẳng_những', 'chẳng_nữa', 'chẳng_phải', 'chết_nỗi', 'chết_thật', 'chết_tiệt', 'chỉ', 'chỉ_chính', 'chỉ_có', 'chỉ_là', 'chỉ_tên', 'chỉn', 'chị', 'chị_bộ', 'chị_ấy', 'chịu', 'chịu_chưa', 'chịu_lời', 'chịu_tốt', 'chịu_ăn', 'chọn', 'chọn_bên', 'chọn_ra', 'chốc_chốc', 'chớ', 'chớ_chi', 'chớ_gì', 'chớ_không', 'chớ_kể', 'chớ_như', 'chợt', 'chợt_nghe', 'chợt_nhìn', 'chủn', 'chứ', 'chứ_ai', 'chứ_còn', 'chứ_gì', 'chứ_không', 'chứ_không_phải', 'chứ_lại', 'chứ_lị', 'chứ_như', 'chứ_sao', 'coi_bộ', 'coi_mòi', 'con', 'con_con', 'con_dạ', 'con_nhà', 'con_tính', 'cu_cậu', 'cuối', 'cuối_cùng', 'cuối_điểm', 'cuốn', 'cuộc', 'càng', 'càng_càng', 'càng_hay', 'cá_nhân', 'các', 'các_cậu', 'cách', 'cách_bức', 'cách_không', 'cách_nhau', 'cách_đều', 'cái', 'cái_gì', 'cái_họ', 'cái_đã', 'cái_đó', 'cái_ấy', 'câu_hỏi', 'cây', 'cây_nước', 'còn', 'còn_như', 'còn_nữa', 'còn_thời_gian', 'còn_về', 'có', 'có_ai', 'có_chuyện', 'có_chăng', 'có_chăng_là', 'có_chứ', 'có_cơ', 'có_dễ', 'có_họ', 'có_khi', 'có_ngày', 'có_người', 'có_nhiều', 'có_nhà', 'có_phải', 'có_số', 'có_tháng', 'có_thế', 'có_thể', 'có_vẻ', 'có_ý', 'có_ăn', 'có_điều', 'có_điều_kiện', 'có_đáng', 'có_đâu', 'có_được', 'cóc_khô', 'cô', 'cô_mình', 'cô_quả', 'cô_tăng', 'cô_ấy', 'công_nhiên', 'cùng', 'cùng_chung', 'cùng_cực', 'cùng_nhau', 'cùng_tuổi', 'cùng_tột', 'cùng_với', 'cùng_ăn', 'căn', 'căn_cái', 'căn_cắt', 'căn_tính', 'cũng', 'cũng_như', 'cũng_nên', 'cũng_thế', 'cũng_vậy', 'cũng_vậy_thôi', 'cũng_được', 'cơ', 'cơ_chỉ', 'cơ_chừng', 'cơ_cùng', 'cơ_dẫn', 'cơ_hồ', 'cơ_hội', 'cơ_mà', 'cơn', 'cả', 'cả_nghe', 'cả_nghĩ', 'cả_ngày', 'cả_người', 'cả_nhà', 'cả_năm', 'cả_thảy', 'cả_thể', 'cả_tin', 'cả_ăn', 'cả_đến', 'cảm_thấy', 'cảm_ơn', 'cấp', 'cấp_số', 'cấp_trực_tiếp', 'cần', 'cần_cấp', 'cần_gì', 'cần_số', 'cật_lực', 'cật_sức', 'cậu', 'cổ_lai', 'cụ_thể', 'cụ_thể_là', 'cụ_thể_như', 'của', 'của_ngọt', 'của_tin', 'cứ', 'cứ_như', 'cứ_việc', 'cứ_điểm', 'cực_lực', 'do', 'do_vì', 'do_vậy', 'do_đó', 'duy', 'duy_chỉ', 'duy_có', 'dài', 'dài_lời', 'dài_ra', 'dành', 'dành_dành', 'dào', 'dì', 'dù', 'dù_cho', 'dù_dì', 'dù_gì', 'dù_rằng', 'dù_sao', 'dùng', 'dùng_cho', 'dùng_hết', 'dùng_làm', 'dùng_đến', 'dưới', 'dưới_nước', 'dạ', 'dạ_bán', 'dạ_con', 'dạ_dài', 'dạ_dạ', 'dạ_khách', 'dần_dà', 'dần_dần', 'dầu_sao', 'dẫn', 'dẫu', 'dẫu_mà', 'dẫu_rằng', 'dẫu_sao', 'dễ', 'dễ_dùng', 'dễ_gì', 'dễ_khiến', 'dễ_nghe', 'dễ_ngươi', 'dễ_như_chơi', 'dễ_sợ', 'dễ_sử_dụng', 'dễ_thường', 'dễ_thấy', 'dễ_ăn', 'dễ_đâu', 'dở_chừng', 'dữ', 'dữ_cách', 'em', 'em_em', 'giá_trị', 'giá_trị_thực_tế', 'giảm', 'giảm_chính', 'giảm_thấp', 'giảm_thế', 'giống', 'giống_người', 'giống_nhau', 'giống_như', 'giờ', 'giờ_lâu', 'giờ_này', 'giờ_đi', 'giờ_đây', 'giờ_đến', 'giữ', 'giữ_lấy', 'giữ_ý', 'giữa', 'giữa_lúc', 'gây', 'gây_cho', 'gây_giống', 'gây_ra', 'gây_thêm', 'gì', 'gì_gì', 'gì_đó', 'gần', 'gần_bên', 'gần_hết', 'gần_ngày', 'gần_như', 'gần_xa', 'gần_đây', 'gần_đến', 'gặp', 'gặp_khó_khăn', 'gặp_phải', 'gồm', 'hay', 'hay_biết', 'hay_hay', 'hay_không', 'hay_là', 'hay_làm', 'hay_nhỉ', 'hay_nói', 'hay_sao', 'hay_tin', 'hay_đâu', 'hiểu', 'hiện_nay', 'hiện_tại', 'hoàn_toàn', 'hoặc', 'hoặc_là', 'hãy', 'hãy_còn', 'hơn', 'hơn_cả', 'hơn_hết', 'hơn_là', 'hơn_nữa', 'hơn_trước', 'hầu_hết', 'hết', 'hết_chuyện', 'hết_cả', 'hết_của', 'hết_nói', 'hết_ráo', 'hết_rồi', 'hết_ý', 'họ', 'họ_gần', 'họ_xa', 'hỏi', 'hỏi_lại', 'hỏi_xem', 'hỏi_xin', 'hỗ_trợ', 'khi', 'khi_khác', 'khi_không', 'khi_nào', 'khi_nên', 'khi_trước', 'khiến', 'khoảng', 'khoảng_cách', 'khoảng_không', 'khá', 'khá_tốt', 'khác', 'khác_gì', 'khác_khác', 'khác_nhau', 'khác_nào', 'khác_thường', 'khác_xa', 'khách', 'khó', 'khó_biết', 'khó_chơi', 'khó_khăn', 'khó_làm', 'khó_mở', 'khó_nghe', 'khó_nghĩ', 'khó_nói', 'khó_thấy', 'khó_tránh', 'không', 'không_ai', 'không_bao_giờ', 'không_bao_lâu', 'không_biết', 'không_bán', 'không_chỉ', 'không_còn', 'không_có', 'không_có_gì', 'không_cùng', 'không_cần', 'không_cứ', 'không_dùng', 'không_gì', 'không_hay', 'không_khỏi', 'không_kể', 'không_ngoài', 'không_nhận', 'không_những', 'không_phải', 'không_phải_không', 'không_thể', 'không_tính', 'không_điều_kiện', 'không_được', 'không_đầy', 'không_để', 'khẳng_định', 'khỏi', 'khỏi_nói', 'kể', 'kể_cả', 'kể_như', 'kể_tới', 'kể_từ', 'liên_quan', 'loại', 'loại_từ', 'luôn', 'luôn_cả', 'luôn_luôn', 'luôn_tay', 'là', 'là_cùng', 'là_là', 'là_nhiều', 'là_phải', 'là_thế_nào', 'là_vì', 'là_ít', 'làm', 'làm_bằng', 'làm_cho', 'làm_dần_dần', 'làm_gì', 'làm_lòng', 'làm_lại', 'làm_lấy', 'làm_mất', 'làm_ngay', 'làm_như', 'làm_nên', 'làm_ra', 'làm_riêng', 'làm_sao', 'làm_theo', 'làm_thế_nào', 'làm_tin', 'làm_tôi', 'làm_tăng', 'làm_tại', 'làm_tắp_lự', 'làm_vì', 'làm_đúng', 'làm_được', 'lâu', 'lâu_các', 'lâu_lâu', 'lâu_nay', 'lâu_ngày', 'lên', 'lên_cao', 'lên_cơn', 'lên_mạnh', 'lên_ngôi', 'lên_nước', 'lên_số', 'lên_xuống', 'lên_đến', 'lòng', 'lòng_không', 'lúc', 'lúc_khác', 'lúc_lâu', 'lúc_nào', 'lúc_này', 'lúc_sáng', 'lúc_trước', 'lúc_đi', 'lúc_đó', 'lúc_đến', 'lúc_ấy', 'lý_do', 'lượng', 'lượng_cả', 'lượng_số', 'lượng_từ', 'lại', 'lại_bộ', 'lại_cái', 'lại_còn', 'lại_giống', 'lại_làm', 'lại_người', 'lại_nói', 'lại_nữa', 'lại_quả', 'lại_thôi', 'lại_ăn', 'lại_đây', 'lấy', 'lấy_có', 'lấy_cả', 'lấy_giống', 'lấy_làm', 'lấy_lý_do', 'lấy_lại', 'lấy_ra', 'lấy_ráo', 'lấy_sau', 'lấy_số', 'lấy_thêm', 'lấy_thế', 'lấy_vào', 'lấy_xuống', 'lấy_được', 'lấy_để', 'lần', 'lần_khác', 'lần_lần', 'lần_nào', 'lần_này', 'lần_sang', 'lần_sau', 'lần_theo', 'lần_trước', 'lần_tìm', 'lớn', 'lớn_lên', 'lớn_nhỏ', 'lời', 'lời_chú', 'lời_nói', 'mang', 'mang_lại', 'mang_mang', 'mang_nặng', 'mang_về', 'muốn', 'mà', 'mà_cả', 'mà_không', 'mà_lại', 'mà_thôi', 'mà_vẫn', 'mình', 'mạnh', 'mất', 'mất_còn', 'mọi', 'mọi_giờ', 'mọi_khi', 'mọi_lúc', 'mọi_người', 'mọi_nơi', 'mọi_sự', 'mọi_thứ', 'mọi_việc', 'mối', 'mỗi', 'mỗi_lúc', 'mỗi_lần', 'mỗi_một', 'mỗi_ngày', 'mỗi_người', 'một', 'một_cách', 'một_cơn', 'một_khi', 'một_lúc', 'một_số', 'một_vài', 'một_ít', 'mới', 'mới_hay', 'mới_rồi', 'mới_đây', 'mở', 'mở_mang', 'mở_nước', 'mở_ra', 'mợ', 'mức', 'nay', 'ngay', 'ngay_bây_giờ', 'ngay_cả', 'ngay_khi', 'ngay_khi_đến', 'ngay_lúc', 'ngay_lúc_này', 'ngay_lập_tức', 'ngay_thật', 'ngay_tức_khắc', 'ngay_tức_thì', 'ngay_từ', 'nghe', 'nghe_chừng', 'nghe_hiểu', 'nghe_không', 'nghe_lại', 'nghe_nhìn', 'nghe_như', 'nghe_nói', 'nghe_ra', 'nghe_rõ', 'nghe_thấy', 'nghe_tin', 'nghe_trực_tiếp', 'nghe_đâu', 'nghe_đâu_như', 'nghe_được', 'nghen', 'nghiễm_nhiên', 'nghĩ', 'nghĩ_lại', 'nghĩ_ra', 'nghĩ_tới', 'nghĩ_xa', 'nghĩ_đến', 'nghỉm', 'ngoài', 'ngoài_này', 'ngoài_ra', 'ngoài_xa', 'ngoải', 'nguồn', 'ngày', 'ngày_càng', 'ngày_cấp', 'ngày_giờ', 'ngày_ngày', 'ngày_nào', 'ngày_này', 'ngày_nọ', 'ngày_qua', 'ngày_rày', 'ngày_tháng', 'ngày_xưa', 'ngày_xửa', 'ngày_đến', 'ngày_ấy', 'ngôi', 'ngôi_nhà', 'ngôi_thứ', 'ngõ_hầu', 'ngăn_ngắt', 'ngươi', 'người', 'người_hỏi', 'người_khác', 'người_khách', 'người_mình', 'người_nghe', 'người_người', 'người_nhận', 'ngọn', 'ngọn_nguồn', 'ngọt', 'ngồi', 'ngồi_bệt', 'ngồi_không', 'ngồi_sau', 'ngồi_trệt', 'ngộ_nhỡ', 'nhanh', 'nhanh_lên', 'nhanh_tay', 'nhau', 'nhiên_hậu', 'nhiều', 'nhiều_ít', 'nhiệt_liệt', 'nhung_nhăng', 'nhà', 'nhà_chung', 'nhà_khó', 'nhà_làm', 'nhà_ngoài', 'nhà_ngươi', 'nhà_tôi', 'nhà_việc', 'nhân_dịp', 'nhân_tiện', 'nhé', 'nhìn', 'nhìn_chung', 'nhìn_lại', 'nhìn_nhận', 'nhìn_theo', 'nhìn_thấy', 'nhìn_xuống', 'nhóm', 'nhón_nhén', 'như', 'như_ai', 'như_chơi', 'như_không', 'như_là', 'như_nhau', 'như_quả', 'như_sau', 'như_thường', 'như_thế', 'như_thế_nào', 'như_thể', 'như_trên', 'như_trước', 'như_tuồng', 'như_vậy', 'như_ý', 'nhưng', 'nhưng_mà', 'nhược_bằng', 'nhất', 'nhất_loạt', 'nhất_luật', 'nhất_là', 'nhất_mực', 'nhất_nhất', 'nhất_quyết', 'nhất_sinh', 'nhất_thiết', 'nhất_thì', 'nhất_tâm', 'nhất_tề', 'nhất_đán', 'nhất_định', 'nhận', 'nhận_biết', 'nhận_họ', 'nhận_làm', 'nhận_nhau', 'nhận_ra', 'nhận_thấy', 'nhận_việc', 'nhận_được', 'nhằm', 'nhằm_khi', 'nhằm_lúc', 'nhằm_vào', 'nhằm_để', 'nhỉ', 'nhỏ', 'nhỏ_người', 'nhớ', 'nhớ_bập_bõm', 'nhớ_lại', 'nhớ_lấy', 'nhớ_ra', 'nhờ', 'nhờ_chuyển', 'nhờ_có', 'nhờ_nhờ', 'nhờ_đó', 'nhỡ_ra', 'những', 'những_ai', 'những_khi', 'những_là', 'những_lúc', 'những_muốn', 'những_như', 'nào', 'nào_cũng', 'nào_hay', 'nào_là', 'nào_phải', 'nào_đâu', 'nào_đó', 'này', 'này_nọ', 'nên', 'nên_chi', 'nên_chăng', 'nên_làm', 'nên_người', 'nên_tránh', 'nó', 'nóc', 'nói', 'nói_bông', 'nói_chung', 'nói_khó', 'nói_là', 'nói_lên', 'nói_lại', 'nói_nhỏ', 'nói_phải', 'nói_qua', 'nói_ra', 'nói_riêng', 'nói_rõ', 'nói_thêm', 'nói_thật', 'nói_toẹt', 'nói_trước', 'nói_tốt', 'nói_với', 'nói_xa', 'nói_ý', 'nói_đến', 'nói_đủ', 'năm', 'năm_tháng', 'nơi', 'nơi_nơi', 'nước', 'nước_bài', 'nước_cùng', 'nước_lên', 'nước_nặng', 'nước_quả', 'nước_xuống', 'nước_ăn', 'nước_đến', 'nấy', 'nặng', 'nặng_căn', 'nặng_mình', 'nặng_về', 'nếu', 'nếu_có', 'nếu_cần', 'nếu_không', 'nếu_mà', 'nếu_như', 'nếu_thế', 'nếu_vậy', 'nếu_được', 'nền', 'nọ', 'nớ', 'nức_nở', 'nữa', 'nữa_khi', 'nữa_là', 'nữa_rồi', 'oai_oái', 'oái', 'pho', 'phè', 'phè_phè', 'phía', 'phía_bên', 'phía_bạn', 'phía_dưới', 'phía_sau', 'phía_trong', 'phía_trên', 'phía_trước', 'phóc', 'phót', 'phù_hợp', 'phăn_phắt', 'phương_chi', 'phải', 'phải_biết', 'phải_chi', 'phải_chăng', 'phải_cách', 'phải_cái', 'phải_giờ', 'phải_khi', 'phải_không', 'phải_lại', 'phải_lời', 'phải_người', 'phải_như', 'phải_rồi', 'phải_tay', 'phần', 'phần_lớn', 'phần_nhiều', 'phần_nào', 'phần_sau', 'phần_việc', 'phắt', 'phỉ_phui', 'phỏng', 'phỏng_như', 'phỏng_nước', 'phỏng_theo', 'phỏng_tính', 'phốc', 'phụt', 'phứt', 'qua', 'qua_chuyện', 'qua_khỏi', 'qua_lại', 'qua_lần', 'qua_ngày', 'qua_tay', 'qua_thì', 'qua_đi', 'quan_trọng', 'quan_trọng_vấn_đề', 'quan_tâm', 'quay', 'quay_bước', 'quay_lại', 'quay_số', 'quay_đi', 'quá', 'quá_bán', 'quá_bộ', 'quá_giờ', 'quá_lời', 'quá_mức', 'quá_nhiều', 'quá_tay', 'quá_thì', 'quá_tin', 'quá_trình', 'quá_tuổi', 'quá_đáng', 'quá_ư', 'quả', 'quả_là', 'quả_thật', 'quả_thế', 'quả_vậy', 'quận', 'ra', 'ra_bài', 'ra_bộ', 'ra_chơi', 'ra_gì', 'ra_lại', 'ra_lời', 'ra_ngôi', 'ra_người', 'ra_sao', 'ra_tay', 'ra_vào', 'ra_ý', 'ra_điều', 'ra_đây', 'ren_rén', 'riu_ríu', 'riêng', 'riêng_từng', 'riệt', 'rày', 'ráo', 'ráo_cả', 'ráo_nước', 'ráo_trọi', 'rén', 'rén_bước', 'rích', 'rón_rén', 'rõ', 'rõ_là', 'rõ_thật', 'rút_cục', 'răng', 'răng_răng', 'rất', 'rất_lâu', 'rằng', 'rằng_là', 'rốt_cuộc', 'rốt_cục', 'rồi', 'rồi_nữa', 'rồi_ra', 'rồi_sao', 'rồi_sau', 'rồi_tay', 'rồi_thì', 'rồi_xem', 'rồi_đây', 'rứa', 'sa_sả', 'sang', 'sang_năm', 'sang_sáng', 'sang_tay', 'sao', 'sao_bản', 'sao_bằng', 'sao_cho', 'sao_vậy', 'sao_đang', 'sau', 'sau_chót', 'sau_cuối', 'sau_cùng', 'sau_hết', 'sau_này', 'sau_nữa', 'sau_sau', 'sau_đây', 'sau_đó', 'so', 'so_với', 'song_le', 'suýt', 'suýt_nữa', 'sáng', 'sáng_ngày', 'sáng_rõ', 'sáng_thế', 'sáng_ý', 'sì', 'sì_sì', 'sất', 'sắp', 'sắp_đặt', 'sẽ', 'sẽ_biết', 'sẽ_hay', 'số', 'số_cho_biết', 'số_cụ_thể', 'số_loại', 'số_là', 'số_người', 'số_phần', 'số_thiếu', 'sốt_sột', 'sớm', 'sớm_ngày', 'sở_dĩ', 'sử_dụng', 'sự', 'sự_thế', 'sự_việc', 'tanh', 'tanh_tanh', 'tay', 'tay_quay', 'tha_hồ', 'tha_hồ_chơi', 'tha_hồ_ăn', 'than_ôi', 'thanh', 'thanh_ba', 'thanh_chuyển', 'thanh_không', 'thanh_thanh', 'thanh_tính', 'thanh_điều_kiện', 'thanh_điểm', 'thay_đổi', 'thay_đổi_tình_trạng', 'theo', 'theo_bước', 'theo_như', 'theo_tin', 'thi_thoảng', 'thiếu', 'thiếu_gì', 'thiếu_điểm', 'thoạt', 'thoạt_nghe', 'thoạt_nhiên', 'thoắt', 'thuần', 'thuần_ái', 'thuộc', 'thuộc_bài', 'thuộc_cách', 'thuộc_lại', 'thuộc_từ', 'thà', 'thà_là', 'thà_rằng', 'thành_ra', 'thành_thử', 'thái_quá', 'tháng', 'tháng_ngày', 'tháng_năm', 'tháng_tháng', 'thêm', 'thêm_chuyện', 'thêm_giờ', 'thêm_vào', 'thì', 'thì_giờ', 'thì_là', 'thì_phải', 'thì_ra', 'thì_thôi', 'thình_lình', 'thích', 'thích_cứ', 'thích_thuộc', 'thích_tự', 'thích_ý', 'thím', 'thôi', 'thôi_việc', 'thúng_thắng', 'thương_ôi', 'thường', 'thường_bị', 'thường_hay', 'thường_khi', 'thường_số', 'thường_sự', 'thường_thôi', 'thường_thường', 'thường_tính', 'thường_tại', 'thường_xuất_hiện', 'thường_đến', 'thảo_hèn', 'thảo_nào', 'thấp', 'thấp_cơ', 'thấp_thỏm', 'thấp_xuống', 'thấy', 'thấy_tháng', 'thẩy', 'thậm', 'thậm_chí', 'thậm_cấp', 'thậm_từ', 'thật', 'thật_chắc', 'thật_là', 'thật_lực', 'thật_quả', 'thật_ra', 'thật_sự', 'thật_thà', 'thật_tốt', 'thật_vậy', 'thế', 'thế_chuẩn_bị', 'thế_là', 'thế_lại', 'thế_mà', 'thế_nào', 'thế_nên', 'thế_ra', 'thế_sự', 'thế_thì', 'thế_thôi', 'thế_thường', 'thế_thế', 'thế_à', 'thế_đó', 'thếch', 'thỉnh_thoảng', 'thỏm', 'thốc', 'thốc_tháo', 'thốt', 'thốt_nhiên', 'thốt_nói', 'thốt_thôi', 'thộc', 'thời_gian', 'thời_gian_sử_dụng', 'thời_gian_tính', 'thời_điểm', 'thục_mạng', 'thứ', 'thứ_bản', 'thứ_đến', 'thửa', 'thực_hiện', 'thực_hiện_đúng', 'thực_ra', 'thực_sự', 'thực_tế', 'thực_vậy', 'tin', 'tin_thêm', 'tin_vào', 'tiếp_theo', 'tiếp_tục', 'tiếp_đó', 'tiện_thể', 'toà', 'toé_khói', 'toẹt', 'trong', 'trong_khi', 'trong_lúc', 'trong_mình', 'trong_ngoài', 'trong_này', 'trong_số', 'trong_vùng', 'trong_đó', 'trong_ấy', 'tránh', 'tránh_khỏi', 'tránh_ra', 'tránh_tình_trạng', 'tránh_xa', 'trên', 'trên_bộ', 'trên_dưới', 'trước', 'trước_hết', 'trước_khi', 'trước_kia', 'trước_nay', 'trước_ngày', 'trước_nhất', 'trước_sau', 'trước_tiên', 'trước_tuổi', 'trước_đây', 'trước_đó', 'trả', 'trả_của', 'trả_lại', 'trả_ngay', 'trả_trước', 'trếu_tráo', 'trển', 'trệt', 'trệu_trạo', 'trỏng', 'trời_đất_ơi', 'trở_thành', 'trừ_phi', 'trực_tiếp', 'trực_tiếp_làm', 'tuy', 'tuy_có', 'tuy_là', 'tuy_nhiên', 'tuy_rằng', 'tuy_thế', 'tuy_vậy', 'tuy_đã', 'tuyệt_nhiên', 'tuần_tự', 'tuốt_luốt', 'tuốt_tuồn_tuột', 'tuốt_tuột', 'tuổi', 'tuổi_cả', 'tuổi_tôi', 'tà_tà', 'tên', 'tên_chính', 'tên_cái', 'tên_họ', 'tên_tự', 'tênh', 'tênh_tênh', 'tìm', 'tìm_bạn', 'tìm_cách', 'tìm_hiểu', 'tìm_ra', 'tìm_việc', 'tình_trạng', 'tính', 'tính_cách', 'tính_căn', 'tính_người', 'tính_phỏng', 'tính_từ', 'tít_mù', 'tò_te', 'tôi', 'tôi_con', 'tông_tốc', 'tù_tì', 'tăm_tắp', 'tăng', 'tăng_chúng', 'tăng_cấp', 'tăng_giảm', 'tăng_thêm', 'tăng_thế', 'tại', 'tại_lòng', 'tại_nơi', 'tại_sao', 'tại_tôi', 'tại_vì', 'tại_đâu', 'tại_đây', 'tại_đó', 'tạo', 'tạo_cơ_hội', 'tạo_nên', 'tạo_ra', 'tạo_ý', 'tạo_điều_kiện', 'tấm', 'tấm_bản', 'tấm_các', 'tấn', 'tấn_tới', 'tất_cả', 'tất_cả_bao_nhiêu', 'tất_thảy', 'tất_tần_tật', 'tất_tật', 'tập_trung', 'tắp', 'tắp_lự', 'tắp_tắp', 'tọt', 'tỏ_ra', 'tỏ_vẻ', 'tốc_tả', 'tối_ư', 'tốt', 'tốt_bạn', 'tốt_bộ', 'tốt_hơn', 'tốt_mối', 'tốt_ngày', 'tột', 'tột_cùng', 'tớ', 'tới', 'tới_gần', 'tới_mức', 'tới_nơi', 'tới_thì', 'tức_thì', 'tức_tốc', 'từ', 'từ_căn', 'từ_giờ', 'từ_khi', 'từ_loại', 'từ_nay', 'từ_thế', 'từ_tính', 'từ_tại', 'từ_từ', 'từ_ái', 'từ_điều', 'từ_đó', 'từ_ấy', 'từng', 'từng_cái', 'từng_giờ', 'từng_nhà', 'từng_phần', 'từng_thời_gian', 'từng_đơn_vị', 'từng_ấy', 'tự', 'tự_cao', 'tự_khi', 'tự_lượng', 'tự_tính', 'tự_tạo', 'tự_vì', 'tự_ý', 'tự_ăn', 'tựu_trung', 'veo', 'veo_veo', 'việc', 'việc_gì', 'vung_thiên_địa', 'vung_tàn_tán', 'vung_tán_tàn', 'và', 'vài', 'vài_ba', 'vài_người', 'vài_nhà', 'vài_nơi', 'vài_tên', 'vài_điều', 'vào', 'vào_gặp', 'vào_khoảng', 'vào_lúc', 'vào_vùng', 'vào_đến', 'vâng', 'vâng_chịu', 'vâng_dạ', 'vâng_vâng', 'vâng_ý', 'vèo', 'vèo_vèo', 'vì', 'vì_chưng', 'vì_rằng', 'vì_sao', 'vì_thế', 'vì_vậy', 'ví_bằng', 'ví_dù', 'ví_phỏng', 'ví_thử', 'vô_hình_trung', 'vô_kể', 'vô_luận', 'vô_vàn', 'vùng', 'vùng_lên', 'vùng_nước', 'văng_tê', 'vượt', 'vượt_khỏi', 'vượt_quá', 'vạn_nhất', 'vả_chăng', 'vả_lại', 'vấn_đề', 'vấn_đề_quan_trọng', 'vẫn', 'vẫn_thế', 'vậy', 'vậy_là', 'vậy_mà', 'vậy_nên', 'vậy_ra', 'vậy_thì', 'vậy_ư', 'về', 'về_không', 'về_nước', 'về_phần', 'về_sau', 'về_tay', 'vị_trí', 'vị_tất', 'vốn_dĩ', 'với', 'với_lại', 'với_nhau', 'vở', 'vụt', 'vừa', 'vừa_khi', 'vừa_lúc', 'vừa_mới', 'vừa_qua', 'vừa_rồi', 'vừa_vừa', 'xa', 'xa_cách', 'xa_gần', 'xa_nhà', 'xa_tanh', 'xa_tắp', 'xa_xa', 'xa_xả', 'xem', 'xem_lại', 'xem_ra', 'xem_số', 'xin', 'xin_gặp', 'xin_vâng', 'xiết_bao', 'xon_xón', 'xoành_xoạch', 'xoét', 'xoẳn', 'xoẹt', 'xuất_hiện', 'xuất_kì_bất_ý', 'xuất_kỳ_bất_ý', 'xuể', 'xuống', 'xăm_xúi', 'xăm_xăm', 'xăm_xắm', 'xảy_ra', 'xềnh_xệch', 'xệp', 'xử_lý', 'yêu_cầu', 'à', 'à_này', 'à_ơi', 'ào', 'ào_vào', 'ào_ào', 'á', 'á_à', 'ái', 'ái_chà', 'ái_dà', 'áng', 'áng_như', 'âu_là', 'ít', 'ít_biết', 'ít_có', 'ít_hơn', 'ít_khi', 'ít_lâu', 'ít_nhiều', 'ít_nhất', 'ít_nữa', 'ít_quá', 'ít_ra', 'ít_thôi', 'ít_thấy', 'ô_hay', 'ô_hô', 'ô_kê', 'ô_kìa', 'ôi_chao', 'ôi_thôi', 'ông', 'ông_nhỏ', 'ông_tạo', 'ông_từ', 'ông_ấy', 'ông_ổng', 'úi', 'úi_chà', 'úi_dào', 'ý', 'ý_chừng', 'ý_da', 'ý_hoặc', 'ăn', 'ăn_chung', 'ăn_chắc', 'ăn_chịu', 'ăn_cuộc', 'ăn_hết', 'ăn_hỏi', 'ăn_làm', 'ăn_người', 'ăn_ngồi', 'ăn_quá', 'ăn_riêng', 'ăn_sáng', 'ăn_tay', 'ăn_trên', 'ăn_về', 'đang', 'đang_tay', 'đang_thì', 'điều', 'điều_gì', 'điều_kiện', 'điểm', 'điểm_chính', 'điểm_gặp', 'điểm_đầu_tiên', 'đành_đạch', 'đáng', 'đáng_kể', 'đáng_lí', 'đáng_lý', 'đáng_lẽ', 'đáng_số', 'đánh_giá', 'đánh_đùng', 'đáo_để', 'đâu', 'đâu_có', 'đâu_cũng', 'đâu_như', 'đâu_nào', 'đâu_phải', 'đâu_đâu', 'đâu_đây', 'đâu_đó', 'đây', 'đây_này', 'đây_rồi', 'đây_đó', 'đã', 'đã_hay', 'đã_không', 'đã_là', 'đã_lâu', 'đã_thế', 'đã_vậy', 'đã_đủ', 'đó', 'đó_đây', 'đúng', 'đúng_ngày', 'đúng_ra', 'đúng_tuổi', 'đúng_với', 'đơn_vị', 'đưa', 'đưa_cho', 'đưa_chuyện', 'đưa_em', 'đưa_ra', 'đưa_tay', 'đưa_tin', 'đưa_tới', 'đưa_vào', 'đưa_về', 'đưa_xuống', 'đưa_đến', 'được', 'được_cái', 'được_lời', 'được_nước', 'được_tin', 'đại_loại', 'đại_nhân', 'đại_phàm', 'đại_để', 'đạt', 'đảm_bảo', 'đầu_tiên', 'đầy', 'đầy_năm', 'đầy_phè', 'đầy_tuổi', 'đặc_biệt', 'đặt', 'đặt_làm', 'đặt_mình', 'đặt_mức', 'đặt_ra', 'đặt_trước', 'đặt_để', 'đến', 'đến_bao_giờ', 'đến_cùng', 'đến_cùng_cực', 'đến_cả', 'đến_giờ', 'đến_gần', 'đến_hay', 'đến_khi', 'đến_lúc', 'đến_lời', 'đến_nay', 'đến_ngày', 'đến_nơi', 'đến_nỗi', 'đến_thì', 'đến_thế', 'đến_tuổi', 'đến_xem', 'đến_điều', 'đến_đâu', 'đều', 'đều_bước', 'đều_nhau', 'đều_đều', 'để', 'để_cho', 'để_giống', 'để_không', 'để_lòng', 'để_lại', 'để_mà', 'để_phần', 'để_được', 'để_đến_nỗi', 'đối_với', 'đồng_thời', 'đủ', 'đủ_dùng', 'đủ_nơi', 'đủ_số', 'đủ_điều', 'đủ_điểm', 'ơ', 'ơ_hay', 'ơ_kìa', 'ơi', 'ơi_là', 'ư', 'ạ', 'ạ_ơi', 'ấy', 'ấy_là', 'ầu_ơ', 'ắt', 'ắt_hẳn', 'ắt_là', 'ắt_phải', 'ắt_thật', 'ối_dào', 'ối_giời', 'ối_giời_ơi', 'ồ', 'ồ_ồ', 'ổng', 'ớ', 'ớ_này', 'ờ', 'ờ_ờ', 'ở', 'ở_lại', 'ở_như', 'ở_nhờ', 'ở_năm', 'ở_trên', 'ở_vào', 'ở_đây', 'ở_đó', 'ở_được', 'ủa', 'ứ_hự', 'ứ_ừ', 'ừ', 'ừ_nhé', 'ừ_thì', 'ừ_ào', 'ừ_ừ', 'ử']\n"
     ]
    }
   ],
   "source": [
    "stop_words = []\n",
    "with open('vietnamese-stopwords-dash.txt', 'r', encoding='utf-8') as stop_words_file:\n",
    "    words = stop_words_file.readlines()\n",
    "    for word in words:\n",
    "        stop_words.append(word.rstrip().strip())\n",
    "    stop_words_file.close()\n",
    "print(stop_words)"
   ]
  },
  {
   "cell_type": "code",
   "execution_count": 48,
   "metadata": {},
   "outputs": [],
   "source": [
    "from sklearn.feature_extraction.text import TfidfVectorizer\n",
    "\n",
    "tfidf_vect = TfidfVectorizer(lowercase=False, analyzer='word', \n",
    "                             stop_words=stop_words, max_features=10000)"
   ]
  },
  {
   "cell_type": "code",
   "execution_count": 49,
   "metadata": {},
   "outputs": [
    {
     "data": {
      "text/plain": [
       "TfidfVectorizer(analyzer='word', binary=False, decode_error='strict',\n",
       "        dtype=<class 'numpy.float64'>, encoding='utf-8', input='content',\n",
       "        lowercase=False, max_df=1.0, max_features=10000, min_df=1,\n",
       "        ngram_range=(1, 1), norm='l2', preprocessor=None, smooth_idf=True,\n",
       "        stop_words=['a_lô', 'a_ha', 'ai', 'ai_ai', 'ai_nấy', 'ai_đó', 'alô', 'amen', 'anh', 'anh_ấy', 'ba', 'ba_ba', 'ba_bản', 'ba_cùng', 'ba_họ', 'ba_ngày', 'ba_ngôi', 'ba_tăng', 'bao_giờ', 'bao_lâu', 'bao_nhiêu', 'bao_nả', 'bay_biến', 'biết', 'biết_bao', 'biết_bao_nhiêu', 'biết_chắc', 'biết_chừng_nào', 'b... 'ở_vào', 'ở_đây', 'ở_đó', 'ở_được', 'ủa', 'ứ_hự', 'ứ_ừ', 'ừ', 'ừ_nhé', 'ừ_thì', 'ừ_ào', 'ừ_ừ', 'ử'],\n",
       "        strip_accents=None, sublinear_tf=False,\n",
       "        token_pattern='(?u)\\\\b\\\\w\\\\w+\\\\b', tokenizer=None, use_idf=True,\n",
       "        vocabulary=None)"
      ]
     },
     "execution_count": 49,
     "metadata": {},
     "output_type": "execute_result"
    }
   ],
   "source": [
    "tfidf_vect.fit(X_data)"
   ]
  },
  {
   "cell_type": "code",
   "execution_count": 51,
   "metadata": {},
   "outputs": [],
   "source": [
    "X_data_tfidf = tfidf_vect.transform(X_data)\n",
    "X_test_tfidf = tfidf_vect.transform(X_test)"
   ]
  },
  {
   "cell_type": "code",
   "execution_count": 52,
   "metadata": {},
   "outputs": [
    {
     "name": "stdout",
     "output_type": "stream",
     "text": [
      "Validation accuracy:  0.8864533965244866\n",
      "Test accuracy:  0.8881940722212296\n"
     ]
    }
   ],
   "source": [
    "# train the model\n",
    "(tfidf_MultinomialNB, X_train, X_val, y_train, y_val) = trainModel(naive_bayes.MultinomialNB(), X_data_tfidf, y_data, X_test_tfidf, y_test, is_neuralnet=False)"
   ]
  },
  {
   "cell_type": "code",
   "execution_count": 66,
   "metadata": {},
   "outputs": [],
   "source": [
    "def investigateModel(max_features):\n",
    "    print('Max Features:', max_features)\n",
    "    tfidf_vect = TfidfVectorizer(lowercase=False, analyzer='word', \n",
    "                                 stop_words=stop_words, max_features=max_features)\n",
    "    tfidf_vect.fit(X_data)\n",
    "\n",
    "    X_data_tfidf = tfidf_vect.transform(X_data)\n",
    "    X_test_tfidf = tfidf_vect.transform(X_test)\n",
    "    # train the model\n",
    "    (tfidf_MultinomialNB, X_train, X_val, y_train, y_val) = trainModel(naive_bayes.MultinomialNB(), \n",
    "                                                                       X_data_tfidf, y_data, X_test_tfidf, y_test, \n",
    "                                                                       is_neuralnet=False)\n",
    "    return (tfidf_MultinomialNB, X_data_tfidf, X_test_tfidf)"
   ]
  },
  {
   "cell_type": "code",
   "execution_count": 58,
   "metadata": {},
   "outputs": [
    {
     "name": "stdout",
     "output_type": "stream",
     "text": [
      "Max Features: 1000\n",
      "Validation accuracy:  0.8548578199052133\n",
      "Test accuracy:  0.8630020050423838\n",
      "\n",
      "\n",
      "Max Features: 2000\n",
      "Validation accuracy:  0.8746050552922591\n",
      "Test accuracy:  0.8802930141147043\n",
      "\n",
      "\n",
      "Max Features: 5000\n",
      "Validation accuracy:  0.8863546603475514\n",
      "Test accuracy:  0.8895042979373871\n",
      "\n",
      "\n",
      "Max Features: 10000\n",
      "Validation accuracy:  0.8864533965244866\n",
      "Test accuracy:  0.8881940722212296\n",
      "\n",
      "\n",
      "Max Features: 15000\n",
      "Validation accuracy:  0.8815165876777251\n",
      "Test accuracy:  0.8817223512596034\n",
      "\n",
      "\n",
      "Max Features: 20000\n",
      "Validation accuracy:  0.8749012638230648\n",
      "Test accuracy:  0.8753895936315089\n",
      "\n",
      "\n",
      "Max Features: 30000\n",
      "Validation accuracy:  0.8636453396524486\n",
      "Test accuracy:  0.8640144521866873\n",
      "\n",
      "\n"
     ]
    }
   ],
   "source": [
    "for i in [1000, 2000, 5000, 10000, 15000, 20000, 30000]:\n",
    "    investigateModel(i)\n",
    "    print('\\n')"
   ]
  },
  {
   "cell_type": "code",
   "execution_count": null,
   "metadata": {},
   "outputs": [],
   "source": []
  },
  {
   "cell_type": "code",
   "execution_count": 59,
   "metadata": {},
   "outputs": [
    {
     "name": "stdout",
     "output_type": "stream",
     "text": [
      "Max Features: 3000\n",
      "Validation accuracy:  0.8814178515007899\n",
      "Test accuracy:  0.8855934726937049\n",
      "\n",
      "\n",
      "Max Features: 4000\n",
      "Validation accuracy:  0.8843799368088467\n",
      "Test accuracy:  0.8879161455541659\n",
      "\n",
      "\n",
      "Max Features: 6000\n",
      "Validation accuracy:  0.8878357030015798\n",
      "Test accuracy:  0.8899013360331924\n",
      "\n",
      "\n",
      "Max Features: 7000\n",
      "Validation accuracy:  0.8867496050552922\n",
      "Test accuracy:  0.8902388184146269\n",
      "\n",
      "\n",
      "Max Features: 8000\n",
      "Validation accuracy:  0.8874407582938388\n",
      "Test accuracy:  0.889802076509241\n",
      "\n",
      "\n",
      "Max Features: 9000\n",
      "Validation accuracy:  0.8872432859399684\n",
      "Test accuracy:  0.8889087407936792\n",
      "\n",
      "\n"
     ]
    }
   ],
   "source": [
    "for i in [3000, 4000, 6000, 7000, 8000, 9000]:\n",
    "    investigateModel(i)\n",
    "    print('\\n')"
   ]
  },
  {
   "cell_type": "code",
   "execution_count": 67,
   "metadata": {},
   "outputs": [
    {
     "name": "stdout",
     "output_type": "stream",
     "text": [
      "Max Features: 6000\n",
      "Validation accuracy:  0.8878357030015798\n",
      "Test accuracy:  0.8899013360331924\n"
     ]
    }
   ],
   "source": [
    "(tfidf_MultinomialNB_6000, X_data_tfidf, X_test_tfidf) = investigateModel(6000)"
   ]
  },
  {
   "cell_type": "code",
   "execution_count": 69,
   "metadata": {},
   "outputs": [
    {
     "name": "stdout",
     "output_type": "stream",
     "text": [
      "                  precision    recall  f1-score   support\n",
      "\n",
      "Chinh tri Xa hoi       0.80      0.86      0.83      5219\n",
      "        Doi song       0.85      0.88      0.86      3159\n",
      "        Khoa hoc       0.92      0.69      0.79      1820\n",
      "      Kinh doanh       0.87      0.86      0.87      2552\n",
      "       Phap luat       0.91      0.92      0.91      3868\n",
      "        Suc khoe       0.88      0.94      0.91      3384\n",
      "        The gioi       0.93      0.88      0.91      2898\n",
      "        The thao       0.99      0.96      0.98      5298\n",
      "         Van hoa       0.91      0.92      0.92      3080\n",
      "         Vi tinh       0.93      0.93      0.93      2481\n",
      "\n",
      "       micro avg       0.90      0.90      0.90     33759\n",
      "       macro avg       0.90      0.88      0.89     33759\n",
      "    weighted avg       0.90      0.90      0.90     33759\n",
      "\n"
     ]
    }
   ],
   "source": [
    "# training data\n",
    "y_data_predicted = tfidf_MultinomialNB_6000.predict(X_data_tfidf)\n",
    "print(metrics.classification_report(y_data, y_data_predicted))"
   ]
  },
  {
   "cell_type": "code",
   "execution_count": 70,
   "metadata": {},
   "outputs": [
    {
     "name": "stdout",
     "output_type": "stream",
     "text": [
      "                  precision    recall  f1-score   support\n",
      "\n",
      "Chinh tri Xa hoi       0.79      0.89      0.84      7567\n",
      "        Doi song       0.71      0.71      0.71      2036\n",
      "        Khoa hoc       0.88      0.58      0.70      2096\n",
      "      Kinh doanh       0.92      0.84      0.88      5276\n",
      "       Phap luat       0.85      0.90      0.88      3788\n",
      "        Suc khoe       0.89      0.95      0.92      5417\n",
      "        The gioi       0.94      0.89      0.92      6716\n",
      "        The thao       0.99      0.96      0.97      6667\n",
      "         Van hoa       0.91      0.93      0.92      6250\n",
      "         Vi tinh       0.92      0.93      0.92      4560\n",
      "\n",
      "       micro avg       0.89      0.89      0.89     50373\n",
      "       macro avg       0.88      0.86      0.87     50373\n",
      "    weighted avg       0.89      0.89      0.89     50373\n",
      "\n"
     ]
    }
   ],
   "source": [
    "# validation data\n",
    "y_test_predicted = tfidf_MultinomialNB_6000.predict(X_test_tfidf)\n",
    "print(metrics.classification_report(y_test, y_test_predicted))"
   ]
  },
  {
   "cell_type": "code",
   "execution_count": 81,
   "metadata": {},
   "outputs": [],
   "source": [
    "import sklearn.linear_model as linear_model\n",
    "\n",
    "def investigateModel(max_features, classifier):\n",
    "    print('Max Features:', max_features)\n",
    "    tfidf_vect = TfidfVectorizer(lowercase=False, analyzer='word', \n",
    "                                 stop_words=stop_words, max_features=max_features)\n",
    "    tfidf_vect.fit(X_data)\n",
    "\n",
    "    X_data_tfidf = tfidf_vect.transform(X_data)\n",
    "    X_test_tfidf = tfidf_vect.transform(X_test)\n",
    "    # train the model\n",
    "    (trained_model, X_train, X_val, y_train, y_val) = trainModel(classifier, \n",
    "                                                                       X_data_tfidf, y_data, X_test_tfidf, y_test, \n",
    "                                                                       is_neuralnet=False)\n",
    "    # statistical report \n",
    "        # training data\n",
    "    y_data_predicted = trained_model.predict(X_data_tfidf)\n",
    "    print(metrics.classification_report(y_data, y_data_predicted))\n",
    "        # validation data\n",
    "    y_test_predicted = trained_model.predict(X_test_tfidf)\n",
    "    print(metrics.classification_report(y_test, y_test_predicted)) \n",
    "    return (tfidf_vect, classifier)"
   ]
  },
  {
   "cell_type": "code",
   "execution_count": 79,
   "metadata": {},
   "outputs": [
    {
     "name": "stdout",
     "output_type": "stream",
     "text": [
      "Max Features: 3000\n"
     ]
    },
    {
     "name": "stderr",
     "output_type": "stream",
     "text": [
      "c:\\users\\hhd\\appdata\\local\\programs\\python\\python36\\lib\\site-packages\\sklearn\\linear_model\\logistic.py:433: FutureWarning: Default solver will be changed to 'lbfgs' in 0.22. Specify a solver to silence this warning.\n",
      "  FutureWarning)\n",
      "c:\\users\\hhd\\appdata\\local\\programs\\python\\python36\\lib\\site-packages\\sklearn\\linear_model\\logistic.py:460: FutureWarning: Default multi_class will be changed to 'auto' in 0.22. Specify the multi_class option to silence this warning.\n",
      "  \"this warning.\", FutureWarning)\n"
     ]
    },
    {
     "name": "stdout",
     "output_type": "stream",
     "text": [
      "Validation accuracy:  0.9031398104265402\n",
      "Test accuracy:  0.9078673098683818\n",
      "                  precision    recall  f1-score   support\n",
      "\n",
      "Chinh tri Xa hoi       0.85      0.90      0.88      5219\n",
      "        Doi song       0.89      0.89      0.89      3159\n",
      "        Khoa hoc       0.92      0.82      0.87      1820\n",
      "      Kinh doanh       0.91      0.90      0.91      2552\n",
      "       Phap luat       0.94      0.92      0.93      3868\n",
      "        Suc khoe       0.91      0.95      0.93      3384\n",
      "        The gioi       0.94      0.91      0.93      2898\n",
      "        The thao       0.99      0.98      0.99      5298\n",
      "         Van hoa       0.95      0.93      0.94      3080\n",
      "         Vi tinh       0.94      0.95      0.95      2481\n",
      "\n",
      "       micro avg       0.92      0.92      0.92     33759\n",
      "       macro avg       0.92      0.92      0.92     33759\n",
      "    weighted avg       0.92      0.92      0.92     33759\n",
      "\n",
      "                  precision    recall  f1-score   support\n",
      "\n",
      "Chinh tri Xa hoi       0.83      0.91      0.87      7567\n",
      "        Doi song       0.74      0.69      0.71      2036\n",
      "        Khoa hoc       0.86      0.72      0.78      2096\n",
      "      Kinh doanh       0.93      0.86      0.90      5276\n",
      "       Phap luat       0.90      0.91      0.90      3788\n",
      "        Suc khoe       0.91      0.95      0.93      5417\n",
      "        The gioi       0.95      0.91      0.93      6716\n",
      "        The thao       0.98      0.98      0.98      6667\n",
      "         Van hoa       0.93      0.93      0.93      6250\n",
      "         Vi tinh       0.92      0.95      0.94      4560\n",
      "\n",
      "       micro avg       0.91      0.91      0.91     50373\n",
      "       macro avg       0.90      0.88      0.89     50373\n",
      "    weighted avg       0.91      0.91      0.91     50373\n",
      "\n",
      "Max Features: 5000\n",
      "Validation accuracy:  0.9067930489731437\n",
      "Test accuracy:  0.9118376908264348\n",
      "                  precision    recall  f1-score   support\n",
      "\n",
      "Chinh tri Xa hoi       0.86      0.91      0.88      5219\n",
      "        Doi song       0.90      0.89      0.90      3159\n",
      "        Khoa hoc       0.93      0.83      0.88      1820\n",
      "      Kinh doanh       0.92      0.90      0.91      2552\n",
      "       Phap luat       0.95      0.93      0.94      3868\n",
      "        Suc khoe       0.92      0.96      0.94      3384\n",
      "        The gioi       0.95      0.92      0.93      2898\n",
      "        The thao       0.99      0.99      0.99      5298\n",
      "         Van hoa       0.95      0.94      0.95      3080\n",
      "         Vi tinh       0.95      0.96      0.95      2481\n",
      "\n",
      "       micro avg       0.93      0.93      0.93     33759\n",
      "       macro avg       0.93      0.92      0.93     33759\n",
      "    weighted avg       0.93      0.93      0.93     33759\n",
      "\n",
      "                  precision    recall  f1-score   support\n",
      "\n",
      "Chinh tri Xa hoi       0.83      0.92      0.87      7567\n",
      "        Doi song       0.75      0.69      0.72      2036\n",
      "        Khoa hoc       0.87      0.72      0.79      2096\n",
      "      Kinh doanh       0.94      0.86      0.90      5276\n",
      "       Phap luat       0.90      0.91      0.91      3788\n",
      "        Suc khoe       0.91      0.95      0.93      5417\n",
      "        The gioi       0.96      0.91      0.93      6716\n",
      "        The thao       0.98      0.98      0.98      6667\n",
      "         Van hoa       0.94      0.94      0.94      6250\n",
      "         Vi tinh       0.93      0.96      0.94      4560\n",
      "\n",
      "       micro avg       0.91      0.91      0.91     50373\n",
      "       macro avg       0.90      0.89      0.89     50373\n",
      "    weighted avg       0.91      0.91      0.91     50373\n",
      "\n",
      "Max Features: 7000\n",
      "Validation accuracy:  0.908175355450237\n",
      "Test accuracy:  0.9132471760665436\n",
      "                  precision    recall  f1-score   support\n",
      "\n",
      "Chinh tri Xa hoi       0.86      0.91      0.89      5219\n",
      "        Doi song       0.90      0.90      0.90      3159\n",
      "        Khoa hoc       0.93      0.84      0.89      1820\n",
      "      Kinh doanh       0.92      0.91      0.91      2552\n",
      "       Phap luat       0.95      0.93      0.94      3868\n",
      "        Suc khoe       0.92      0.96      0.94      3384\n",
      "        The gioi       0.95      0.92      0.94      2898\n",
      "        The thao       0.99      0.99      0.99      5298\n",
      "         Van hoa       0.95      0.94      0.95      3080\n",
      "         Vi tinh       0.95      0.96      0.96      2481\n",
      "\n",
      "       micro avg       0.93      0.93      0.93     33759\n",
      "       macro avg       0.93      0.93      0.93     33759\n",
      "    weighted avg       0.93      0.93      0.93     33759\n",
      "\n",
      "                  precision    recall  f1-score   support\n",
      "\n",
      "Chinh tri Xa hoi       0.83      0.92      0.87      7567\n",
      "        Doi song       0.76      0.70      0.73      2036\n",
      "        Khoa hoc       0.88      0.73      0.80      2096\n",
      "      Kinh doanh       0.94      0.86      0.90      5276\n",
      "       Phap luat       0.90      0.91      0.91      3788\n",
      "        Suc khoe       0.91      0.96      0.93      5417\n",
      "        The gioi       0.96      0.91      0.93      6716\n",
      "        The thao       0.98      0.98      0.98      6667\n",
      "         Van hoa       0.94      0.94      0.94      6250\n",
      "         Vi tinh       0.93      0.96      0.94      4560\n",
      "\n",
      "       micro avg       0.91      0.91      0.91     50373\n",
      "       macro avg       0.90      0.89      0.89     50373\n",
      "    weighted avg       0.91      0.91      0.91     50373\n",
      "\n",
      "Max Features: 9000\n",
      "Validation accuracy:  0.9085703001579779\n",
      "Test accuracy:  0.9135648065431878\n",
      "                  precision    recall  f1-score   support\n",
      "\n",
      "Chinh tri Xa hoi       0.86      0.91      0.89      5219\n",
      "        Doi song       0.90      0.90      0.90      3159\n",
      "        Khoa hoc       0.94      0.84      0.89      1820\n",
      "      Kinh doanh       0.93      0.91      0.92      2552\n",
      "       Phap luat       0.95      0.93      0.94      3868\n",
      "        Suc khoe       0.92      0.96      0.94      3384\n",
      "        The gioi       0.95      0.92      0.94      2898\n",
      "        The thao       0.99      0.99      0.99      5298\n",
      "         Van hoa       0.95      0.95      0.95      3080\n",
      "         Vi tinh       0.95      0.96      0.96      2481\n",
      "\n",
      "       micro avg       0.93      0.93      0.93     33759\n",
      "       macro avg       0.93      0.93      0.93     33759\n",
      "    weighted avg       0.93      0.93      0.93     33759\n",
      "\n",
      "                  precision    recall  f1-score   support\n",
      "\n",
      "Chinh tri Xa hoi       0.83      0.92      0.87      7567\n",
      "        Doi song       0.76      0.69      0.73      2036\n",
      "        Khoa hoc       0.88      0.73      0.80      2096\n",
      "      Kinh doanh       0.94      0.86      0.90      5276\n",
      "       Phap luat       0.90      0.91      0.91      3788\n",
      "        Suc khoe       0.91      0.96      0.93      5417\n",
      "        The gioi       0.96      0.91      0.93      6716\n",
      "        The thao       0.98      0.98      0.98      6667\n",
      "         Van hoa       0.94      0.94      0.94      6250\n",
      "         Vi tinh       0.93      0.96      0.94      4560\n",
      "\n",
      "       micro avg       0.91      0.91      0.91     50373\n",
      "       macro avg       0.90      0.89      0.89     50373\n",
      "    weighted avg       0.91      0.91      0.91     50373\n",
      "\n"
     ]
    }
   ],
   "source": [
    "for i in [3000, 5000, 7000, 9000]:\n",
    "    investigateModel(max_features=i, classifier=linear_model.LogisticRegression())"
   ]
  },
  {
   "cell_type": "code",
   "execution_count": 80,
   "metadata": {},
   "outputs": [
    {
     "name": "stdout",
     "output_type": "stream",
     "text": [
      "Max Features: 10000\n",
      "Validation accuracy:  0.9084715639810427\n",
      "Test accuracy:  0.9136640660671391\n",
      "                  precision    recall  f1-score   support\n",
      "\n",
      "Chinh tri Xa hoi       0.86      0.91      0.89      5219\n",
      "        Doi song       0.90      0.90      0.90      3159\n",
      "        Khoa hoc       0.94      0.84      0.89      1820\n",
      "      Kinh doanh       0.93      0.91      0.92      2552\n",
      "       Phap luat       0.95      0.93      0.94      3868\n",
      "        Suc khoe       0.92      0.96      0.94      3384\n",
      "        The gioi       0.95      0.92      0.94      2898\n",
      "        The thao       0.99      0.99      0.99      5298\n",
      "         Van hoa       0.95      0.95      0.95      3080\n",
      "         Vi tinh       0.95      0.96      0.96      2481\n",
      "\n",
      "       micro avg       0.93      0.93      0.93     33759\n",
      "       macro avg       0.94      0.93      0.93     33759\n",
      "    weighted avg       0.93      0.93      0.93     33759\n",
      "\n",
      "                  precision    recall  f1-score   support\n",
      "\n",
      "Chinh tri Xa hoi       0.83      0.92      0.87      7567\n",
      "        Doi song       0.77      0.70      0.73      2036\n",
      "        Khoa hoc       0.88      0.73      0.80      2096\n",
      "      Kinh doanh       0.94      0.87      0.90      5276\n",
      "       Phap luat       0.90      0.91      0.91      3788\n",
      "        Suc khoe       0.91      0.96      0.93      5417\n",
      "        The gioi       0.96      0.91      0.93      6716\n",
      "        The thao       0.98      0.98      0.98      6667\n",
      "         Van hoa       0.94      0.94      0.94      6250\n",
      "         Vi tinh       0.93      0.96      0.94      4560\n",
      "\n",
      "       micro avg       0.91      0.91      0.91     50373\n",
      "       macro avg       0.90      0.89      0.89     50373\n",
      "    weighted avg       0.91      0.91      0.91     50373\n",
      "\n",
      "Max Features: 15000\n",
      "Validation accuracy:  0.9092614533965245\n",
      "Test accuracy:  0.9136640660671391\n",
      "                  precision    recall  f1-score   support\n",
      "\n",
      "Chinh tri Xa hoi       0.87      0.91      0.89      5219\n",
      "        Doi song       0.90      0.90      0.90      3159\n",
      "        Khoa hoc       0.94      0.84      0.89      1820\n",
      "      Kinh doanh       0.93      0.91      0.92      2552\n",
      "       Phap luat       0.95      0.93      0.94      3868\n",
      "        Suc khoe       0.92      0.96      0.94      3384\n",
      "        The gioi       0.96      0.93      0.94      2898\n",
      "        The thao       0.99      0.99      0.99      5298\n",
      "         Van hoa       0.96      0.95      0.95      3080\n",
      "         Vi tinh       0.95      0.96      0.96      2481\n",
      "\n",
      "       micro avg       0.93      0.93      0.93     33759\n",
      "       macro avg       0.94      0.93      0.93     33759\n",
      "    weighted avg       0.94      0.93      0.93     33759\n",
      "\n",
      "                  precision    recall  f1-score   support\n",
      "\n",
      "Chinh tri Xa hoi       0.83      0.92      0.87      7567\n",
      "        Doi song       0.77      0.69      0.73      2036\n",
      "        Khoa hoc       0.88      0.73      0.80      2096\n",
      "      Kinh doanh       0.94      0.86      0.90      5276\n",
      "       Phap luat       0.91      0.91      0.91      3788\n",
      "        Suc khoe       0.91      0.96      0.93      5417\n",
      "        The gioi       0.96      0.91      0.93      6716\n",
      "        The thao       0.98      0.98      0.98      6667\n",
      "         Van hoa       0.94      0.94      0.94      6250\n",
      "         Vi tinh       0.93      0.96      0.94      4560\n",
      "\n",
      "       micro avg       0.91      0.91      0.91     50373\n",
      "       macro avg       0.90      0.89      0.89     50373\n",
      "    weighted avg       0.91      0.91      0.91     50373\n",
      "\n",
      "Max Features: 20000\n",
      "Validation accuracy:  0.9089652448657188\n",
      "Test accuracy:  0.9135251027336073\n",
      "                  precision    recall  f1-score   support\n",
      "\n",
      "Chinh tri Xa hoi       0.87      0.92      0.89      5219\n",
      "        Doi song       0.90      0.90      0.90      3159\n",
      "        Khoa hoc       0.94      0.84      0.89      1820\n",
      "      Kinh doanh       0.93      0.91      0.92      2552\n",
      "       Phap luat       0.95      0.93      0.94      3868\n",
      "        Suc khoe       0.92      0.96      0.94      3384\n",
      "        The gioi       0.96      0.93      0.94      2898\n",
      "        The thao       0.99      0.99      0.99      5298\n",
      "         Van hoa       0.96      0.95      0.95      3080\n",
      "         Vi tinh       0.95      0.96      0.96      2481\n",
      "\n",
      "       micro avg       0.93      0.93      0.93     33759\n",
      "       macro avg       0.94      0.93      0.93     33759\n",
      "    weighted avg       0.94      0.93      0.93     33759\n",
      "\n",
      "                  precision    recall  f1-score   support\n",
      "\n",
      "Chinh tri Xa hoi       0.83      0.92      0.87      7567\n",
      "        Doi song       0.76      0.70      0.73      2036\n",
      "        Khoa hoc       0.88      0.73      0.80      2096\n",
      "      Kinh doanh       0.94      0.86      0.90      5276\n",
      "       Phap luat       0.91      0.91      0.91      3788\n",
      "        Suc khoe       0.91      0.96      0.93      5417\n",
      "        The gioi       0.96      0.91      0.93      6716\n",
      "        The thao       0.98      0.98      0.98      6667\n",
      "         Van hoa       0.94      0.94      0.94      6250\n",
      "         Vi tinh       0.93      0.96      0.94      4560\n",
      "\n",
      "       micro avg       0.91      0.91      0.91     50373\n",
      "       macro avg       0.90      0.89      0.89     50373\n",
      "    weighted avg       0.91      0.91      0.91     50373\n",
      "\n"
     ]
    }
   ],
   "source": [
    "for i in [10000, 15000, 20000]:\n",
    "    investigateModel(max_features=i, classifier=linear_model.LogisticRegression())"
   ]
  },
  {
   "cell_type": "code",
   "execution_count": 82,
   "metadata": {},
   "outputs": [
    {
     "name": "stdout",
     "output_type": "stream",
     "text": [
      "Max Features: 15000\n"
     ]
    },
    {
     "name": "stderr",
     "output_type": "stream",
     "text": [
      "c:\\users\\hhd\\appdata\\local\\programs\\python\\python36\\lib\\site-packages\\sklearn\\linear_model\\logistic.py:433: FutureWarning: Default solver will be changed to 'lbfgs' in 0.22. Specify a solver to silence this warning.\n",
      "  FutureWarning)\n",
      "c:\\users\\hhd\\appdata\\local\\programs\\python\\python36\\lib\\site-packages\\sklearn\\linear_model\\logistic.py:460: FutureWarning: Default multi_class will be changed to 'auto' in 0.22. Specify the multi_class option to silence this warning.\n",
      "  \"this warning.\", FutureWarning)\n"
     ]
    },
    {
     "name": "stdout",
     "output_type": "stream",
     "text": [
      "Validation accuracy:  0.9092614533965245\n",
      "Test accuracy:  0.9136640660671391\n",
      "                  precision    recall  f1-score   support\n",
      "\n",
      "Chinh tri Xa hoi       0.87      0.91      0.89      5219\n",
      "        Doi song       0.90      0.90      0.90      3159\n",
      "        Khoa hoc       0.94      0.84      0.89      1820\n",
      "      Kinh doanh       0.93      0.91      0.92      2552\n",
      "       Phap luat       0.95      0.93      0.94      3868\n",
      "        Suc khoe       0.92      0.96      0.94      3384\n",
      "        The gioi       0.96      0.93      0.94      2898\n",
      "        The thao       0.99      0.99      0.99      5298\n",
      "         Van hoa       0.96      0.95      0.95      3080\n",
      "         Vi tinh       0.95      0.96      0.96      2481\n",
      "\n",
      "       micro avg       0.93      0.93      0.93     33759\n",
      "       macro avg       0.94      0.93      0.93     33759\n",
      "    weighted avg       0.94      0.93      0.93     33759\n",
      "\n",
      "                  precision    recall  f1-score   support\n",
      "\n",
      "Chinh tri Xa hoi       0.83      0.92      0.87      7567\n",
      "        Doi song       0.77      0.69      0.73      2036\n",
      "        Khoa hoc       0.88      0.73      0.80      2096\n",
      "      Kinh doanh       0.94      0.86      0.90      5276\n",
      "       Phap luat       0.91      0.91      0.91      3788\n",
      "        Suc khoe       0.91      0.96      0.93      5417\n",
      "        The gioi       0.96      0.91      0.93      6716\n",
      "        The thao       0.98      0.98      0.98      6667\n",
      "         Van hoa       0.94      0.94      0.94      6250\n",
      "         Vi tinh       0.93      0.96      0.94      4560\n",
      "\n",
      "       micro avg       0.91      0.91      0.91     50373\n",
      "       macro avg       0.90      0.89      0.89     50373\n",
      "    weighted avg       0.91      0.91      0.91     50373\n",
      "\n"
     ]
    }
   ],
   "source": [
    "tfidf_vect, logistic_regression_15000 = investigateModel(15000, classifier=linear_model.LogisticRegression())"
   ]
  },
  {
   "cell_type": "code",
   "execution_count": 84,
   "metadata": {},
   "outputs": [
    {
     "name": "stdout",
     "output_type": "stream",
     "text": [
      "['aa', 'aaron', 'ab', 'aba', 'abbas', 'abbey', 'abc', 'abd', 'abdel', 'abdul', 'abdullah', 'abramovich', 'abtc', 'abu', 'ac', 'acb', 'access', 'account', 'ace', 'aceh', 'acer', 'achilefu', 'acid', 'acid_amin', 'acid_béo', 'activex', 'ad', 'adam', 'adams', 'adb', 'add', 'addvote', 'adelaide', 'adidas', 'adn', 'adobe', 'adrian', 'adriano', 'adsl', 'adu', 'advanced', 'advocaat', 'ae', 'afc', 'aff', 'affleck', 'afghanistan', 'afp', 'afta', 'ag', 'agassi', 'agf', 'agnelli', 'agresto', 'agribank', 'agricole', 'agu', 'ah', 'ahmad', 'ahmadinejad', 'ahmed', 'ahn', 'ai_bảo', 'ai_lại', 'ai_ngờ', 'aids', 'aimar', 'air', 'airbus', 'aires', 'airlines', 'airways', 'ajax', 'ak', 'al', 'alain', 'alam', 'alan', 'alaska', 'alaves', 'albacete', 'albania', 'albelda', 'albert', 'alberto', 'album', 'alessandro', 'alessio', 'alex', 'alexander', 'alexandria', 'alexei', 'alfred', 'algeria', 'ali', 'alice', 'alkmaar', 'all', 'allah', 'allardyce', 'allawi', 'allen', 'almeida', 'almunia', 'alonso', 'alpha', 'alpi', 'alvaro', 'alwaleed', 'alzheimer', 'am', 'am_hiểu', 'amaobi', 'amazon', 'ambrosini', 'amd', 'amelie', 'ameobi', 'america', 'american', 'amiđan', 'amp', 'amsterdam', 'amsubject', 'an', 'an_giang', 'an_lạc', 'an_ninh', 'an_phận', 'an_sinh', 'an_thần', 'an_toàn', 'an_táng', 'an_tâm', 'an_ủi', 'ana', 'analog', 'anastasia', 'ancelotti', 'ancona', 'and', 'anderlecht', 'anders', 'anderson', 'andorra', 'andrade', 'andre', 'andrea', 'andreas', 'andrei', 'andres', 'andrew', 'andrews', 'andriy', 'androgen', 'andy', 'anelka', 'anfield', 'angel', 'angela', 'angeles', 'angelina', 'angelos', 'angkor', 'angola', 'angulo', 'anh_chàng', 'anh_chị', 'anh_dũng', 'anh_em', 'anh_hùng', 'anh_minh', 'anh_trai', 'anh_vũ', 'anh_đào', 'ankara', 'ann', 'anna', 'annan', 'anne', 'ansar', 'anthony', 'anti', 'antonio', 'antonis', 'anđt', 'ao', 'ao_ước', 'aol', 'ap', 'apec', 'apollo', 'apple', 'april', 'aptech', 'aquilani', 'arabia', 'arafat', 'aragones', 'are', 'arena', 'argentina', 'ariel', 'aristide', 'arizona', 'arjen', 'arjhan', 'armenia', 'armstrong', 'arne', 'arnold', 'array', 'arroyo', 'arsenal', 'arsene', 'art', 'arthur', 'as', 'ascoli', 'asean', 'asem', 'asep', 'ashley', 'asia', 'asiad', 'asian', 'asp', 'aspirin', 'aston', 'at', 'atalanta', 'atb', 'athens', 'athletic', 'athlon', 'ati', 'atlantic', 'atletico', 'atm', 'atp', 'au', 'audio', 'aung', 'australia', 'auto', 'auxerre', 'aviv', 'avramovic', 'axit', 'axit_amin', 'axit_béo', 'axít', 'ayala', 'ayrton', 'az', 'azerbaijan', 'aziz', 'ba_chỉ', 'ba_gác', 'ba_lô', 'ba_má', 'baby', 'bachelet', 'back', 'backup', 'bacolod', 'badawi', 'bae', 'baggio', 'baghdad', 'bagle', 'bahnar', 'bahrain', 'baht', 'bai', 'balears', 'bali', 'ballack', 'ballad', 'ballet', 'bam', 'bambang', 'ban', 'ban_bố', 'ban_công', 'ban_công_tác', 'ban_hành', 'ban_hành_văn_bản', 'ban_ngành', 'ban_ngày', 'ban_phát', 'ban_tặng', 'ban_đêm', 'ban_đầu', 'bang', 'bangkok', 'bangladesh', 'banh', 'banh_nửa', 'bank', 'bao', 'bao_bì', 'bao_bọc', 'bao_che', 'bao_cấp', 'bao_dung', 'bao_gồm', 'bao_la', 'bao_phủ', 'bao_quát', 'bao_trùm', 'bao_tải', 'bao_tử', 'bao_vây', 'baptista', 'bar', 'baraja', 'barca', 'barcelona', 'barghouti', 'baric', 'baros', 'barrichello', 'barry', 'barthez', 'basa', 'basel', 'bashir', 'basic', 'basil', 'basinas', 'basra', 'bass', 'basso', 'basten', 'bat', 'baumgartner', 'bavaria', 'bay', 'bay_bổng', 'bay_hơi', 'bay_lượn', 'bayer', 'bayern', 'bbc', 'bbt', 'bbàn', 'bc', 'bch', 'bcvt', 'bd', 'be', 'beagle', 'beatles', 'beattie', 'beckenbauer', 'beckham', 'becks', 'beirut', 'belarus', 'belgrade', 'bellamy', 'belletti', 'ben', 'benfica', 'benitez', 'benjamin', 'bent', 'benz', 'berbatov', 'berg', 'bergkamp', 'berlin', 'berlusconi', 'bernabeu', 'bernard', 'bernardo', 'bernd', 'berry', 'beslan', 'best', 'beta', 'betis', 'beyonce', 'bgk', 'bh', 'bhl', 'bhxh', 'bhyt', 'bi', 'bi_kịch', 'bi_quan', 'bi_thảm', 'bi_đát', 'bia', 'bida', 'bidv', 'bielsa', 'biet', 'big', 'bilbao', 'bill', 'billiards', 'bin', 'binh', 'binh_lính', 'binh_sĩ', 'birmingham', 'biro', 'bis', 'bit', 'biên', 'biên_bản', 'biên_chế', 'biên_dịch', 'biên_giới', 'biên_hòa', 'biên_kịch', 'biên_lai', 'biên_nhận', 'biên_phòng', 'biên_phủ', 'biên_soạn', 'biên_tập', 'biên_tập_viên', 'biên_đạo', 'biên_độ', 'biêt', 'biếm_họa', 'biến', 'biến_chuyển', 'biến_chất', 'biến_chứng', 'biến_cố', 'biến_dạng', 'biến_hoá', 'biến_hóa', 'biến_thể', 'biến_tấu', 'biến_đổi', 'biến_động', 'biếng', 'biết_điều', 'biết_ơn', 'biếu', 'biển', 'biển_báo', 'biển_cả', 'biển_thủ', 'biểu', 'biểu_cảm', 'biểu_diễn', 'biểu_dương', 'biểu_hiện', 'biểu_lộ', 'biểu_mẫu', 'biểu_ngữ', 'biểu_quyết', 'biểu_thị', 'biểu_trưng', 'biểu_tình', 'biểu_tượng', 'biểu_đồ', 'biện_hộ', 'biện_minh', 'biện_pháp', 'biện_pháp_chế_tài', 'biệt', 'biệt_danh', 'biệt_dược', 'biệt_lập', 'biệt_thự', 'bjp', 'bkis', 'bks', 'black', 'blackburn', 'blair', 'blasi', 'blaster', 'blatter', 'block', 'blog', 'blokhin', 'blu', 'blue', 'blues', 'bluetooth', 'bmi', 'bmw', 'bn', 'bo', 'boa', 'bob', 'bobby', 'boca', 'bochum', 'boeing', 'bojinov', 'bolivia', 'bologna', 'bolton', 'bom', 'bom_đạn', 'bommel', 'bon', 'bon_chen', 'bond', 'bong', 'bong_bóng', 'bono', 'book', 'boong', 'boot', 'bordeaux', 'boris', 'boro', 'bortolo', 'borussia', 'bosnia', 'bosnich', 'boston', 'bot', 'bouma', 'bowling', 'box', 'boxing', 'bp', 'bql', 'br', 'brad', 'brahimi', 'brando', 'bravo', 'brazil', 'break', 'bremen', 'bremer', 'brent', 'brescia', 'brew', 'brian', 'bridge', 'brien', 'brioches', 'british', 'britney', 'brom', 'bromwich', 'bronckhorst', 'brooklyn', 'brown', 'browser', 'bruce', 'bruckner', 'brugge', 'brunei', 'bruni', 'bruno', 'brussels', 'bryan', 'bs', 'bt', 'bta', 'btc', 'bu', 'bucharest', 'buck', 'buenos', 'buffet', 'buffon', 'bulgaria', 'bull', 'bum', 'bundesliga', 'bung', 'burton', 'bus', 'busan', 'bush', 'business', 'butt', 'button', 'buôn', 'buôn_bán', 'buôn_lậu', 'buông', 'buông_lỏng', 'buông_tha', 'buông_thả', 'buông_xuôi', 'buốt', 'buồm', 'buồn', 'buồn_bã', 'buồn_cười', 'buồn_ngủ', 'buồn_nôn', 'buồn_phiền', 'buồn_rầu', 'buồn_tẻ', 'buồng', 'buồng_trứng', 'buộc', 'buộc_lòng', 'buộc_tội', 'bv', 'bvtv', 'by', 'byrd', 'bà_con', 'bà_già', 'bà_xã', 'bài_bản', 'bài_chòi', 'bài_học', 'bài_tiết', 'bài_toán', 'bài_trí', 'bài_trùng', 'bài_tập', 'bài_vở', 'bàn', 'bàn_bạc', 'bàn_chân', 'bàn_chải', 'bàn_cãi', 'bàn_cờ', 'bàn_giao', 'bàn_luận', 'bàn_là', 'bàn_mở', 'bàn_phím', 'bàn_tay', 'bàn_tay_trắng', 'bàn_thảo', 'bàn_thắng', 'bàn_thờ', 'bàn_tán', 'bàn_đạp', 'bàn_ủi', 'bàng', 'bàng_hoàng', 'bàng_quang', 'bành', 'bành_trướng', 'bào', 'bào_chế', 'bào_chữa', 'bào_thai', 'bào_tử', 'bàu', 'bày', 'bày_tỏ', 'bày_tỏ_tình_cảm', 'bá', 'bác_bỏ', 'bác_học', 'bác_sĩ', 'bách', 'bách_khoa', 'bái', 'bám', 'bám_trụ', 'bán_buôn', 'bán_chạy', 'bán_công', 'bán_công_khai', 'bán_cầu', 'bán_cầu_não', 'bán_cổ_phần', 'bán_dâm', 'bán_dẫn', 'bán_hoa', 'bán_kính', 'bán_kết', 'bán_lẻ', 'bán_nước', 'bán_sỉ', 'bán_tháo', 'bán_thân', 'bán_đảo', 'bán_độ', 'báng', 'bánh', 'bánh_bèo', 'bánh_canh', 'bánh_chưng', 'bánh_mì', 'bánh_tráng', 'bánh_tét', 'bánh_xe', 'bánh_xèo', 'bánh_đa', 'báo', 'báo_chí', 'báo_cáo', 'báo_công_an', 'báo_hiệu', 'báo_thù', 'báo_viết', 'báo_động', 'bát', 'báu', 'báu_vật', 'bã', 'bãi', 'bãi_bỏ', 'bãi_nại', 'bão', 'bão_hòa', 'bão_từ', 'bè', 'bè_bạn', 'bèo', 'bé', 'bé_bỏng', 'bé_con', 'bé_nhỏ', 'bén', 'béo', 'béo_bở', 'bét', 'bê', 'bê_bối', 'bê_tông', 'bênh', 'bênh_vực', 'bêtông', 'bì', 'bìa', 'bình', 'bình_chánh', 'bình_chọn', 'bình_dân', 'bình_dương', 'bình_dị', 'bình_hưng', 'bình_luận', 'bình_lặng', 'bình_minh', 'bình_phẩm', 'bình_phục', 'bình_quân', 'bình_thuận', 'bình_thường', 'bình_thường_khi', 'bình_thạnh', 'bình_thản', 'bình_thủy', 'bình_triệu', 'bình_tâm', 'bình_tĩnh', 'bình_yên', 'bình_đẳng', 'bình_định', 'bình_ổn', 'bìu', 'bí', 'bí_hiểm', 'bí_mật', 'bí_quyết', 'bí_thư', 'bí_đao', 'bí_đỏ', 'bí_ẩn', 'bích', 'bích_ngọc', 'bính', 'bít', 'bò', 'bò_cạp', 'bò_sát', 'bò_tót', 'bó', 'bó_tay', 'bóc', 'bóc_lột', 'bói', 'bón', 'bóng', 'bóng_bay', 'bóng_bàn', 'bóng_chuyền', 'bóng_chày', 'bóng_dáng', 'bóng_gió', 'bóng_ma', 'bóng_mạnh', 'bóng_nước', 'bóng_rổ', 'bóng_tối', 'bóng_đá', 'bóng_đức', 'bóp', 'bóp_cổ', 'bô', 'bôi', 'bôi_nhọ', 'bôi_trơn', 'bông_gòn', 'bông_sen', 'bù', 'bù_lỗ', 'bù_đắp', 'bùa', 'bùi', 'bùi_hữu', 'bùi_minh', 'bùi_ngọc', 'bùi_quang', 'bùi_quang_hưng', 'bùi_thái', 'bùi_thị', 'bùi_tiến', 'bùi_văn', 'bùi_xuân', 'bùi_đức', 'bùn', 'bùng', 'bùng_nổ', 'bùng_phát', 'bú', 'búa', 'búi', 'bún', 'bún_bò', 'búp', 'búp_bê', 'bút', 'bút_chì', 'băm', 'băn_khoăn', 'băng', 'băng_bó', 'băng_giá', 'băng_hà', 'băng_hình', 'băng_keo', 'băng_nhóm', 'băng_nhạc', 'băng_rôn', 'băng_thông', 'băng_thông_rộng', 'băng_video', 'băng_đĩa', 'băng_đảng', 'bđ', 'bđiểm', 'bđn', 'bđs', 'bđvn', 'bơ', 'bơi', 'bơi_lội', 'bơm', 'bưng', 'bưu_chính', 'bưu_thiếp', 'bưu_điện', 'bươn_chải', 'bước_ngoặt', 'bước_sóng', 'bước_tiến', 'bước_đường', 'bước_đầu', 'bướm', 'bướng_bỉnh', 'bướu', 'bướu_cổ', 'bưởi', 'bạc', 'bạc_hà', 'bạc_liêu', 'bạch', 'bạch_cầu', 'bạch_huyết', 'bạch_hầu', 'bạch_kim', 'bạch_tuộc', 'bại', 'bại_liệt', 'bại_trận', 'bạn_bè', 'bạn_hàng', 'bạn_đọc', 'bạn_đời', 'bạo', 'bạo_hành', 'bạo_loạn', 'bạo_lực', 'bạo_động', 'bạt', 'bả_vai', 'bản_chính', 'bản_chất', 'bản_doanh', 'bản_gốc', 'bản_lĩnh', 'bản_nhạc', 'bản_năng', 'bản_quyền', 'bản_sao', 'bản_sắc', 'bản_thảo', 'bản_tính', 'bản_vẽ', 'bản_xứ', 'bản_án', 'bản_địa', 'bản_đồ', 'bảng', 'bảng_hiệu', 'bảng_đấu', 'bảo', 'bảo_an', 'bảo_dưỡng', 'bảo_hiểm', 'bảo_hiểm_nhân_thọ', 'bảo_hiểm_tế', 'bảo_hiểm_xã_hội', 'bảo_hành', 'bảo_hộ', 'bảo_kê', 'bảo_lãnh', 'bảo_lưu', 'bảo_mật', 'bảo_quản', 'bảo_thủ', 'bảo_toàn', 'bảo_trì', 'bảo_trợ', 'bảo_tàng', 'bảo_tồn', 'bảo_vệ', 'bảo_đảm', 'bảy', 'bấc', 'bấm', 'bấp_bênh', 'bất_an', 'bất_bình', 'bất_bình_thường', 'bất_bình_đẳng', 'bất_bại', 'bất_chính', 'bất_chấp', 'bất_công', 'bất_cần', 'bất_cẩn', 'bất_cập', 'bất_hoà', 'bất_hòa', 'bất_hạnh', 'bất_hợp_lý', 'bất_hợp_pháp', 'bất_hủ', 'bất_khả', 'bất_khả_kháng', 'bất_khả_thi', 'bất_lợi', 'bất_lực', 'bất_mãn', 'bất_phân', 'bất_thành', 'bất_thường', 'bất_tiện', 'bất_trắc', 'bất_tín_nhiệm', 'bất_tận', 'bất_tỉnh', 'bất_đắc_dĩ', 'bất_đồng', 'bất_động', 'bất_động_sản', 'bất_ổn', 'bầm', 'bần', 'bầu', 'bầu_chọn', 'bầu_cử', 'bầu_dục', 'bầu_show', 'bầu_sô', 'bầu_trời', 'bầu_đức', 'bầy', 'bẩm_sinh', 'bẩn', 'bẩn_thỉu', 'bẫy', 'bậc', 'bận', 'bận_bịu', 'bận_rộn', 'bận_tâm', 'bật', 'bật_mí', 'bật_tường', 'bậy', 'bắc', 'bắc_giang', 'bắc_nam', 'bắn', 'bắn_hạ', 'bắp', 'bắp_chân', 'bắp_cải', 'bắt', 'bắt_buộc', 'bắt_chuyện', 'bắt_chước', 'bắt_cóc', 'bắt_giữ', 'bắt_gặp', 'bắt_mắt', 'bắt_nguồn', 'bắt_nhịp', 'bắt_nạt', 'bắt_tay', 'bắt_đầu_vào', 'bằm', 'bằng_chứng', 'bằng_cấp', 'bằng_lòng', 'bằng_lăng', 'bằng_phẳng', 'bẹn', 'bẻ', 'bẽ_mặt', 'bế', 'bế_mạc', 'bế_tắc', 'bến', 'bến_bãi', 'bến_lức', 'bến_tàu', 'bến_xe', 'bếp', 'bếp_núc', 'bề', 'bề_mặt', 'bề_ngoài', 'bề_thế', 'bền', 'bền_bỉ', 'bền_chặt', 'bền_vững', 'bể', 'bể_bơi', 'bệ', 'bệ_phóng', 'bệnh', 'bệnh_dịch', 'bệnh_hoạn', 'bệnh_lý', 'bệnh_ngoài', 'bệnh_nhi', 'bệnh_nhân', 'bệnh_phẩm', 'bệnh_tình', 'bệnh_tật', 'bệnh_viện', 'bệnh_xá', 'bệnh_án', 'bệu', 'bỉ', 'bị_can', 'bị_cáo', 'bị_cáo_buộc', 'bị_hại', 'bị_thương', 'bị_đơn', 'bị_động', 'bịa', 'bịa_đặt', 'bịch', 'bịt', 'bịt_mắt', 'bọ', 'bọc', 'bọc_lót', 'bọc_thép', 'bọn', 'bọt', 'bỏ_bê', 'bỏ_dở', 'bỏ_hoang', 'bỏ_mạng', 'bỏ_mối', 'bỏ_ngỏ', 'bỏ_phiếu', 'bỏ_qua', 'bỏ_rơi', 'bỏ_túi', 'bỏng', 'bố', 'bố_cục', 'bố_già', 'bố_mẹ', 'bố_trí', 'bốc', 'bốc_hơi', 'bốc_lửa', 'bốc_thăm', 'bốc_đồng', 'bối_cảnh', 'bối_rối', 'bốn', 'bốt', 'bồ', 'bồ_bịch', 'bồ_câu', 'bồ_đề', 'bồi', 'bồi_bổ', 'bồi_dưỡng', 'bồi_hoàn', 'bồi_hồi', 'bồi_thường', 'bồi_thường_triệu', 'bồi_thẩm', 'bồn', 'bồn_chồn', 'bồn_tắm', 'bồng', 'bồng_bềnh', 'bồng_bột', 'bổ', 'bổ_củi', 'bổ_dưỡng', 'bổ_nhiệm', 'bổ_sung', 'bổ_trợ', 'bổ_túc', 'bổ_ích', 'bổn_phận', 'bổng', 'bộ_binh', 'bộ_cánh', 'bộ_luật', 'bộ_lạc', 'bộ_máy', 'bộ_môn', 'bộ_mặt', 'bộ_nhớ', 'bộ_não', 'bộ_phận', 'bộ_trưởng', 'bộ_tộc', 'bộ_đàm', 'bộ_đội', 'bộc_bạch', 'bộc_lộ', 'bộc_phát', 'bội_nhiễm', 'bội_thu', 'bộn', 'bột', 'bột_ngọt', 'bới', 'bớt', 'bờ', 'bỡ_ngỡ', 'bục', 'bụi', 'bụi_bặm', 'bụng', 'bụng_dưới', 'bụt', 'bức_xúc', 'bức_xạ', 'bứt', 'bứt_phá', 'bứt_rứt', 'bừa', 'bừa_bãi', 'bừng', 'bửu', 'bữa', 'bự', 'bựa', 'bực_bội', 'bực_dọc', 'bực_mình', 'bực_tức', 'ca', 'ca_hát', 'ca_khúc', 'ca_múa', 'ca_ngợi', 'ca_nhạc', 'ca_sĩ', 'ca_sỹ', 'ca_trù', 'cac', 'cacao', 'cach', 'cache', 'cad', 'cadiz', 'cafe', 'caffein', 'caffeine', 'cafu', 'café', 'cagliari', 'cahill', 'cai', 'cai_nghiện', 'cai_trị', 'cairo', 'calci', 'calcium', 'california', 'calisto', 'call', 'calo', 'calvin', 'cam', 'cam_chanh', 'cam_chịu', 'cam_go', 'cam_kết', 'cam_thảo', 'cam_đoan', 'camacho', 'cambiasso', 'cambridge', 'camcorder', 'camera', 'cameron', 'cameroon', 'camilla', 'camoranesi', 'camp', 'campbell', 'campuchia', 'camry', 'can', 'can_ngăn', 'can_thiệp', 'can_đảm', 'canada', 'cang', 'canh', 'canh_bạc', 'canh_gác', 'canh_tác', 'canizares', 'cannavaro', 'cannes', 'canon', 'cantona', 'canxi', 'cao_bồi', 'cao_cả', 'cao_cấp', 'cao_giá', 'cao_học', 'cao_kều', 'cao_kỷ_lục', 'cao_lãnh', 'cao_nguyên', 'cao_ngất', 'cao_quý', 'cao_su', 'cao_thượng', 'cao_thủ', 'cao_trào', 'cao_trình_độ', 'cao_tuổi', 'cao_tầng', 'cao_tốc', 'cao_tốc_độ', 'cao_điểm', 'cao_đẳng', 'cao_đẹp', 'cao_độ', 'cao_ốc', 'cao_ủy', 'cap', 'cape', 'capello', 'capital', 'caracciolo', 'caravan', 'carbon', 'carboni', 'card', 'cardiff', 'care', 'cargill', 'carles', 'carlo', 'carlos', 'carnegie', 'caro', 'carolina', 'caroten', 'carragher', 'carroll', 'carter', 'carton', 'carvalho', 'cascadeur', 'case', 'casillas', 'casino', 'casio', 'casmir', 'cassano', 'casset', 'casting', 'castro', 'cat', 'catalan', 'catherine', 'catp', 'catwalk', 'cau', 'cau_có', 'cave', 'cay', 'cay_đắng', 'cb', 'cc', 'ccb', 'cd', 'cdma', 'cech', 'cecillon', 'celeron', 'celta', 'celtic', 'cent', 'center', 'centrino', 'ceo', 'cept', 'cesar', 'ch', 'cha_anh', 'cha_mẹ', 'cha_ông', 'cha_đẻ', 'chai', 'chaikamdee', 'chaiman', 'chalabi', 'champagne', 'champion', 'champions', 'chan', 'chang', 'chanh', 'chao', 'chao_đảo', 'charisteas', 'charles', 'charlie', 'charlotte', 'charlton', 'chat', 'chau', 'chavez', 'chay', 'chdcnd', 'che', 'che_chắn', 'che_chở', 'che_giấu', 'che_khuất', 'che_kín', 'che_lấp', 'che_phủ', 'che_đậy', 'chechnya', 'check', 'chelsea', 'chen', 'chen_chân', 'chen_chúc', 'chen_lấn', 'cheney', 'chernobyl', 'chevanton', 'chf', 'chi', 'chi_bộ', 'chi_cục', 'chi_cục_trưởng', 'chi_nhánh', 'chi_phí', 'chi_phối', 'chi_tiêu', 'chi_tiết', 'chi_tp', 'chi_triệu', 'chi_trả', 'chi_viện', 'chia', 'chia_chác', 'chia_cắt', 'chia_ly', 'chia_rẽ', 'chia_tay', 'chiang', 'chicago', 'chievo', 'child', 'chile', 'chim', 'chim_cút', 'china', 'chinh', 'chinh_chiến', 'chinh_phục', 'chip', 'chipset', 'chirac', 'chivu', 'chiêm', 'chiêm_nghiệm', 'chiêm_ngưỡng', 'chiên', 'chiêng', 'chiêu', 'chiêu_bài', 'chiêu_mộ', 'chiêu_sinh', 'chiêu_thức', 'chiêu_đãi', 'chiếm', 'chiếm_dụng', 'chiếm_giữ', 'chiếm_hữu', 'chiếm_lĩnh', 'chiếm_thị_phần', 'chiếm_đoạt', 'chiếm_đoạt_triệu', 'chiếm_đóng', 'chiến', 'chiến_binh', 'chiến_bại', 'chiến_công', 'chiến_dịch', 'chiến_hữu', 'chiến_khu', 'chiến_lược', 'chiến_sĩ', 'chiến_sự', 'chiến_thuật', 'chiến_thắng', 'chiến_tranh', 'chiến_tranh_lạnh', 'chiến_trường', 'chiến_tuyến', 'chiến_tích', 'chiến_đấu', 'chiết', 'chiết_khấu', 'chiết_xuất', 'chiếu', 'chiếu_bóng', 'chiếu_phim', 'chiều', 'chiều_chuộng', 'chiều_hướng', 'chiều_tối', 'chiểu', 'chlamydia', 'cho_cùng', 'cho_dù', 'cho_qua', 'chocolate', 'choi', 'cholesterol', 'chon', 'chong', 'chosun', 'choàng', 'choáng', 'choáng_ngợp', 'choáng_váng', 'chris', 'christian', 'christophe', 'christopher', 'chu', 'chu_cấp', 'chu_du', 'chu_kỳ', 'chu_lai', 'chu_toàn', 'chu_trình', 'chu_đáo', 'chua', 'chua_chát', 'chua_ngọt', 'chuan', 'chuc', 'chui', 'chul', 'chung_cư', 'chung_kết', 'chung_quanh', 'chung_thuỷ', 'chung_thân', 'chung_thủy', 'chuong', 'chuyen', 'chuyên', 'chuyên_biệt', 'chuyên_chở', 'chuyên_dùng', 'chuyên_dụng', 'chuyên_gia', 'chuyên_gia_tài_chính', 'chuyên_gia_tư_vấn', 'chuyên_khoa', 'chuyên_môn', 'chuyên_mục', 'chuyên_nghiệp', 'chuyên_ngành', 'chuyên_sâu', 'chuyên_trách', 'chuyên_tâm', 'chuyên_viên', 'chuyên_án', 'chuyên_đề', 'chuyến', 'chuyền', 'chuyển_biến', 'chuyển_dạ', 'chuyển_dịch', 'chuyển_giao', 'chuyển_hóa', 'chuyển_hướng', 'chuyển_mình', 'chuyển_nhượng', 'chuyển_phát', 'chuyển_thể', 'chuyển_tiếp', 'chuyển_tải', 'chuyển_đổi', 'chuyển_động', 'chuyện_trò', 'chuông', 'chuẩn', 'chuẩn_hóa', 'chuẩn_mực', 'chuẩn_xác', 'chuốc', 'chuối', 'chuối_tiêu', 'chuốt', 'chuồn_chuồn', 'chuồng', 'chuồng_trại', 'chuỗi', 'chuộc', 'chuộng', 'chuột', 'chuột_rút', 'chà', 'chà_xát', 'chà_đạp', 'chài', 'chàm', 'chàng', 'chào', 'chào_bán', 'chào_hàng', 'chào_hỏi', 'chào_mời', 'chào_mừng', 'chào_đón', 'chào_đời', 'chày', 'chán', 'chán_chường', 'chán_ngán', 'chán_nản', 'chánh', 'chánh_án', 'cháo', 'chát', 'cháu', 'cháy', 'cháy_bỏng', 'châm', 'châm_cứu', 'chân', 'chân_chính', 'chân_dung', 'chân_không', 'chân_lông', 'chân_lý', 'chân_mày', 'chân_rết', 'chân_thành', 'chân_thật', 'chân_thực', 'chân_trời', 'chân_tình', 'chân_vịt', 'châng', 'châu', 'châu_lục', 'châu_đốc', 'chè', 'chè_xanh', 'chèn', 'chèn_ép', 'chèo', 'chèo_kéo', 'chém', 'chén', 'chéo', 'chép', 'chê', 'chê_bai', 'chê_trách', 'chênh', 'chênh_lệch', 'chì', 'chìa', 'chìa_khoá', 'chìa_khóa', 'chìm', 'chí', 'chí_minh', 'chí_ít', 'chích', 'chín', 'chín_chắn', 'chín_muồi', 'chín_tới', 'chính_diện', 'chính_hiệu', 'chính_khách', 'chính_kiến', 'chính_kịch', 'chính_phủ', 'chính_quy', 'chính_quyền', 'chính_sách', 'chính_thống', 'chính_thức', 'chính_trường', 'chính_trị', 'chính_trị_gia', 'chính_xác', 'chính_yếu', 'chính_đáng', 'chíp', 'chòi', 'chó', 'chó_sói', 'chói', 'chóng', 'chóng_mặt', 'chóng_vánh', 'chót', 'chôn', 'chôn_chân', 'chôn_cất', 'chông', 'chông_gai', 'chùa', 'chùi', 'chùm', 'chùn', 'chùng', 'chú_rể', 'chú_thích', 'chú_trọng', 'chú_tâm', 'chúa', 'chúa_tể', 'chúc', 'chúc_mừng', 'chúng_nó', 'chút', 'chút_xíu', 'chút_ít', 'chút_đỉnh', 'chăm', 'chăm_chú', 'chăm_chút', 'chăm_chỉ', 'chăm_lo', 'chăm_sóc', 'chăn', 'chăn_nuôi', 'chĩa', 'chơi_bời', 'chơi_đùa', 'chư', 'chưng', 'chương', 'chương_trình', 'chướng', 'chướng_ngại', 'chướng_ngại_vật', 'chườm', 'chưởng', 'chưởng_lý', 'chạm', 'chạm_khắc', 'chạm_trán', 'chạnh_lòng', 'chạy', 'chạy_chọt', 'chạy_chữa', 'chạy_sô', 'chạy_tàu', 'chạy_tội', 'chạy_vạy', 'chạy_án', 'chạy_đua', 'chả', 'chả_giò', 'chải', 'chảnh', 'chảo', 'chảo_lửa', 'chảy', 'chảy_máu', 'chấm', 'chấm_dứt', 'chấn', 'chấn_chỉnh', 'chấn_hưng', 'chấn_thương', 'chấn_động', 'chấp', 'chấp_hành', 'chấp_hành_hình_phạt', 'chấp_nhận', 'chấp_nửa', 'chấp_thuận', 'chất', 'chất_béo', 'chất_dẻo', 'chất_liệu', 'chất_lượng', 'chất_lỏng', 'chất_nổ', 'chất_thải', 'chất_vấn', 'chất_xám', 'chất_độc', 'chần_chừ', 'chầu', 'chẩn_đoán', 'chậm', 'chậm_chạp', 'chậm_rãi', 'chậm_trễ', 'chập', 'chập_chờn', 'chập_chững', 'chật', 'chật_chội', 'chật_cứng', 'chật_hẹp', 'chật_vật', 'chậu', 'chắc_nịch', 'chắn', 'chắp', 'chắp_vá', 'chắt', 'chắt_chiu', 'chằng_chịt', 'chẳng', 'chẳng_hạn', 'chẳng_là', 'chẳng_qua', 'chẳng_thể', 'chặn', 'chặn_đứng', 'chặng', 'chặt', 'chặt_chẽ', 'chẻ', 'chế', 'chế_biến', 'chế_phẩm', 'chế_tài', 'chế_tạo', 'chế_xuất', 'chế_độ', 'chếch', 'chết', 'chết_đuối', 'chễm_chệ', 'chệch', 'chỉ_bảo', 'chỉ_dẫn', 'chỉ_giới_hạn', 'chỉ_huy', 'chỉ_huy_trưởng', 'chỉ_số', 'chỉ_thị', 'chỉ_tiêu', 'chỉ_tiêu_đề', 'chỉ_triệu', 'chỉ_trích', 'chỉ_điểm', 'chỉ_đạo', 'chỉ_định', 'chỉnh', 'chỉnh_hình', 'chỉnh_sửa', 'chỉnh_trang', 'chỉnh_đốn', 'chị_em', 'chịu_chơi', 'chịu_khó', 'chịu_thua', 'chịu_đựng', 'chọc', 'chọi', 'chọn_lọc', 'chọn_lựa', 'chốc', 'chối', 'chối_bỏ', 'chối_cãi', 'chốn', 'chống', 'chống_chọi', 'chống_cự', 'chống_trả', 'chống_án', 'chống_đối', 'chống_đỡ', 'chốt', 'chồng', 'chồng_chéo', 'chồng_chất', 'chồng_con', 'chổi', 'chỗ', 'chỗ_đứng', 'chộp', 'chớp', 'chớp_nhoáng', 'chờ', 'chờ_đợi', 'chở', 'chợ', 'chợ_nổi', 'chợ_phiên', 'chợ_trời', 'chợ_đen', 'chục', 'chụp', 'chụp_đèn', 'chủ', 'chủ_bài', 'chủ_chốt', 'chủ_hộ', 'chủ_lực', 'chủ_mưu', 'chủ_nghĩa', 'chủ_nhiệm', 'chủ_nhân', 'chủ_nhật', 'chủ_nợ', 'chủ_quan', 'chủ_quyền', 'chủ_quản', 'chủ_thể', 'chủ_toạ', 'chủ_trì', 'chủ_trương', 'chủ_tịch', 'chủ_tọa', 'chủ_yếu', 'chủ_đạo', 'chủ_đề', 'chủ_động', 'chủng', 'chủng_loại', 'chủng_tộc', 'chứa', 'chứa_chất', 'chứa_đựng', 'chức', 'chức_danh', 'chức_năng', 'chức_quyền', 'chức_trách', 'chức_vụ', 'chứng', 'chứng_bệnh', 'chứng_chỉ', 'chứng_cứ', 'chứng_khoán', 'chứng_kiến', 'chứng_minh', 'chứng_minh_thư', 'chứng_nhận', 'chứng_thực', 'chứng_tỏ', 'chứng_từ', 'chừa', 'chừng', 'chừng_mực', 'chửa', 'chửi', 'chửi_bới', 'chửi_mắng', 'chửi_rủa', 'chữ', 'chữ_cái', 'chữ_ký', 'chữ_nhật', 'chữ_số', 'chữ_thập_đỏ', 'chữ_viết', 'chữa', 'chữa_cháy', 'chữa_trị', 'chững', 'chững_chạc', 'chực', 'cia', 'cialis', 'cienco', 'cisco', 'cisse', 'citigroup', 'city', 'cityphone', 'ck', 'cl', 'clarence', 'clark', 'clarke', 'claude', 'claudio', 'clb', 'clean', 'cleaner', 'cleopatra', 'clichy', 'click', 'clijsters', 'clinton', 'clip', 'clooney', 'club', 'cm', 'cmnd', 'cms', 'cn', 'cnn', 'cntt', 'cnv', 'co', 'co_bóp', 'co_cụm', 'co_giãn', 'co_giật', 'coca', 'cocaine', 'cocktail', 'cocu', 'cod', 'code', 'cofidis', 'cohen', 'coi', 'coi_chừng', 'coi_thường', 'coi_trọng', 'cola', 'cole', 'coleen', 'coleman', 'coli', 'colin', 'collagen', 'college', 'collina', 'collins', 'cologne', 'colombia', 'colorado', 'colosseum', 'columbia', 'com', 'com_vn', 'communications', 'compact', 'compaq', 'computer', 'con_bài', 'con_bạc', 'con_cháu', 'con_cái', 'con_dấu', 'con_em', 'con_giống', 'con_gái', 'con_heo', 'con_mẹ', 'con_một', 'con_nghiện', 'con_người', 'con_nuôi', 'con_nít', 'con_nước', 'con_nợ', 'con_riêng', 'con_rối', 'con_số', 'con_thoi', 'con_tin', 'con_trai', 'con_trẻ', 'con_đẻ', 'concat', 'condoleezza', 'cong', 'congo', 'contactus', 'container', 'control', 'converter', 'cooper', 'copa', 'copy', 'cordoba', 'core', 'coria', 'corlou', 'corp', 'corradi', 'corticoid', 'coruna', 'costa', 'costacurta', 'costinha', 'cosworth', 'cotton', 'coulthard', 'coupet', 'cover', 'cp', 'cpa', 'cpc', 'cpe', 'cpi', 'cpu', 'cq', 'cqđt', 'craig', 'creative', 'credit', 'crespo', 'cristian', 'cristiano', 'croatia', 'crouch', 'cruise', 'cruyff', 'cruz', 'crystal', 'cs', 'csc', 'csg', 'csgt', 'cska', 'csđt', 'ct', 'cty', 'cu', 'cua', 'cua_rơ', 'cuarơ', 'cuba', 'cudicini', 'cufre', 'cung', 'cung_cách', 'cung_cấp', 'cung_cấp_nước', 'cung_cấp_thiết_bị', 'cung_cầu', 'cung_văn_hóa', 'cung_điện', 'cung_ứng', 'cup', 'cuper', 'curro', 'cuốc', 'cuốn_hút', 'cuống', 'cuồn_cuộn', 'cuồng', 'cuồng_nhiệt', 'cuộc_chiến', 'cuộc_chiến_đấu', 'cuộc_chơi', 'cuộc_gọi', 'cuộc_sống', 'cuộc_sống_còn', 'cuộc_đấu', 'cuộc_đời', 'cuộn', 'cv', 'cygan', 'cyprus', 'czech', 'cà', 'cà_chua', 'cà_mau', 'cà_phê', 'cà_rốt', 'cà_vạt', 'cài', 'cài_đặt', 'càn', 'càn_lướt', 'cành', 'cào', 'cày', 'cá', 'cá_basa', 'cá_biệt', 'cá_bống', 'cá_chép', 'cá_cơm', 'cá_cược', 'cá_cảnh', 'cá_heo', 'cá_hồi', 'cá_lóc', 'cá_mập', 'cá_ngừ', 'cá_ngựa', 'cá_rô', 'cá_sấu', 'cá_thu', 'cá_thể', 'cá_tra', 'cá_trích', 'cá_tính', 'cá_voi', 'cá_độ', 'cách_biệt', 'cách_chức', 'cách_ly', 'cách_mạng', 'cách_nhiệt', 'cách_thức', 'cách_tân', 'cách_điệu', 'cám', 'cám_dỗ', 'cám_ơn', 'cán', 'cán_bộ', 'cán_cân', 'cán_sự', 'cánh', 'cánh_cụt', 'cánh_gà', 'cánh_quạt', 'cánh_tay', 'cáo', 'cáo_buộc', 'cáo_già', 'cáo_trạng', 'cáp', 'cáp_quang', 'cát', 'cát_sê', 'cát_xê', 'cáu', 'cáu_giận', 'cáu_gắt', 'câ', 'câm', 'cân', 'cân_bằng', 'cân_nhắc', 'cân_đối', 'câu', 'câu_chuyện', 'câu_khách', 'câu_kết', 'câu_thơ', 'cây_bút', 'cây_cảnh', 'cây_cỏ', 'cây_cối', 'cây_gỗ', 'cây_số', 'cây_thuốc', 'cây_trồng', 'cây_xanh', 'cây_xăng', 'cãi', 'cãi_cọ', 'cãi_vã', 'cò', 'còi', 'còi_xương', 'còng', 'có_giá', 'có_hạn', 'có_hậu', 'có_học', 'có_học_sinh', 'có_lý', 'có_lý_do', 'có_lẽ', 'có_mặt', 'có_nghĩa', 'có_nhân_viên', 'có_thai', 'có_thể_hình', 'có_triệu', 'có_tình', 'có_ích', 'cóc', 'cóng', 'cô_dâu', 'cô_giáo', 'cô_lập', 'cô_đơn', 'cô_độc', 'côn', 'côn_sơn', 'côn_trùng', 'côn_đồ', 'công', 'công_an', 'công_anh', 'công_bằng', 'công_bố', 'công_chiếu', 'công_chính', 'công_chúa', 'công_chúng', 'công_chức', 'công_chứng', 'công_cuộc', 'công_cộng', 'công_cụ', 'công_danh', 'công_diễn', 'công_du', 'công_dân', 'công_dụng', 'công_giáo', 'công_hiệu', 'công_khai', 'công_kích', 'công_lao', 'công_luận', 'công_lý', 'công_lập', 'công_minh', 'công_nghiệp', 'công_nghiệp_hóa', 'công_nghệ', 'công_nghệ_cao', 'công_nghệ_kỹ_thuật', 'công_nghệ_tp', 'công_nguyên', 'công_nhân', 'công_nhân_công_ty', 'công_nhân_viên', 'công_nhân_viên_chức', 'công_nhận', 'công_nông', 'công_năng', 'công_nương', 'công_phu', 'công_phá', 'công_quyền', 'công_quốc', 'công_quỹ', 'công_suất', 'công_sở', 'công_sức', 'công_thương', 'công_thủ', 'công_thức', 'công_trái', 'công_trình', 'công_trường', 'công_ty', 'công_ty_chứng_khoán', 'công_ty_con', 'công_ty_mẹ', 'công_ty_tnhh', 'công_tác', 'công_tâm', 'công_tắc', 'công_tố', 'công_tố_viên', 'công_tử', 'công_viên', 'công_việc', 'công_việc_làm', 'công_văn', 'công_vụ', 'công_ích', 'công_điện', 'công_đoàn', 'công_đoạn', 'công_đức', 'công_ước', 'cõi', 'cõng', 'cù', 'cù_lao', 'cùi', 'cú', 'cúc', 'cúi', 'cúm', 'cúm_gia_cầm', 'cúm_gà', 'cúng', 'cúp', 'cút', 'căm_ghét', 'căn_bản', 'căn_bệnh', 'căn_cơ', 'căn_cước', 'căn_cứ', 'căn_dặn', 'căn_hộ', 'căng', 'căng_cơ', 'căng_da', 'căng_thẳng', 'căng_đan', 'cđ', 'cđv', 'cũ', 'cũ_kỹ', 'cơ_bản', 'cơ_bắp', 'cơ_chế', 'cơ_cấu', 'cơ_cực', 'cơ_giới', 'cơ_học', 'cơ_khí', 'cơ_may', 'cơ_quan', 'cơ_quan_chức_năng', 'cơ_quan_tố_tụng', 'cơ_sở', 'cơ_thể', 'cơ_trơn', 'cơ_điện_tử', 'cơ_địa', 'cơ_động', 'cơm', 'cơm_bữa', 'cơm_nước', 'cơm_áo', 'cơm_điện', 'cơn_sốt', 'cư', 'cư_dân', 'cư_ngụ', 'cư_trú', 'cư_xá', 'cư_xử', 'cưa', 'cưng', 'cưng_chiều', 'cương', 'cương_quyết', 'cương_vị', 'cước', 'cước_phí', 'cưới', 'cưới_xin', 'cướp', 'cướp_biển', 'cướp_giật', 'cười', 'cườm', 'cường', 'cường_quốc', 'cường_độ', 'cưỡi', 'cưỡng', 'cưỡng_bức', 'cưỡng_chế', 'cưỡng_hiếp', 'cưỡng_đoạt', 'cược', 'cạm_bẫy', 'cạn', 'cạn_kiệt', 'cạnh', 'cạnh_tranh', 'cạo', 'cạy', 'cải', 'cải_biên', 'cải_chính', 'cải_cách', 'cải_lương', 'cải_thiện', 'cải_tiến', 'cải_tạo', 'cải_tổ', 'cảm', 'cảm_biến', 'cảm_giác', 'cảm_hứng', 'cảm_mến', 'cảm_nghĩ', 'cảm_nhận', 'cảm_phục', 'cảm_thông', 'cảm_thụ', 'cảm_tình', 'cảm_tính', 'cảm_tưởng', 'cảm_xúc', 'cảm_động', 'cảm_ứng', 'cản', 'cản_phá', 'cản_trở', 'cảng', 'cảnh', 'cảnh_báo', 'cảnh_cáo', 'cảnh_giác', 'cảnh_ngộ', 'cảnh_quan', 'cảnh_sát', 'cảnh_tượng', 'cảnh_vật', 'cấm', 'cấm_kỵ', 'cấm_thành', 'cấm_vận', 'cấm_đoán', 'cấm_địa', 'cấn', 'cấp_bách', 'cấp_bậc', 'cấp_bộ', 'cấp_cứu', 'cấp_nước', 'cấp_phát', 'cấp_thiết', 'cấp_tính', 'cấp_tốc', 'cấp_độ', 'cấp_ủy', 'cất', 'cất_cánh', 'cất_công', 'cất_giấu', 'cất_giữ', 'cất_tiếng', 'cấu_hình', 'cấu_kết', 'cấu_thành', 'cấu_trúc', 'cấu_tạo', 'cấy', 'cấy_ghép', 'cầm', 'cầm_chân', 'cầm_chắc', 'cầm_chừng', 'cầm_cố', 'cầm_cự', 'cầm_quyền', 'cầm_quân', 'cầm_viên', 'cầm_đầu', 'cầm_đồ', 'cần_câu', 'cần_cù', 'cần_mẫn', 'cần_sa', 'cần_thiết', 'cần_thơ', 'cần_tây', 'cầu', 'cầu_chúc', 'cầu_cứu', 'cầu_dao', 'cầu_hôn', 'cầu_khuẩn', 'cầu_lông', 'cầu_may', 'cầu_mong', 'cầu_môn', 'cầu_nguyện', 'cầu_nối', 'cầu_thang', 'cầu_thủ', 'cầu_thủ_hy', 'cầu_toàn', 'cầu_treo', 'cầu_trường', 'cầu_vượt', 'cầu_vồng', 'cầu_xin', 'cầu_đường', 'cầy', 'cẩm', 'cẩm_ly', 'cẩm_nang', 'cẩm_thạch', 'cẩm_vân', 'cẩn', 'cẩn_thận', 'cẩn_trọng', 'cẩu', 'cẩu_thả', 'cận', 'cận_cảnh', 'cận_kề', 'cận_thành', 'cận_thị', 'cập', 'cập_nhật', 'cật', 'cậu_ấm', 'cậy', 'cắm', 'cắn', 'cắn_răng', 'cắp', 'cắt', 'cắt_cơn', 'cắt_cổ', 'cắt_giảm', 'cắt_lớp', 'cắt_xén', 'cằm', 'cằn_nhằn', 'cẳng', 'cẳng_chân', 'cẳng_tay', 'cặm_cụi', 'cặn', 'cặn_kẽ', 'cặp', 'cặp_kè', 'cặp_đấu', 'cọ', 'cọ_xát', 'cọc', 'cọng', 'cọp', 'cỏ', 'cố', 'cố_gắng', 'cố_hữu', 'cố_thủ', 'cố_thủ_tướng', 'cố_tình', 'cố_vấn', 'cố_đô', 'cố_định', 'cốc', 'cối', 'cốm', 'cống', 'cống_hiến', 'cốt', 'cốt_lõi', 'cốt_truyện', 'cốt_yếu', 'cồn', 'cồng_chiêng', 'cồng_kềnh', 'cổ', 'cổ_chân', 'cổ_họng', 'cổ_kính', 'cổ_phiếu', 'cổ_phần', 'cổ_phần_hoá', 'cổ_phần_hóa', 'cổ_tay', 'cổ_thụ', 'cổ_truyền', 'cổ_tích', 'cổ_tức', 'cổ_vũ', 'cổ_vật', 'cổ_xưa', 'cổ_điển', 'cổ_đông', 'cổ_đại', 'cổ_động', 'cổ_động_viên', 'cổng', 'cỗ', 'cội_nguồn', 'cộm', 'cộng', 'cộng_hoà', 'cộng_hòa', 'cộng_hưởng', 'cộng_sản', 'cộng_sự', 'cộng_tác', 'cộng_tác_viên', 'cộng_đồng', 'cột', 'cột_dọc', 'cột_sống', 'cớ', 'cờ', 'cờ_bạc', 'cờ_tướng', 'cờ_vua', 'cởi', 'cởi_mở', 'cỡ', 'cụ', 'cụ_thể_nào', 'cục', 'cục_bộ', 'cục_diện', 'cục_trưởng', 'cụm', 'cụt', 'củ', 'củ_cải', 'của_cải', 'củi', 'củng', 'củng_cố', 'cứng', 'cứng_cáp', 'cứng_cỏi', 'cứng_nhắc', 'cứng_rắn', 'cứng_đầu', 'cứu', 'cứu_chữa', 'cứu_giúp', 'cứu_hỏa', 'cứu_hộ', 'cứu_sinh', 'cứu_thương', 'cứu_tinh', 'cứu_trợ', 'cứu_vãn', 'cừ', 'cừu', 'cử', 'cử_chỉ', 'cử_nhân', 'cử_tri', 'cử_động', 'cửa', 'cửa_biển', 'cửa_hiệu', 'cửa_hàng', 'cửa_khẩu', 'cửa_kính', 'cửa_ngõ', 'cửa_nhà', 'cửa_sông', 'cửa_sổ', 'cửu', 'cửu_long', 'cửu_vạn', 'cữ', 'cự', 'cự_ly', 'cực', 'cực_khổ', 'cực_kỳ', 'cực_kỳ_quan_trọng', 'cực_nhọc', 'cực_tím', 'cực_điểm', 'cực_đoan', 'cựu', 'cựu_binh', 'cựu_chiến_binh', 'cựu_chủ_tịch', 'cựu_giám_đốc', 'cựu_hlv', 'cựu_lãnh_đạo', 'cựu_lục_địa', 'cựu_sinh_viên', 'cựu_thủ_tướng', 'da', 'da_bò', 'da_cam', 'da_diết', 'da_liễu', 'da_màu', 'dacourt', 'dado', 'dae', 'daewoo', 'dahl', 'dai', 'dai_dẳng', 'daily', 'dalena', 'dalian', 'damascus', 'damien', 'dan', 'dance', 'dang', 'dang_dở', 'danh', 'danh_ca', 'danh_dự', 'danh_giá', 'danh_hiệu', 'danh_hiệu_quả', 'danh_hài', 'danh_họa', 'danh_lam', 'danh_mục', 'danh_nghĩa', 'danh_sách', 'danh_sách_đen', 'danh_thiếp', 'danh_thắng', 'danh_thủ', 'danh_tiếng', 'danh_tánh', 'danh_tính', 'danh_vọng', 'daniel', 'daniele', 'danny', 'danube', 'dao', 'dao_cạo', 'dao_động', 'dario', 'darren', 'darwin', 'dat', 'data', 'dau', 'dave', 'davenport', 'david', 'davids', 'davies', 'davis', 'day', 'day_dứt', 'db', 'dc', 'ddos', 'ddr', 'de', 'dean', 'december', 'deco', 'deep', 'defoe', 'deisler', 'del', 'delaware', 'delgado', 'delhi', 'dell', 'dellas', 'delle', 'deloitte', 'delta', 'dementieva', 'den', 'dengue', 'dennis', 'deportivo', 'der', 'derby', 'derlei', 'desailly', 'deschamps', 'desktop', 'dh', 'dha', 'di', 'di_chuyển', 'di_chúc', 'di_chỉ', 'di_chứng', 'di_căn', 'di_cư', 'di_dân', 'di_dời', 'di_linh', 'di_lý', 'di_sản', 'di_tinh', 'di_truyền', 'di_trú', 'di_tích', 'di_vaio', 'di_động', 'dia', 'diamond', 'diana', 'diaz', 'dich', 'dick', 'dickson', 'dida', 'didier', 'diego', 'diem', 'dien', 'dieu', 'digital', 'digiworld', 'dimitar', 'dinamo', 'dinh', 'dinh_dưỡng', 'diouf', 'dioxin', 'diploma', 'disk', 'disney', 'diva', 'diêm', 'diên', 'diều', 'diễm', 'diễn', 'diễn_biến', 'diễn_hài', 'diễn_thuyết', 'diễn_tả', 'diễn_tập', 'diễn_viên', 'diễn_văn', 'diễn_xuất', 'diễn_đàn', 'diễn_đạt', 'diễu_hành', 'diệc', 'diện', 'diện_mạo', 'diện_tích', 'diệp', 'diệt', 'diệu', 'dj', 'djemba', 'djibril', 'dl', 'dmitry', 'dn', 'dna', 'dntn', 'do_dự', 'do_hóa', 'do_thám', 'doanh', 'doanh_nghiệp', 'doanh_nhân', 'doanh_số', 'doanh_thu', 'doanh_thu_tỷ', 'doanh_trại', 'doc', 'document', 'dofilm', 'doha', 'doi', 'domain', 'domenech', 'domesco', 'dominica', 'domo', 'don', 'donald', 'donetsk', 'dong', 'doping', 'dortmund', 'dos', 'douglas', 'down', 'downing', 'download', 'doãn', 'doạ', 'dr', 'dragon', 'dream', 'drive', 'driver', 'drogba', 'ds', 'du', 'du_dương', 'du_hành', 'du_học', 'du_học_sinh', 'du_khách', 'du_kích', 'du_lịch', 'du_ngoạn', 'du_nhập', 'du_thuyền', 'du_xuân', 'du_đấu', 'dubai', 'duc', 'duff', 'duma', 'dung', 'dung_dịch', 'dung_lượng', 'dung_nạp', 'dung_tích', 'dung_túng', 'duoc', 'duong', 'dusit', 'dutch', 'duy_nhất', 'duy_quang', 'duy_trì', 'duy_tu', 'duy_tân', 'duy_xuyên', 'duyên', 'duyên_dáng', 'duyên_hải', 'duyên_nợ', 'duyệt', 'duỗi', 'dv', 'dvd', 'dyer', 'dylan', 'dynamo', 'dài_dài', 'dài_dòng', 'dài_hạn', 'dàn', 'dàn_dựng', 'dàn_nhạc', 'dàn_trải', 'dàn_xếp', 'dành_dụm', 'dày', 'dày_dạn', 'dày_đặc', 'dám', 'dán', 'dáng', 'dáng_dấp', 'dáng_vẻ', 'dát', 'dâm', 'dân', 'dân_ca', 'dân_chúng', 'dân_chơi', 'dân_chủ', 'dân_cư', 'dân_dã', 'dân_dụng', 'dân_gian', 'dân_làng', 'dân_lập', 'dân_nghèo', 'dân_phòng', 'dân_phố', 'dân_quân', 'dân_sinh', 'dân_số', 'dân_sự', 'dân_thường', 'dân_trí', 'dân_tộc', 'dân_tộc_học', 'dân_tộc_thiểu_số', 'dân_vận', 'dâng', 'dâu', 'dâu_tây', 'dây', 'dây_chuyền', 'dây_chằng', 'dây_cáp', 'dây_điện', 'dã', 'dã_chiến', 'dã_man', 'dã_ngoại', 'dãn', 'dãy', 'dè', 'dè_chừng', 'dè_dặt', 'dép', 'dê', 'dìu', 'dìu_dắt', 'dí_dỏm', 'dính', 'dính_dáng', 'dính_líu', 'dò', 'dò_tìm', 'dòng', 'dòng_chảy', 'dòng_họ', 'dòng_điện', 'dông', 'dõi', 'dùi', 'dùng_bữa', 'dăm', 'dăm_ba', 'dđt', 'dĩ', 'dĩ_nhiên', 'dĩ_vãng', 'dĩa', 'dũ', 'dũi', 'dũng', 'dũng_cảm', 'dơ', 'dơ_bẩn', 'dơi', 'dư', 'dư_chấn', 'dư_luận', 'dư_lượng', 'dư_nợ', 'dư_thừa', 'dư_âm', 'dưa', 'dưa_chuột', 'dưa_hấu', 'dưa_leo', 'dương', 'dương_cầm', 'dương_lịch', 'dương_quốc', 'dương_thị', 'dương_thụ', 'dương_tính', 'dương_văn', 'dương_vương', 'dương_vật', 'dường_như', 'dường_như_không', 'dưỡng', 'dưỡng_chất', 'dưỡng_sinh', 'dưỡng_sức', 'dưỡng_thương', 'dược', 'dược_học', 'dược_liệu', 'dược_lý', 'dược_phẩm', 'dược_sĩ', 'dược_thảo', 'dược_viên', 'dượng', 'dạ_dày', 'dạ_hội', 'dại', 'dại_dột', 'dạng', 'dạng_viên', 'dạo', 'dạo_đầu', 'dạt', 'dạy', 'dạy_dỗ', 'dạy_học', 'dải', 'dải_gaza', 'dải_phân_cách', 'dấm', 'dấn', 'dấn_thân', 'dấu', 'dấu_chấm_hết', 'dấu_hiệu', 'dấu_hỏi', 'dấu_tích', 'dấu_vết', 'dấu_ấn', 'dấy', 'dầm', 'dần', 'dầu', 'dầu_cá', 'dầu_gội', 'dầu_hỏa', 'dầu_khí', 'dầu_lửa', 'dầu_mỏ', 'dầu_mỡ', 'dầu_nhớt', 'dầu_thô', 'dầy', 'dẫn_chứng', 'dẫn_dắt', 'dẫn_giải', 'dẫn_điểm', 'dẫn_đầu', 'dẫn_độ', 'dậm', 'dập', 'dậu', 'dậy', 'dậy_thì', 'dắt', 'dằn', 'dằn_mặt', 'dằn_vặt', 'dặm', 'dặn', 'dặn_dò', 'dẹp', 'dẹt', 'dẻo', 'dẻo_dai', 'dế', 'dễ_chịu', 'dễ_dàng', 'dễ_dãi', 'dễ_thương', 'dễ_thở', 'dệt', 'dệt_may', 'dị', 'dị_dạng', 'dị_tật', 'dị_vật', 'dị_đoan', 'dị_ứng', 'dịch', 'dịch_bệnh', 'dịch_chuyển', 'dịch_thuật', 'dịch_tễ', 'dịch_vụ', 'dịp', 'dịu', 'dịu_dàng', 'dọa', 'dọc', 'dọn', 'dọn_dẹp', 'dỏm', 'dốc', 'dối', 'dối_trá', 'dốt', 'dồi', 'dồi_dào', 'dồn', 'dồn_dập', 'dồn_nén', 'dồn_ép', 'dỗ_dành', 'dội', 'dời', 'dở', 'dở_dang', 'dở_khóc', 'dỡ', 'dụ', 'dụ_dỗ', 'dục', 'dục_vọng', 'dụng', 'dụng_cụ', 'dứa', 'dứt', 'dứt_khoát', 'dứt_điểm', 'dừa', 'dừng', 'dữ_dội', 'dữ_liệu', 'dự', 'dự_báo', 'dự_báo_giá', 'dự_bị', 'dự_khuyết', 'dự_khán', 'dự_kiến', 'dự_luật', 'dự_phòng', 'dự_thi', 'dự_thảo', 'dự_thầu', 'dự_toán', 'dự_trù', 'dự_trữ', 'dự_tuyển', 'dự_tính', 'dự_án', 'dự_đoán', 'dự_định', 'dựa', 'dựa_dẫm', 'dựng', 'dựng_đứng', 'ea', 'earth', 'east', 'ebay', 'ebola', 'ec', 'ecuador', 'eczema', 'eddie', 'edgar', 'edge', 'edition', 'edmilson', 'edu', 'education', 'edward', 'edwards', 'edwin', 'eidur', 'eindhoven', 'einstein', 'el', 'elbaradei', 'elead', 'electron', 'electronics', 'elena', 'elite', 'elizabeth', 'ellen', 'elton', 'elvis', 'em_gái', 'em_trai', 'em_út', 'email', 'emerson', 'empoli', 'emre', 'end', 'england', 'english', 'enrique', 'enterprise', 'entertainment', 'enzyme', 'eo', 'eo_biển', 'eo_hẹp', 'epson', 'eric', 'ericsson', 'erik', 'eriksson', 'ernst', 'espanyol', 'espey', 'espn', 'esposito', 'essien', 'esteban', 'estonia', 'estrada', 'estrogen', 'eto', 'etxeberria', 'eu', 'eun', 'euro', 'eva', 'evans', 'everton', 'evn', 'evo', 'evra', 'excel', 'exchange', 'exe', 'eximbank', 'explorer', 'express', 'extreme', 'fa', 'fabian', 'fabiano', 'fabien', 'fabio', 'fabregas', 'fabrizio', 'fair', 'falluja', 'fallujah', 'fan', 'fao', 'farc', 'fatah', 'favalli', 'fax', 'fbi', 'fc', 'fcategory', 'fda', 'fdi', 'february', 'fed', 'federer', 'felipe', 'felix', 'fenerbahce', 'ferdinand', 'ferguson', 'fernandez', 'fernando', 'fernando_alonso', 'fernando_morientes', 'fernando_torres', 'ferrari', 'ferraris', 'ferreira', 'ferrero', 'festival', 'feyenoord', 'fi', 'fiat', 'fidel', 'fielmann', 'fifa', 'figo', 'figueroa', 'file', 'files', 'filippo', 'film', 'fiore', 'fiorentina', 'firefox', 'first', 'fish', 'fisher', 'fisichella', 'flamini', 'flash', 'flavio', 'fletcher', 'florence', 'florentino', 'florida', 'floyd', 'fluor', 'fm', 'focus', 'fofana', 'folder', 'fone', 'font', 'fontana', 'for', 'forbes', 'ford', 'forlan', 'format', 'fortune', 'forum', 'foundation', 'fowler', 'fox', 'fpt', 'franc', 'france', 'francesco', 'francis', 'francisco', 'franco', 'francois', 'frank', 'frankfurt', 'franz', 'fred', 'frederick', 'fredrik', 'free', 'freiburg', 'frey', 'friday', 'frings', 'from', 'fta', 'ftp', 'fuji', 'fujimori', 'fujitsu', 'fulham', 'full', 'future', 'fx', 'ga', 'ga_lăng', 'gabriel', 'gai', 'gai_góc', 'gala', 'galasek', 'galaxy', 'gallas', 'gallery', 'gam', 'game', 'games', 'gan', 'gandhi', 'gang', 'gang_tấc', 'ganh_đua', 'gara', 'garage', 'garcia', 'garden', 'gardner', 'gareth', 'garros', 'gartner', 'gary', 'gas', 'gaston', 'gates', 'gateway', 'gattuso', 'gaudio', 'gaulois', 'gay', 'gay_cấn', 'gay_gắt', 'gaza', 'gazprom', 'gb', 'gcn', 'gd', 'gdp', 'gdđt', 'gel', 'gemadept', 'gen', 'gene', 'general', 'geneva', 'genoa', 'geoff', 'george', 'georgia', 'gerard', 'geremi', 'gerhard', 'germain', 'gerolsteiner', 'gerrard', 'getafe', 'geum', 'geun', 'gfk', 'ghana', 'ghe', 'ghen', 'ghen_tuông', 'ghen_tị', 'ghi', 'ghi_bàn', 'ghi_chép', 'ghi_chú', 'ghi_danh', 'ghi_hình', 'ghi_nhận', 'ghi_nhớ', 'ghi_âm', 'ghi_điểm', 'ghim', 'ghiền', 'ghraib', 'ghz', 'ghé', 'ghép', 'ghét', 'ghê', 'ghê_gớm', 'ghìm', 'ghẹ', 'ghế', 'ghế_ngồi', 'ghềnh', 'gi', 'gia', 'gia_bảo', 'gia_công', 'gia_cầm', 'gia_cố', 'gia_dụng', 'gia_hạn', 'gia_lai', 'gia_nhập', 'gia_súc', 'gia_sư', 'gia_truyền', 'gia_trưởng', 'gia_tài', 'gia_tăng', 'gia_vị', 'gia_đình', 'gia_đình_chỉ', 'gia_định', 'giai', 'giai_cấp', 'giai_thoại', 'giai_điệu', 'giai_đoạn', 'giam', 'giam_cầm', 'giam_giữ', 'gian', 'gian_dối', 'gian_hàng', 'gian_khổ', 'gian_lận', 'gian_nan', 'gian_truân', 'giancarlo', 'giang', 'giang_hồ', 'giang_mai', 'giang_sơn', 'gianluca', 'gianluigi', 'giannakopoulos', 'giao', 'giao_ban', 'giao_bóng', 'giao_cảm', 'giao_cấu', 'giao_diện', 'giao_dịch', 'giao_hưởng', 'giao_hợp', 'giao_hữu', 'giao_lưu', 'giao_lộ', 'giao_nhận', 'giao_nộp', 'giao_phó', 'giao_phối', 'giao_thoa', 'giao_thông', 'giao_thương', 'giao_thức', 'giao_thừa', 'giao_tiếp', 'giao_tranh', 'giao_đấu', 'gien', 'gieo', 'gif', 'giggs', 'gil', 'gilardino', 'gilberto', 'gill', 'gio', 'giorgio', 'giorgos', 'giovanni', 'girl', 'giuly', 'giun', 'giup', 'giuseppe', 'given', 'già', 'già_dặn', 'già_nua', 'già_yếu', 'giàn', 'giàng', 'giành', 'giành_giật', 'giàu', 'giàu_có', 'giàu_sang', 'giày', 'giày_dép', 'giá', 'giá_cả', 'giá_lạnh', 'giá_như', 'giá_sàn', 'giá_thành', 'giá_triệu', 'giá_trần', 'giá_trị_tỷ', 'giác', 'giác_mạc', 'giác_quan', 'giám', 'giám_hiệu', 'giám_hộ', 'giám_khảo', 'giám_sát', 'giám_thị', 'giám_định', 'giám_đốc', 'gián_tiếp', 'gián_điệp', 'gián_đoạn', 'giáng', 'giáng_sinh', 'giáo', 'giáo_dục', 'giáo_hoàng', 'giáo_khoa', 'giáo_phái', 'giáo_sĩ', 'giáo_sư', 'giáo_trình', 'giáo_viên', 'giáo_án', 'giáo_đường', 'giáp', 'giáp_mặt', 'giáp_ranh', 'giây', 'giây_phút', 'giã', 'giã_từ', 'giãi_bày', 'giãn', 'giãn_nở', 'giò', 'giòn', 'gió', 'gió_mùa', 'gióng', 'giông', 'giùm', 'giúp', 'giúp_sức', 'giúp_việc', 'giúp_ích', 'giúp_đỡ', 'giăng', 'giơ', 'giương', 'giường', 'giường_bệnh', 'giả', 'giả_danh', 'giả_dạng', 'giả_dối', 'giả_mạo', 'giả_sử', 'giả_thiết', 'giả_thuyết', 'giả_tạo', 'giả_vờ', 'giả_định', 'giải', 'giải_cứu', 'giải_khát', 'giải_lao', 'giải_mã', 'giải_nghệ', 'giải_ngân', 'giải_nhiệt', 'giải_pháp', 'giải_phóng', 'giải_phẫu', 'giải_quyết', 'giải_thoát', 'giải_thích', 'giải_thưởng', 'giải_thể', 'giải_toả', 'giải_trình', 'giải_trí', 'giải_tán', 'giải_tỏa', 'giải_vây', 'giải_đáp', 'giải_đấu', 'giải_độc', 'giảm_béo', 'giảm_giá', 'giảm_giá_thành', 'giảm_sút', 'giảm_thiểu', 'giảm_tốc_độ', 'giản_dị', 'giảng', 'giảng_dạy', 'giảng_viên', 'giảng_đường', 'giấc', 'giấc_ngủ', 'giấm', 'giấu', 'giấu_giếm', 'giấy', 'giấy_báo', 'giấy_phép', 'giấy_tờ', 'giầy', 'giẫm', 'giẫm_đạp', 'giậm', 'giận', 'giận_dỗi', 'giận_dữ', 'giập', 'giật', 'giật_mình', 'giằng_co', 'giặc', 'giặt', 'giặt_giũ', 'giẻ', 'giếng', 'giếng_khoan', 'giết', 'giết_hại', 'giết_mổ', 'giọng', 'giọng_điệu', 'giọt', 'giỏ', 'giỏi', 'giỏi_giang', 'giống_hệt', 'giồng', 'giỗ', 'giộp', 'giới', 'giới_chức', 'giới_hạn', 'giới_nghiêm', 'giới_thiệu', 'giới_tính', 'giờ_giấc', 'giờ_phút', 'giời', 'giở', 'giở_trò', 'giục', 'giữ_chân', 'giữ_gìn', 'giữa_chừng', 'gl', 'glasgow', 'glazer', 'glen', 'glenn', 'glitter', 'gloria', 'glucid', 'glucose', 'gm', 'gmail', 'gmd', 'go', 'gogh', 'goh', 'goi', 'gold', 'golden', 'golf', 'gom', 'gom_góp', 'gomes', 'gonzalez', 'good', 'google', 'goran', 'gordon', 'gorilla', 'gout', 'gov', 'gp', 'gplx', 'gprs', 'gr', 'grady', 'graf', 'graham', 'gram', 'grammy', 'grand', 'gravesen', 'green', 'greenspan', 'greg', 'gronkjaer', 'group', 'gruzia', 'gs', 'gsm', 'gt', 'gtcc', 'gtgt', 'gtvt', 'gu', 'guantanamo', 'guardian', 'guatemala', 'gudjohnsen', 'gui', 'guillermo', 'guinea', 'guinness', 'guitar', 'gun', 'gustavo', 'guti', 'guy', 'guốc', 'guồng', 'gv', 'gà', 'gà_tây', 'gài', 'gào', 'gào_thét', 'gàu', 'gác', 'gái', 'gái_gọi', 'gái_nhảy', 'gán', 'gánh', 'gánh_chịu', 'gánh_vác', 'gáo', 'gáy', 'gân', 'gây_dựng', 'gây_gổ', 'gây_mê', 'gây_rối', 'gây_rối_loạn', 'gây_sự', 'gây_tê', 'gã', 'gãi', 'gãy', 'gìn_giữ', 'gò', 'gò_bó', 'gò_má', 'gò_vấp', 'góa', 'góc', 'góc_cạnh', 'góc_độ', 'gói', 'gói_thầu', 'góp', 'góp_mặt', 'góp_phần', 'gót', 'gõ', 'gõ_cửa', 'gù', 'gút', 'găm', 'găng', 'găng_tay', 'gđ', 'gđt', 'gđtla', 'gươm', 'gương', 'gương_mẫu', 'gương_mặt', 'gượng', 'gượng_ép', 'gạ_gẫm', 'gạc', 'gạch', 'gạo', 'gạo_nếp', 'gạo_tẻ', 'gạt', 'gả', 'gấm', 'gấp', 'gấp_bội', 'gấp_gáp', 'gấp_rút', 'gấu', 'gấu_trúc', 'gầm', 'gần_gũi', 'gầy', 'gẫy', 'gập', 'gật', 'gậy', 'gắn', 'gắn_bó', 'gắn_kết', 'gắng', 'gắng_sức', 'gắp', 'gắt', 'gắt_gao', 'gặm_nhấm', 'gặp_gỡ', 'gặp_mặt', 'gặt', 'gặt_hái', 'gỉ', 'gọi', 'gọi_là', 'gọn', 'gọn_gàng', 'gọn_nhẹ', 'gọng', 'gọt', 'gỏi', 'gốc', 'gốc_rễ', 'gối', 'gối_đầu', 'gốm', 'gồng', 'gỗ', 'gội', 'gộp', 'gờ', 'gờm', 'gởi', 'gỡ', 'gỡ_rối', 'gợi', 'gợi_cảm', 'gợi_tình', 'gợn', 'gục', 'gừng', 'gửi', 'gửi_gắm', 'ha', 'haas', 'hack', 'hacker', 'hagl', 'hai', 'haiti', 'halida', 'hall', 'halle', 'halo', 'ham', 'ham_muốn', 'hamann', 'hamas', 'hamburg', 'hamid', 'han', 'hand', 'hang', 'hanh', 'hannover', 'hanoi', 'hans', 'hantuchova', 'hao', 'hao_hụt', 'hap', 'hargreaves', 'hariri', 'harris', 'harrison', 'harry', 'harvard', 'has', 'hassan', 'hasselbaink', 'hassoun', 'hat', 'hattrick', 'hawaii', 'hay_ho', 'haye', 'hc', 'hcb', 'hcm', 'hcv', 'hcđ', 'hd', 'hdv', 'he', 'hecta', 'hector', 'hee', 'heidfeld', 'heineken', 'heinz', 'heinze', 'held', 'helen', 'helguera', 'hemingway', 'hen', 'hen_suyễn', 'henin', 'henman', 'henri', 'henrik', 'henry', 'heo', 'hernan', 'heroin', 'herpes', 'hertha', 'heskey', 'hewitt', 'hewlett', 'hi', 'hi_sinh', 'hi_vọng', 'hiddink', 'hien', 'hieu', 'high', 'highbury', 'hill', 'hillary', 'hilton', 'hindu', 'hingis', 'hinh', 'hip_hop', 'histamin', 'history', 'hit', 'hitachi', 'hitler', 'hitzfeld', 'hiv', 'hiê', 'hiên', 'hiếm', 'hiếm_hoi', 'hiếm_muộn', 'hiến', 'hiến_pháp', 'hiếp_dâm', 'hiếu', 'hiếu_học', 'hiếu_khách', 'hiếu_kỳ', 'hiếu_thảo', 'hiếu_động', 'hiền', 'hiền_lành', 'hiền_thục', 'hiểm', 'hiểm_hóc', 'hiểm_họa', 'hiểm_nghèo', 'hiểm_nguy', 'hiểm_trở', 'hiển', 'hiển_hiện', 'hiển_nhiên', 'hiển_thị', 'hiển_vi', 'hiểu_biết', 'hiện', 'hiện_diện', 'hiện_giờ', 'hiện_hành', 'hiện_hữu', 'hiện_thân', 'hiện_thời', 'hiện_thực', 'hiện_trường', 'hiện_trạng', 'hiện_tình_cảm', 'hiện_tình_yêu', 'hiện_tượng', 'hiện_vật', 'hiện_đại', 'hiện_đại_hoá', 'hiện_đại_hóa', 'hiệp', 'hiệp_hưng', 'hiệp_hội', 'hiệp_phước', 'hiệp_sĩ', 'hiệp_thương', 'hiệp_đấu', 'hiệp_định', 'hiệp_ước', 'hiệu', 'hiệu_chỉnh', 'hiệu_lệnh', 'hiệu_lực', 'hiệu_nghiệm', 'hiệu_quả', 'hiệu_suất', 'hiệu_số', 'hiệu_trưởng', 'hiệu_ứng', 'hk', 'hlaing', 'hlbđ', 'hleb', 'hlttqg', 'hlv', 'hn', 'ho', 'ho_gà', 'hoa', 'hoa_cúc', 'hoa_hậu', 'hoa_hậu_thế_giới', 'hoa_hồng', 'hoa_khôi', 'hoa_lan', 'hoa_lá', 'hoa_màu', 'hoa_mỹ', 'hoa_quả', 'hoa_sen', 'hoa_văn', 'hoa_đăng', 'hoac', 'hoan', 'hoan_nghênh', 'hoang', 'hoang_dã', 'hoang_mang', 'hoang_sơ', 'hoang_tưởng', 'hoang_vắng', 'hoc', 'hoi', 'hollywood', 'hom', 'home', 'homo', 'hon', 'honda', 'honduras', 'hong', 'hong_kong', 'hoon', 'hop', 'hopkins', 'horie', 'hormon', 'hormone', 'horno', 'hot', 'hotel', 'hotmail', 'hotspur', 'houllier', 'house', 'houston', 'howard', 'hoà', 'hoà_bình', 'hoà_giải', 'hoà_hợp', 'hoà_nhập', 'hoà_phát', 'hoài', 'hoài_bão', 'hoài_nghi', 'hoài_niệm', 'hoài_sơn', 'hoàn', 'hoàn_chỉnh', 'hoàn_cảnh', 'hoàn_hảo', 'hoàn_mỹ', 'hoàn_thiện', 'hoàn_thành', 'hoàn_thành_công_việc', 'hoàn_trả', 'hoàn_tất', 'hoàng', 'hoàng_anh', 'hoàng_bửu', 'hoàng_cung', 'hoàng_cầm', 'hoàng_diệu', 'hoàng_gia', 'hoàng_hôn', 'hoàng_hậu', 'hoàng_kim', 'hoàng_lan', 'hoàng_liên', 'hoàng_long', 'hoàng_minh', 'hoàng_năng', 'hoàng_quốc', 'hoàng_sơn', 'hoàng_thanh', 'hoàng_thành', 'hoàng_thân', 'hoàng_thị', 'hoàng_tử', 'hoàng_văn', 'hoàng_vũ', 'hoàng_đình', 'hoàng_đế', 'hoành', 'hoành_hành', 'hoành_tráng', 'hoá', 'hoá_chất', 'hoá_giải', 'hoá_học', 'hoá_ra', 'hoá_thân', 'hoá_thạch', 'hoá_trang', 'hoá_đơn', 'hoán_đổi', 'hoãn', 'hoóc', 'hoạ', 'hoạ_sĩ', 'hoạch_định', 'hoại_tử', 'hoạn', 'hoạt', 'hoạt_bát', 'hoạt_chất', 'hoạt_hình', 'hoạt_tính', 'hoạt_động', 'hoạt_động_sản_xuất', 'hoả', 'hoảng', 'hoảng_hốt', 'hoảng_loạn', 'hoảng_sợ', 'hoắc', 'hp', 'hphn', 'hpv', 'hq', 'hs', 'hsv', 'ht', 'htm', 'html', 'http', 'htv', 'htx', 'huang', 'hud', 'huda', 'hughes', 'hugo', 'hun', 'hung', 'hung_dữ', 'hung_hãn', 'hung_hăng', 'hung_khí', 'hung_thủ', 'hungary', 'huong', 'hur', 'hushovd', 'hussein', 'huth', 'hutton', 'huy', 'huy_chương', 'huy_hoàng', 'huy_tuấn', 'huy_động', 'huynh', 'huyên', 'huyết', 'huyết_mạch', 'huyết_thanh', 'huyết_áp', 'huyết_áp_cao', 'huyền', 'huyền_bí', 'huyền_diệu', 'huyền_thoại', 'huyền_ảo', 'huyện', 'huyện_thị', 'huyện_ủy', 'huyệt', 'huân', 'huân_chương', 'huê', 'huýt_sáo', 'huấn', 'huấn_luyện', 'huấn_luyện_viên', 'huế', 'huệ', 'huống_chi', 'huống_hồ', 'huỳnh', 'huỳnh_liên', 'huỳnh_ngọc', 'huỳnh_quang', 'huỳnh_quốc', 'huỳnh_thanh', 'huỳnh_thị', 'huỳnh_tấn', 'huỳnh_văn', 'huỳnh_đức', 'huỷ', 'huỷ_bỏ', 'huỷ_diệt', 'huỷ_hoại', 'hv', 'hwang', 'hy', 'hy_hữu', 'hy_sinh', 'hy_vọng', 'hydro', 'hye', 'hyun', 'hyundai', 'hyypia', 'hà', 'hà_giang', 'hà_kiều', 'hà_lan', 'hà_minh', 'hà_mã', 'hà_nam', 'hà_nội', 'hà_thành', 'hà_thị', 'hà_tiên', 'hà_tây', 'hà_tĩnh', 'hà_đông', 'hài', 'hài_cốt', 'hài_hoà', 'hài_hòa', 'hài_hước', 'hài_kịch', 'hài_lòng', 'hàm', 'hàm_lượng', 'hàm_răng', 'hàm_ếch', 'hàn', 'hàn_gắn', 'hàn_lâm', 'hàn_quốc', 'hàn_the', 'hàng', 'hàng_chợ', 'hàng_hiệu', 'hàng_hoá', 'hàng_hóa', 'hàng_hải', 'hàng_không', 'hàng_loạt', 'hàng_mã', 'hàng_ngũ', 'hàng_quán', 'hàng_rào', 'hàng_triệu', 'hàng_tỉ', 'hàng_tỷ', 'hàng_xóm', 'hàng_đầu', 'hành', 'hành_chính', 'hành_hung', 'hành_hương', 'hành_hạ', 'hành_khách', 'hành_kinh', 'hành_lang', 'hành_lý', 'hành_lạc', 'hành_nghề', 'hành_pháp', 'hành_quyết', 'hành_quân', 'hành_tinh', 'hành_trang', 'hành_trình', 'hành_tây', 'hành_vi', 'hành_đoàn', 'hành_động', 'hào', 'hào_hoa', 'hào_hùng', 'hào_hứng', 'hào_nhoáng', 'hào_phóng', 'hào_quang', 'hàu', 'há', 'hái', 'hán', 'háng', 'háo_hức', 'hát', 'hát_bội', 'hát_hò', 'hâm_mộ', 'hâm_nóng', 'hân', 'hân_hoan', 'hãm', 'hãn', 'hãng', 'hãnh_diện', 'hè', 'hèn_nhát', 'hé', 'héo', 'hét', 'hê', 'hên', 'hình', 'hình_bóng', 'hình_cầu', 'hình_dung', 'hình_dáng', 'hình_dạng', 'hình_học', 'hình_khối', 'hình_mẫu', 'hình_như', 'hình_phạt', 'hình_sự', 'hình_thành', 'hình_thái', 'hình_thù', 'hình_thể', 'hình_thức', 'hình_tròn', 'hình_tượng', 'hình_vuông', 'hình_vẽ', 'hình_ảnh', 'hích', 'hít', 'hò', 'hò_hét', 'hò_hẹn', 'hò_reo', 'hòa', 'hòa_bình', 'hòa_czech', 'hòa_giải', 'hòa_hợp', 'hòa_lạc', 'hòa_lộc', 'hòa_mạng', 'hòa_nhập', 'hòa_phát', 'hòa_quyện', 'hòa_tan', 'hòa_thuận', 'hòa_tấu', 'hòa_vang', 'hòa_âm', 'hòm', 'hòm_thư', 'hòn', 'hòng', 'hóa', 'hóa_chất', 'hóa_học', 'hóa_thân', 'hóa_thạch', 'hóa_đơn', 'hóc', 'hóc_búa', 'hóc_môn', 'hói', 'hóm_hỉnh', 'hót', 'hô', 'hô_hào', 'hô_hấp', 'hôi', 'hôi_thối', 'hôm', 'hôm_nay', 'hôm_qua', 'hôn', 'hôn_lễ', 'hôn_mê', 'hôn_nhân', 'hông', 'hùm', 'hùn', 'hùng', 'hùng_dũng', 'hùng_hậu', 'hùng_hồn', 'hùng_mạnh', 'hùng_vĩ', 'húc', 'hút', 'hút_bụi', 'hăm_dọa', 'hăm_hở', 'hăng', 'hăng_hái', 'hăng_say', 'hđba', 'hđnd', 'hđqt', 'hđtt', 'hđxx', 'hũ', 'hơ', 'hơi', 'hơi_nước', 'hơn_triệu', 'hơn_tỷ', 'hư', 'hư_cấu', 'hư_hại', 'hư_hỏng', 'hưng', 'hưng_phấn', 'hưu', 'hưu_trí', 'hương', 'hương_giang', 'hương_liệu', 'hương_vị', 'hươu', 'hướng', 'hướng_dương', 'hướng_dẫn', 'hướng_dẫn_viên', 'hướng_nghiệp', 'hường', 'hưởng', 'hưởng_thụ', 'hưởng_ứng', 'hạ', 'hạ_bệ', 'hạ_cánh', 'hạ_gục', 'hạ_long', 'hạ_lưu', 'hạ_nhiệt', 'hạ_nhục', 'hạ_thủ_môn', 'hạ_thủ_thành', 'hạ_tầng', 'hạ_viện', 'hạc', 'hạch', 'hạch_toán', 'hại', 'hạm_đội', 'hạn', 'hạn_chế', 'hạn_hán', 'hạn_hẹp', 'hạn_mức', 'hạn_ngạch', 'hạng', 'hạng_mục', 'hạnh', 'hạnh_nhân', 'hạnh_phúc', 'hạt', 'hạt_dẻ', 'hạt_giống', 'hạt_nhân', 'hạt_tiêu', 'hả', 'hải', 'hải_dương', 'hải_dương_học', 'hải_lý', 'hải_mã', 'hải_phòng', 'hải_quan', 'hải_quân', 'hải_sâm', 'hải_sản', 'hải_tặc', 'hải_yến', 'hải_đăng', 'hảo', 'hấp', 'hấp_dẫn', 'hấp_thu', 'hấp_thụ', 'hất', 'hầm', 'hầm_mỏ', 'hầu', 'hầu_bao', 'hầu_như', 'hầu_như_ai', 'hầu_như_không', 'hầu_tòa', 'hận', 'hận_thù', 'hậu', 'hậu_cần', 'hậu_duệ', 'hậu_giang', 'hậu_môn', 'hậu_phương', 'hậu_quả', 'hậu_thuẫn', 'hậu_trường', 'hậu_vệ', 'hắc', 'hắn', 'hắt', 'hắt_hơi', 'hắt_hủi', 'hằn', 'hằng', 'hẳn', 'hẳn_hoi', 'hẹ', 'hẹn', 'hẹn_hò', 'hẹp', 'hẻm', 'hẻo_lánh', 'hến', 'hết_lòng', 'hết_lời', 'hết_mình', 'hết_mực', 'hết_sức', 'hết_triệu', 'hề', 'hễ', 'hệ', 'hệ_quả', 'hệ_số', 'hệ_thống', 'hệ_trọng', 'hệt', 'họ_hàng', 'họa', 'họa_sĩ', 'họa_tiết', 'họat_động', 'học', 'học_bổng', 'học_giả', 'học_hành', 'học_hỏi', 'học_kỳ', 'học_lực', 'học_phí', 'học_phần', 'học_sinh', 'học_sinh_học', 'học_thuyết', 'học_thuật', 'học_thức', 'học_trò', 'học_tập', 'học_viên', 'học_viện', 'học_vấn', 'học_vị', 'học_đường', 'họng', 'họp', 'họp_báo', 'họp_mặt', 'hỏa', 'hỏa_hoạn', 'hỏi_cung', 'hỏi_han', 'hỏi_thăm', 'hỏng', 'hỏng_hóc', 'hố', 'hố_ga', 'hốc', 'hối_cải', 'hối_hả', 'hối_hận', 'hối_lỗi', 'hối_lộ', 'hối_thúc', 'hối_tiếc', 'hối_đoái', 'hốt', 'hốt_hoảng', 'hồ', 'hồ_chí', 'hồ_hởi', 'hồ_sơ', 'hồ_thị', 'hồ_văn', 'hồi', 'hồi_giáo', 'hồi_hương', 'hồi_hộp', 'hồi_ký', 'hồi_phục', 'hồi_sinh', 'hồi_sức', 'hồi_tưởng', 'hồi_xuân', 'hồi_âm', 'hồi_ức', 'hồn', 'hồn_nhiên', 'hồng', 'hồng_bàng', 'hồng_cầu', 'hồng_hoa', 'hồng_hào', 'hồng_minh', 'hồng_ngoại', 'hồng_ngọc', 'hồng_nhung', 'hồng_sơn', 'hồng_thủy', 'hồng_vân', 'hổ', 'hổ_thẹn', 'hổng', 'hỗ_trợ_triệu', 'hỗn_hợp', 'hỗn_loạn', 'hỗn_độn', 'hộ', 'hộ_chiếu', 'hộ_khẩu', 'hộ_tịch', 'hộ_tống', 'hội', 'hội_chợ', 'hội_chứng', 'hội_diễn', 'hội_họa', 'hội_họp', 'hội_nghị', 'hội_ngộ', 'hội_nhập', 'hội_thảo', 'hội_thẩm', 'hội_trường', 'hội_tụ', 'hội_viên', 'hội_đàm', 'hội_đồng', 'hộp', 'hộp_thoại', 'hộp_thư', 'hộp_đen', 'hộp_đêm', 'hột', 'hớ', 'hớn_hở', 'hớt_tóc', 'hờ', 'hờ_hững', 'hời_hợt', 'hở', 'hở_hang', 'hỡi', 'hợi', 'hợp', 'hợp_chất', 'hợp_doanh', 'hợp_kim', 'hợp_lý', 'hợp_lệ', 'hợp_nhất', 'hợp_pháp', 'hợp_thức_hóa', 'hợp_tác', 'hợp_tác_xã', 'hợp_xướng', 'hợp_đồng', 'hụi', 'hụt', 'hụt_hẫng', 'hủ_tiếu', 'hủy', 'hủy_bỏ', 'hủy_diệt', 'hủy_hoại', 'hủy_án', 'hứa', 'hứa_hẹn', 'hứng', 'hứng_chịu', 'hứng_khởi', 'hứng_thú', 'hừng_hực', 'hữu', 'hữu_cơ', 'hữu_dụng', 'hữu_hiệu', 'hữu_hạn', 'hữu_nghị', 'hữu_quan', 'hữu_thắng', 'hữu_tình', 'hữu_ích', 'hỷ', 'iaea', 'ian', 'iaquinta', 'ibarra', 'ibm', 'ibrahim', 'ibrahimovic', 'icann', 'iceland', 'icq', 'ict', 'id', 'idc', 'idecaf', 'idp', 'ie', 'ielts', 'if', 'igor', 'ii', 'iii', 'ikea', 'iker', 'il', 'ila', 'ilham', 'ilhwa', 'illes', 'illinois', 'im', 'im_hơi', 'im_lặng', 'image', 'imf', 'img', 'in', 'in_ấn', 'inaki', 'inc', 'inch', 'index', 'indiana', 'indira', 'indonesia', 'indra', 'iniesta', 'inox', 'insulin', 'intel', 'inter', 'international', 'internet', 'interpet', 'interpol', 'intifada', 'inzaghi', 'ion', 'ip', 'ipod', 'ipv', 'iq', 'iran', 'iraq', 'ireland', 'irina', 'is', 'isaksson', 'islamabad', 'island', 'ismael', 'ismail', 'iso', 'isp', 'israel', 'iss', 'issawa', 'istanbul', 'it', 'italia', 'italy', 'itc', 'itunes', 'iv', 'ivan', 'ivanov', 'ivica', 'ix', 'iyad', 'iốt', 'jaafari', 'jaap', 'jaaskelainen', 'jack', 'jackie', 'jackson', 'jacques', 'jae', 'jaguar', 'jakarta', 'james', 'jamie', 'jan', 'jane', 'janet', 'jang', 'jankulovski', 'january', 'japan', 'jarno', 'jason', 'java', 'javi', 'javier', 'jay', 'jazeera', 'jazz', 'jean', 'jeans', 'jeff', 'jeffrey', 'jenas', 'jennifer', 'jens', 'jensen', 'jenson', 'jeonbuk', 'jeong', 'jermain', 'jerry', 'jersey', 'jerusalem', 'jessica', 'jesus', 'ji', 'jihad', 'jim', 'jimmy', 'jin', 'jo', 'joan', 'joaquin', 'jochen', 'joe', 'johan', 'johansson', 'john', 'johnny', 'johnson', 'jolie', 'jon', 'jonathan', 'jones', 'jong', 'joo', 'joon', 'jordan', 'jorge', 'jose', 'joseph', 'jr', 'juan', 'jude', 'judo', 'julia', 'julie', 'julien', 'julio', 'july', 'jun', 'june', 'jung', 'junichiro', 'juninho', 'junior', 'justin', 'justine', 'juve', 'juventus', 'jvc', 'kabul', 'kahn', 'kaiserslautern', 'kaka', 'kaladze', 'kali', 'kamprad', 'kang', 'kangaroo', 'kanoute', 'kanu', 'karachi', 'karagounis', 'karaoke', 'karatedo', 'karel', 'karen', 'karimi', 'karl', 'karzai', 'kashmir', 'kasim', 'kata', 'kate', 'katie', 'katrina', 'kazaa', 'kazakhstan', 'kb', 'kbps', 'kbs', 'kcal', 'kcb', 'kcn', 'kcq', 'kcx', 'ke', 'keane', 'keith', 'kelly', 'kem', 'kem_dưỡng', 'ken', 'kennedy', 'kenneth', 'kenny', 'kenya', 'keo', 'kerry', 'kesley', 'kesuma', 'kevin', 'kewell', 'key', 'kezman', 'kg', 'kh', 'kha', 'kha_khá', 'khac', 'khai', 'khai_báo', 'khai_cuộc', 'khai_giảng', 'khai_mạc', 'khai_phá', 'khai_quật', 'khai_sinh', 'khai_thác', 'khai_thông', 'khai_trương', 'khai_trừ', 'khai_vị', 'khaled', 'khalid', 'kham', 'khan', 'khan_hiếm', 'khang', 'khang_trang', 'khanh', 'khao', 'khao_khát', 'khatoco', 'khay', 'khcn', 'khe', 'khen', 'khen_ngợi', 'khen_thưởng', 'khin', 'khinh', 'khiêm', 'khiêm_tốn', 'khiên', 'khiêng', 'khiêu_dâm', 'khiêu_khích', 'khiêu_vũ', 'khiếm_khuyết', 'khiếm_nhã', 'khiếm_thính', 'khiếm_thị', 'khiếp_sợ', 'khiết', 'khiếu', 'khiếu_kiện', 'khiếu_nại', 'khiển', 'khiển_trách', 'khmer', 'kho', 'kho_bãi', 'kho_bạc', 'kho_tàng', 'khoa', 'khoa_học', 'khoa_ngoại', 'khoa_nội', 'khoai', 'khoai_lang', 'khoai_tây', 'khoan', 'khoan_dung', 'khoan_hồng', 'khoan_nhượng', 'khoang', 'khoanh', 'khobar', 'khodorkovsky', 'khoe', 'khoi', 'khong', 'khoá', 'khoác', 'khoác_áo', 'khoái', 'khoái_cảm', 'khoái_khẩu', 'khoán', 'khoáng', 'khoáng_chất', 'khoáng_sản', 'khoát', 'khoét', 'khoả_thân', 'khoản', 'khoảng_triệu', 'khoảng_tỉ', 'khoảng_tỷ', 'khoảnh_khắc', 'khoẻ', 'khoẻ_mạnh', 'khu', 'khu_mộ', 'khu_phố', 'khu_phố_phường', 'khu_trú', 'khu_vực', 'khu_đô_thị', 'khui', 'khung', 'khung_cảnh', 'khung_giá', 'khung_thành', 'khuya', 'khuyen', 'khuynh_hướng', 'khuyên', 'khuyên_bảo', 'khuyên_nhủ', 'khuyến', 'khuyến_cáo', 'khuyến_học', 'khuyến_khích', 'khuyến_mãi', 'khuyến_mại', 'khuyến_nghị', 'khuyết', 'khuyết_tật', 'khuyết_điểm', 'khuê', 'khuôn', 'khuôn_khổ', 'khuôn_mẫu', 'khuôn_mặt', 'khuôn_viên', 'khuất', 'khuất_phục', 'khuất_tất', 'khuấy', 'khuấy_động', 'khuẩn', 'khuỷu', 'khxh', 'khàn', 'khá_giả', 'khác_biệt', 'khách_hàng', 'khách_quan', 'khách_sạn', 'khái_niệm', 'khái_quát', 'khám', 'khám_nghiệm', 'khám_phá', 'khám_xét', 'khán', 'khán_giả', 'khán_đài', 'kháng', 'kháng_chiến', 'kháng_cáo', 'kháng_cự', 'kháng_nghị', 'kháng_nguyên', 'kháng_sinh', 'kháng_thể', 'kháng_viêm', 'kháng_án', 'khánh', 'khánh_hòa', 'khánh_thành', 'kháo', 'khát', 'khát_khao', 'khát_vọng', 'khâm', 'khâm_phục', 'khâu', 'khéo', 'khéo_léo', 'khéo_tay', 'khép', 'khép_kín', 'khét', 'khét_tiếng', 'khê', 'khêu_gợi', 'khí', 'khí_công', 'khí_cầu', 'khí_huyết', 'khí_hư', 'khí_hậu', 'khí_quyển', 'khí_quản', 'khí_thải', 'khí_thế', 'khí_tượng', 'khí_đốt', 'khía_cạnh', 'khích_lệ', 'khít', 'khó_chịu', 'khó_dễ', 'khó_lòng', 'khó_nhọc', 'khó_tính', 'khóa', 'khóc', 'khóc_lóc', 'khóe', 'khói', 'khóm', 'khô', 'khô_cứng', 'khô_hạn', 'khô_khan', 'khô_ráo', 'khôi', 'khôi_hài', 'khôi_phục', 'khôn', 'khôn_khéo', 'khôn_lường', 'khôn_lớn', 'khôn_ngoan', 'không_chiến', 'không_gian', 'không_khéo', 'không_khí', 'không_kích', 'không_lưu', 'không_lẽ', 'không_quân', 'không_thể_hiện', 'không_thể_nào', 'không_trung', 'không_trung_thực', 'không_tưởng', 'không_đâu', 'khùng', 'khúc', 'khúc_mắc', 'khúc_xạ', 'khăn', 'khăn_gói', 'khăng_khăng', 'khơi', 'khơi_gợi', 'khương', 'khước_từ', 'khạc', 'khả_dĩ', 'khả_nghi', 'khả_năng', 'khả_quan', 'khả_thi', 'khải', 'khảm', 'khảo', 'khảo_cổ', 'khảo_cổ_học', 'khảo_sát', 'khảo_thí', 'khất', 'khấu_hao', 'khấu_trừ', 'khẩn', 'khẩn_cấp', 'khẩn_trương', 'khẩu', 'khẩu_chiến', 'khẩu_hiệu', 'khẩu_phần', 'khẩu_trang', 'khẩu_vị', 'khập_khiễng', 'khắc', 'khắc_họa', 'khắc_khoải', 'khắc_nghiệt', 'khắc_phục', 'khắc_tinh', 'khắp', 'khắp_cơ_thể', 'khắp_cả', 'khắp_nơi', 'khắt_khe', 'khẽ', 'khế', 'khỉ', 'khỏa', 'khỏe', 'khỏe_khoắn', 'khỏe_mạnh', 'khốc_liệt', 'khối', 'khối_lượng', 'khốn_khó', 'khốn_khổ', 'khốn_đốn', 'khống', 'khống_chế', 'khổ', 'khổ_luyện', 'khổ_qua', 'khổ_sở', 'khổ_tâm', 'khổ_đau', 'khổng', 'khổng_lồ', 'khớp', 'khởi', 'khởi_công', 'khởi_hành', 'khởi_kiện', 'khởi_nghiệp', 'khởi_nghĩa', 'khởi_nguồn', 'khởi_phát', 'khởi_sắc', 'khởi_tranh', 'khởi_tố', 'khởi_xướng', 'khởi_điểm', 'khởi_đầu', 'khởi_động', 'khủng_bố', 'khủng_hoảng', 'khủng_khiếp', 'khủng_long', 'khứ_hồi', 'khứu_giác', 'khử', 'khử_trùng', 'ki', 'ki_ốt', 'kia', 'kiatisak', 'kiatisuk', 'kidman', 'kien', 'kiev', 'kily', 'kim', 'kim_anh', 'kim_chi', 'kim_clijsters', 'kim_cương', 'kim_dung', 'kim_hee', 'kim_hoàn', 'kim_hồng', 'kim_liên', 'kim_loan', 'kim_loại', 'kim_lợi', 'kim_mã', 'kim_ngân', 'kim_ngạch', 'kim_oanh', 'kim_tiền', 'kim_tuyến', 'kim_tự_tháp', 'kim_đồng', 'kim_đồng_hồ', 'kimi', 'king', 'kinh', 'kinh_doanh', 'kinh_dị', 'kinh_hoàng', 'kinh_khủng', 'kinh_nghiệm', 'kinh_nguyệt', 'kinh_ngạc', 'kinh_niên', 'kinh_phí', 'kinh_thánh', 'kinh_tế', 'kinh_tế_học', 'kinh_điển', 'kinh_đô', 'kit', 'kiêm', 'kiêm_nhiệm', 'kiên', 'kiên_cường', 'kiên_cố', 'kiên_giang', 'kiên_nhẫn', 'kiên_quyết', 'kiên_trì', 'kiên_định', 'kiêng', 'kiêu', 'kiêu_hãnh', 'kiêu_ngạo', 'kiếm', 'kiếm_ăn', 'kiến', 'kiến_nghị', 'kiến_thiết', 'kiến_thức', 'kiến_trúc', 'kiến_trúc_sư', 'kiến_tạo', 'kiếng', 'kiếp', 'kiềm', 'kiềm_chế', 'kiều', 'kiều_bào', 'kiều_hối', 'kiểm', 'kiểm_chứng', 'kiểm_duyệt', 'kiểm_dịch', 'kiểm_hóa', 'kiểm_kê', 'kiểm_lâm', 'kiểm_nghiệm', 'kiểm_soát', 'kiểm_sát', 'kiểm_sát_viên', 'kiểm_toán', 'kiểm_tra', 'kiểm_điểm', 'kiểm_định', 'kiểng', 'kiểu', 'kiểu_cách', 'kiểu_dáng', 'kiểu_mẫu', 'kiện', 'kiện_tướng', 'kiện_tụng', 'kiệt', 'kiệt_sức', 'kiệt_tác', 'kiệu', 'klasnic', 'klaus', 'kleberson', 'klein', 'klien', 'klinsmann', 'klitschko', 'klose', 'kluivert', 'km', 'ko', 'kodak', 'kofi', 'koizumi', 'kolev', 'koller', 'kolo', 'kon', 'kong', 'kontum', 'korall', 'korei', 'kosin', 'kournikova', 'kovac', 'kp', 'kremlin', 'krung', 'krông', 'ks', 'kskh', 'ksnd', 'kt', 'kts', 'ktx', 'kuala', 'kuchma', 'kuerten', 'kum', 'kuranyi', 'kurd', 'kurniawan', 'kurt', 'kuwait', 'kuznetsova', 'kv', 'kwh', 'kwon', 'ky', 'kyaw', 'kyoto', 'kyrgyzstan', 'kyung', 'kè', 'kèm', 'kèm_cặp', 'kèn', 'kèo', 'ké', 'kém', 'kém_cạnh', 'kém_cỏi', 'kén', 'kéo', 'kéo_dài', 'kéo_theo', 'kép', 'két', 'kê', 'kê_biên', 'kê_khai', 'kênh', 'kênh_rạch', 'kêu', 'kêu_ca', 'kêu_gọi', 'kêu_trời', 'kìa', 'kìm', 'kìm_hãm', 'kìm_nén', 'kình_địch', 'kích', 'kích_cỡ', 'kích_dục', 'kích_hoạt', 'kích_thích', 'kích_thước', 'kích_động', 'kích_ứng', 'kín', 'kín_kẽ', 'kín_đáo', 'kính', 'kính_trọng', 'kíp', 'kôn', 'kông', 'ký', 'ký_gửi', 'ký_hiệu', 'ký_kết', 'ký_kết_hợp_đồng', 'ký_sinh', 'ký_sinh_trùng', 'ký_tên', 'ký_túc_xá', 'ký_tự', 'ký_ức', 'kđcl', 'kđt', 'kĩ_thuật', 'kẹo', 'kẹo_cao_su', 'kẹp', 'kẹt', 'kẻ', 'kẻ_gian', 'kẻ_thù', 'kẻ_trộm', 'kẻo', 'kẽ', 'kẽm', 'kế', 'kế_cận', 'kế_hoạch', 'kế_hoạch_hóa', 'kế_nhiệm', 'kế_thừa', 'kế_tiếp', 'kế_toán', 'kế_toán_trưởng', 'kế_tục', 'kế_vị', 'kếch_xù', 'kết', 'kết_bạn', 'kết_cấu', 'kết_cấu_hạ_tầng', 'kết_cục', 'kết_dính', 'kết_hôn', 'kết_hợp', 'kết_liễu', 'kết_luận', 'kết_mạc', 'kết_nghĩa', 'kết_nạp', 'kết_nối', 'kết_nối_mạng', 'kết_quả', 'kết_thúc', 'kết_tinh', 'kết_tội', 'kết_án', 'kề', 'kềm', 'kền_kền', 'kể_ra', 'kệ', 'kịch', 'kịch_bản', 'kịch_bản_phim', 'kịch_liệt', 'kịch_nói', 'kịch_tính', 'kịp', 'kịp_thời', 'kỳ', 'kỳ_công', 'kỳ_cục', 'kỳ_cựu', 'kỳ_diệu', 'kỳ_dị', 'kỳ_hạn', 'kỳ_lạ', 'kỳ_quan', 'kỳ_quái', 'kỳ_quặc', 'kỳ_thú', 'kỳ_thị', 'kỳ_thủ', 'kỳ_tích', 'kỳ_vọng', 'kỵ', 'kỷ', 'kỷ_cương', 'kỷ_luật', 'kỷ_lục', 'kỷ_nguyên', 'kỷ_niệm', 'kỷ_vật', 'kỹ', 'kỹ_càng', 'kỹ_lưỡng', 'kỹ_năng', 'kỹ_sư', 'kỹ_thuật', 'kỹ_thuật_số', 'kỹ_thuật_viên', 'kỹ_tính', 'kỹ_xảo', 'la', 'la_cà', 'la_hét', 'la_liệt', 'laden', 'laf', 'lagos', 'lahm', 'lai', 'lai_lịch', 'lai_rai', 'lake', 'lam', 'lam_lũ', 'lam_sơn', 'lampard', 'lamy', 'lan', 'lan_can', 'lan_toả', 'lan_truyền', 'lan_tràn', 'lan_tỏa', 'lance', 'lane', 'lang', 'lang_quân', 'lang_thang', 'language', 'lanh', 'lanka', 'lao', 'lao_lý', 'lao_phổi', 'lao_đao', 'lao_động', 'lap', 'laporta', 'laptop', 'larijani', 'larry', 'larsson', 'las', 'laser', 'latin', 'latinh', 'latitude', 'latvia', 'lau', 'lau_chùi', 'laura', 'lauren', 'laurent', 'lavrov', 'law', 'lawrence', 'lay', 'lazio', 'lcd', 'le', 'league', 'lebanon', 'lecce', 'led', 'ledley', 'lee', 'lee_byung', 'lee_young', 'leeds', 'legend', 'lehmann', 'leicester', 'len', 'len_lỏi', 'lennon', 'lenovo', 'lens', 'leo', 'leo_thang', 'leon', 'leonardo', 'leonid', 'letard', 'levante', 'level', 'leverkusen', 'levitra', 'levski', 'lewis', 'lexmark', 'lg', 'lh', 'lhp', 'lhq', 'li', 'li_bì', 'li_ti', 'liberia', 'libya', 'libăng', 'liechtenstein', 'lien', 'life', 'liga', 'light', 'ligue', 'lilian', 'lille', 'lily', 'lim', 'lima', 'lin', 'lincoln', 'lindsay', 'line', 'linh', 'linh_chi', 'linh_cảm', 'linh_dương', 'linh_hoạt', 'linh_hồn', 'linh_kiện', 'linh_mục', 'linh_thiêng', 'linh_tinh', 'linh_trưởng', 'linh_động', 'link', 'linkton', 'lino', 'linux', 'lionel', 'lip', 'lipid', 'lippi', 'lisa', 'lisbon', 'list', 'little', 'litva', 'liu', 'live', 'liverpool', 'liveshow', 'livorno', 'lizarazu', 'liêm', 'liên', 'liên_bang', 'liên_bộ', 'liên_chiểu', 'liên_danh', 'liên_doanh', 'liên_hiệp', 'liên_hiệp_quốc', 'liên_hoan', 'liên_hoan_phim', 'liên_hoàn', 'liên_hệ', 'liên_hồi', 'liên_hợp', 'liên_kết', 'liên_lạc', 'liên_minh', 'liên_miên', 'liên_ngành', 'liên_quân', 'liên_thông', 'liên_tiếp', 'liên_tưởng', 'liên_tịch', 'liên_tục', 'liên_đoàn', 'liên_đới', 'liêu', 'liếc', 'liếm', 'liền', 'liều', 'liều_lĩnh', 'liều_lượng', 'liễu', 'liệt', 'liệt_dương', 'liệt_kê', 'liệt_sĩ', 'liệt_tuyến', 'liệu', 'liệu_pháp', 'liệu_trình', 'ljungberg', 'lleyton', 'lo', 'lo_lót', 'lo_lắng', 'lo_nghĩ', 'lo_ngại', 'lo_sợ', 'lo_toan', 'lo_âu', 'loa', 'loai', 'loan', 'loanh_quanh', 'loay_hoay', 'logic', 'logo', 'lohan', 'loi', 'lon', 'london', 'long', 'long_an', 'long_biên', 'long_lanh', 'long_nhãn', 'long_trọng', 'longhorn', 'lopez', 'los', 'lost', 'lotto', 'lotus', 'louis', 'love', 'loài', 'loài_người', 'loãng', 'loãng_xương', 'loé', 'loét', 'loại_bỏ', 'loại_hình', 'loại_trừ', 'loạn', 'loạt', 'lpg', 'ls', 'lt', 'ltd', 'lu', 'lu_mờ', 'luc', 'luca', 'lucarelli', 'lucas', 'luciano', 'lucio', 'lucy', 'ludovic', 'lui', 'lui_tới', 'luis', 'luiz', 'lumpur', 'lung', 'lung_lay', 'lung_linh', 'lung_tung', 'luque', 'luxembourg', 'luxemburgo', 'luyến', 'luyến_tiếc', 'luyện', 'luyện_tập', 'luân', 'luân_chuyển', 'luân_lưu', 'luân_phiên', 'luông', 'luẩn_quẩn', 'luận', 'luận_tội', 'luận_văn', 'luận_án', 'luật', 'luật_chơi', 'luật_gia', 'luật_lệ', 'luật_pháp', 'luật_sư', 'luật_tố_tụng_dân_sự', 'luật_tố_tụng_hình_sự', 'luật_định', 'luồn', 'luồng', 'luộc', 'lx', 'ly', 'ly_dị', 'ly_hôn', 'ly_khai', 'ly_kỳ', 'ly_thân', 'ly_tâm', 'lynn', 'lyon', 'là_hơi', 'lài', 'làm_bàn', 'làm_bạn', 'làm_bếp', 'làm_bộ', 'làm_bộ_trưởng', 'làm_chủ', 'làm_chủ_tịch', 'làm_chứng', 'làm_công', 'làm_giàu', 'làm_gương', 'làm_hàng', 'làm_khách', 'làm_khó', 'làm_luật', 'làm_lành', 'làm_ngơ', 'làm_nhục', 'làm_phiền', 'làm_quen', 'làm_quà', 'làm_ruộng', 'làm_thuê', 'làm_thịt', 'làm_tròn', 'làm_tình', 'làm_việc', 'làm_vườn', 'làm_ăn', 'làm_đẹp', 'làm_ơn', 'làn', 'làn_sóng', 'làn_điệu', 'làn_đường', 'làng', 'làng_chơi', 'làng_mạc', 'làng_nghề', 'lành', 'lành_lặn', 'lành_mạnh', 'lành_nghề', 'lành_tính', 'lào', 'lá', 'lá_chắn', 'lá_lốt', 'lá_sen', 'lác', 'lác_đác', 'lách', 'lái', 'lái_xe', 'láng', 'láng_giềng', 'lánh_nạn', 'lát', 'lâm', 'lâm_nghiệp', 'lâm_sàng', 'lâm_sản', 'lâm_thời', 'lâm_trường', 'lâm_tặc', 'lân', 'lân_cận', 'lân_la', 'lâng_lâng', 'lâu_bền', 'lâu_dài', 'lâu_đời', 'lây', 'lây_lan', 'lây_nhiễm', 'lây_truyền', 'lã_thị', 'lã_thị_kim', 'lãi', 'lãi_suất', 'lãm', 'lãng', 'lãng_mạn', 'lãng_phí', 'lãng_quên', 'lãng_tử', 'lãnh', 'lãnh_cảm', 'lãnh_hải', 'lãnh_sự', 'lãnh_sự_quán', 'lãnh_thổ', 'lãnh_tụ', 'lãnh_vực', 'lãnh_đạo', 'lãnh_địa', 'lão', 'lão_hóa', 'lão_luyện', 'lão_làng', 'lão_thành', 'lão_tướng', 'lén', 'lén_lút', 'lép_vế', 'lê', 'lê_anh', 'lê_bảo', 'lê_công', 'lê_duẩn', 'lê_dũng', 'lê_hiếu', 'lê_hoài', 'lê_hoàng', 'lê_huy', 'lê_hùng', 'lê_hồng', 'lê_hữu', 'lê_lợi', 'lê_minh', 'lê_minh_sơn', 'lê_mạnh', 'lê_nguyên', 'lê_ngọc', 'lê_phước', 'lê_quang', 'lê_quý', 'lê_quốc', 'lê_sơn', 'lê_thanh', 'lê_thuỵ', 'lê_thánh', 'lê_thế', 'lê_thị', 'lê_thụy', 'lê_tiến', 'lê_trọng', 'lê_tấn', 'lê_tử', 'lê_văn', 'lê_văn_sỹ', 'lê_văn_thắng', 'lê_văn_tú', 'lê_xuân', 'lê_đình', 'lê_đại', 'lê_đức', 'lên_lớp', 'lên_men', 'lên_mặt', 'lên_tiếng', 'lên_triệu', 'lên_tỷ', 'lên_án', 'lên_đường', 'lên_đồng', 'lênh_đênh', 'lì', 'lì_xì', 'lìa', 'lính', 'lính_thuỷ', 'lít', 'lò', 'lò_vi', 'lò_xo', 'lò_đúc', 'lòi', 'lòng_trắng', 'lòng_vòng', 'lòng_đường', 'lòng_đỏ', 'lóc', 'lóe', 'lóng', 'lót', 'lót_tay', 'lô', 'lôi', 'lôi_cuốn', 'lôi_kéo', 'lông', 'lông_mi', 'lông_mày', 'lông_vũ', 'lõi', 'lõm', 'lùa', 'lùi', 'lùn', 'lùng', 'lúa', 'lúa_mì', 'lún', 'lúng_túng', 'lý', 'lý_giải', 'lý_hóa', 'lý_luận', 'lý_lẽ', 'lý_lịch', 'lý_thuyết', 'lý_thú', 'lý_trí', 'lý_tưởng', 'lăk', 'lăn', 'lăn_lộn', 'lăn_xả', 'lăng', 'lăng_mạ', 'lăng_mộ', 'lăng_nhăng', 'lăng_xê', 'lđ', 'lđbđ', 'lđbđvn', 'lđlđ', 'lĩnh', 'lĩnh_vực', 'lũ', 'lũ_lụt', 'lũ_quét', 'lũy', 'lơ', 'lơ_là', 'lơ_lửng', 'lơ_mơ', 'lơi_lỏng', 'lư', 'lưng', 'lưng_chừng', 'lưu', 'lưu_chuyển', 'lưu_diễn', 'lưu_giữ', 'lưu_hành', 'lưu_không', 'lưu_lượng', 'lưu_lạc', 'lưu_manh', 'lưu_niệm', 'lưu_quốc', 'lưu_thông', 'lưu_truyền', 'lưu_trú', 'lưu_trữ', 'lưu_tâm', 'lưu_vong', 'lưu_vực', 'lưu_động', 'lưu_đức', 'lươn', 'lương', 'lương_bổng', 'lương_quốc', 'lương_thiện', 'lương_thế', 'lương_thị', 'lương_thực', 'lương_triệu', 'lương_tâm', 'lưới', 'lưới_điện', 'lướt', 'lười', 'lười_biếng', 'lường', 'lưỡi', 'lưỡng', 'lưỡng_lự', 'lược', 'lượm', 'lượn', 'lượng_mỡ', 'lượt', 'lượt_đi', 'lạ', 'lạ_lùng', 'lạ_lẫm', 'lạ_miệng', 'lạ_mắt', 'lạ_mặt', 'lạ_thường', 'lạc', 'lạc_bộ', 'lạc_hậu', 'lạc_long', 'lạc_lõng', 'lạc_quan', 'lạch', 'lạm_dụng', 'lạm_phát', 'lạng', 'lạng_lách', 'lạng_sơn', 'lạnh', 'lạnh_giá', 'lạnh_lùng', 'lạnh_lẽo', 'lạnh_nhạt', 'lạp', 'lạt', 'lạy', 'lảng_tránh', 'lấn', 'lấn_chiếm', 'lấn_lướt', 'lấn_sân', 'lấn_át', 'lấp', 'lấp_lánh', 'lấy_lòng', 'lấy_triệu', 'lầm', 'lần_lượt', 'lầu', 'lầy', 'lẩn_tránh', 'lẩn_trốn', 'lẩu', 'lẫn', 'lẫn_lộn', 'lẫy_lừng', 'lận', 'lận_đận', 'lập', 'lập_công', 'lập_luận', 'lập_nghiệp', 'lập_pháp', 'lập_trình', 'lập_trình_viên', 'lập_trường', 'lập_tức', 'lật', 'lật_ngược', 'lật_đổ', 'lậu', 'lậy', 'lắc', 'lắc_lư', 'lắc_đầu', 'lắk', 'lắm', 'lắng', 'lắng_nghe', 'lắng_đọng', 'lắp', 'lắp_ráp', 'lắp_đặt', 'lắt_léo', 'lẳng_lơ', 'lẳng_lặng', 'lặn', 'lặn_lội', 'lặng', 'lặng_lẽ', 'lặp', 'lặp_lại', 'lặp_đi', 'lặt_vặt', 'lẹ', 'lẻ', 'lẻn', 'lẽ', 'lẽ_nào', 'lẽ_ra', 'lề', 'lề_đường', 'lều', 'lễ', 'lễ_hội', 'lễ_tân', 'lệ', 'lệ_phí', 'lệ_thuộc', 'lệch', 'lệch_lạc', 'lệnh', 'lệnh_cấm', 'lịch', 'lịch_lãm', 'lịch_sử', 'lịch_sự', 'lịch_thiệp', 'lịch_trình', 'lịch_đấu', 'lịm', 'lọ', 'lọ_lem', 'lọc', 'lọt', 'lọt_lưới', 'lỏng', 'lỏng_lẻo', 'lố_bịch', 'lốc', 'lối', 'lối_thoát', 'lốp', 'lồi', 'lồng', 'lồng_ngực', 'lồng_tiếng', 'lỗ', 'lỗ_hổng', 'lỗ_đen', 'lỗi', 'lỗi_lầm', 'lỗi_thời', 'lộ', 'lộ_giới', 'lộ_liễu', 'lộ_trình', 'lộc', 'lội', 'lộn', 'lộn_xộn', 'lộng_hành', 'lộng_lẫy', 'lột', 'lột_tả', 'lột_xác', 'lớn_lao', 'lớn_mạnh', 'lớn_tiếng', 'lớn_tuổi', 'lớp', 'lớp_học', 'lờ', 'lờ_mờ', 'lời_giải', 'lời_giải_đáp', 'lời_lẽ', 'lở', 'lở_loét', 'lỡ', 'lợi', 'lợi_dụng', 'lợi_hại', 'lợi_nhuận', 'lợi_thế', 'lợi_tiểu', 'lợi_ích', 'lợn', 'lợp', 'lụa', 'lục', 'lục_quân', 'lục_soát', 'lục_địa', 'lục_đục', 'lụt', 'lụt_bão', 'lứa', 'lứa_đôi', 'lừa', 'lừa_bịp', 'lừa_dối', 'lừa_gạt', 'lừa_đảo', 'lừng_danh', 'lừng_lẫy', 'lửa', 'lửng', 'lữ', 'lữ_hành', 'lữ_đoàn', 'lựa', 'lựa_chọn', 'lực', 'lực_lượng', 'lực_sĩ', 'lựu', 'lựu_đạn', 'lỳ', 'lỵ', 'ma', 'ma_lực', 'ma_quỷ', 'ma_sát', 'ma_thuột', 'ma_tuý', 'ma_túy', 'mac', 'macapagal', 'macau', 'maccabi', 'macedonia', 'machimura', 'made', 'madonna', 'madrid', 'mafia', 'magath', 'magiê', 'mahal', 'mahmoud', 'mai', 'mai_liêm', 'mai_một', 'mai_phục', 'mai_sau', 'mai_thị', 'mai_táng', 'mai_ái', 'mai_đức', 'mail', 'mainboard', 'mainz', 'makaay', 'makassar', 'make', 'makelele', 'maker', 'malaga', 'malaysia', 'maldini', 'maldives', 'mali', 'mallorca', 'malta', 'man', 'management', 'manager', 'manchester', 'mancini', 'mang_tiếng', 'manga', 'manh', 'manh_mối', 'maniche', 'manila', 'manmohan', 'manuel', 'mao', 'maradona', 'marat', 'marathon', 'marc', 'marcel', 'marcello', 'marcelo', 'march', 'marchena', 'marco', 'marcos', 'marcus', 'marek', 'margaret', 'mari', 'maria', 'mariah', 'marie', 'marilyn', 'marino', 'marinos', 'mario', 'mark', 'marketing', 'markus', 'marquez', 'mars', 'marseille', 'marshall', 'mart', 'martin', 'martina', 'martinez', 'martins', 'mary', 'marốc', 'masako', 'mascara', 'mascherano', 'massa', 'massachusetts', 'massage', 'massimo', 'master', 'masters', 'mateja', 'materazzi', 'matt', 'matta', 'matteo', 'matthew', 'matxcơva', 'mau', 'mau_chóng', 'mauresmo', 'mauricio', 'mauro', 'max', 'maxi', 'maxim', 'may', 'may_mà', 'may_mắn', 'may_mặc', 'may_ra', 'may_rủi', 'maya', 'mb', 'mba', 'mbps', 'mc', 'mcafee', 'mccarthy', 'mcclaren', 'mccormack', 'mcewen', 'mcg', 'mclaren', 'md', 'me', 'media', 'megapixel', 'megawati', 'mekong', 'melbourne', 'melia', 'melinda', 'mellberg', 'mellor', 'memory', 'men', 'mendes', 'menu', 'mercedes', 'merk', 'merseyside', 'messenger', 'messi', 'messina', 'mestalla', 'metal', 'methane', 'methanol', 'metro', 'metropole', 'mexes', 'mexico', 'meyde', 'mg', 'mhz', 'mi', 'miami', 'mic', 'miccoli', 'michael', 'michel', 'michele', 'michelle', 'michigan', 'micro', 'microsoft', 'microsystems', 'middlesbrough', 'midi', 'mido', 'miguel', 'mihajlovic', 'mikado', 'mikael', 'mike', 'mikhail', 'milan', 'milito', 'miller', 'millwall', 'milosevic', 'min', 'minardi', 'minh', 'minh_bạch', 'minh_chứng', 'minh_hoạ', 'minh_họa', 'minh_mẫn', 'minh_ngọc', 'minh_oan', 'minh_phương', 'minh_quang', 'minh_quân', 'minh_tinh', 'minh_trí', 'minh_đức', 'mini', 'miroslav', 'mirror', 'miss', 'mista', 'mit', 'mitsubishi', 'mitsustar', 'miên', 'miêu_tả', 'miến', 'miếng', 'miết', 'miếu', 'miền', 'miễn', 'miễn_cưỡng', 'miễn_dịch', 'miễn_giảm', 'miễn_là', 'miễn_nhiễm', 'miễn_nhiệm', 'miễn_phí', 'miễn_sao', 'miễu', 'miện', 'miệng', 'miệt_mài', 'miệt_vườn', 'ml', 'mm', 'mmhg', 'mmol', 'mo', 'mobifone', 'mobile', 'mode', 'model', 'modem', 'modena', 'module', 'mohamad', 'mohamed', 'mohammad', 'mohammed', 'mohd', 'moi', 'moldova', 'molina', 'mon', 'monaco', 'monday', 'money', 'mong', 'mong_chờ', 'mong_manh', 'mong_muốn', 'mong_mỏi', 'mong_đợi', 'mong_ước', 'monica', 'monroe', 'montella', 'montenegro', 'montero', 'montoya', 'montreal', 'moon', 'moore', 'moqtada', 'morales', 'moratti', 'moreno', 'morgan', 'morientes', 'morocco', 'morte', 'morton', 'moscow', 'moskva', 'most', 'mosul', 'mot', 'motor', 'motorola', 'motors', 'motta', 'mountain', 'mourinho', 'moya', 'moyes', 'mozilla', 'mp', 'mpeg', 'mpi', 'mr', 'ms', 'msn', 'mt', 'mttq', 'mtv', 'mu', 'mu_arsenal', 'mu_liverpool', 'mua', 'mua_bán', 'mua_bán_dâm', 'mua_chuộc', 'mua_dâm', 'mua_sắm', 'mua_vui', 'mubarak', 'mueller', 'muhammad', 'mui', 'multimedia', 'munich', 'muon', 'murcia', 'murphy', 'musab', 'musharraf', 'music', 'mutu', 'muôn', 'muôn_thuở', 'muôn_vàn', 'muối', 'muối_khoáng', 'muối_tiêu', 'muỗi', 'muỗng', 'muội', 'muộn', 'muộn_màng', 'mw', 'my', 'myanmar', 'myat', 'mydoom', 'myskina', 'mà_giới', 'mà_ta', 'mài', 'màn', 'màn_bạc', 'màn_hình', 'màn_hình_phẳng', 'màn_kịch', 'màn_ảnh', 'màng', 'màng_trinh', 'mành', 'mào', 'mào_gà', 'màu', 'màu_da', 'màu_da_cam', 'màu_mè', 'màu_sắc', 'mày', 'mày_mò', 'má', 'má_mì', 'mác', 'mách', 'mách_bảo', 'mái', 'mái_tóc', 'máng', 'mánh', 'mát', 'mát_mẻ', 'mát_tay', 'máu', 'máu_lửa', 'máu_thịt', 'máy', 'máy_bay', 'máy_bơm', 'máy_chủ', 'máy_fax', 'máy_giặt', 'máy_in', 'máy_lạnh', 'máy_móc', 'máy_sấy', 'máy_tính', 'máy_ảnh', 'mâm', 'mâm_xôi', 'mâu_thuẫn', 'mây', 'mây_khói', 'mã', 'mã_hóa', 'mã_số', 'mã_thầy', 'mã_tấu', 'mã_đề', 'mãi', 'mãi_lộ', 'mãi_mãi', 'mãn', 'mãn_kinh', 'mãn_nguyện', 'mãn_nhiệm', 'mãn_tính', 'mãnh', 'mãnh_hổ', 'mãnh_liệt', 'mè', 'mèo', 'méo', 'mép', 'mét', 'mét_khối', 'mét_vuông', 'mê', 'mê_hoặc', 'mê_mẩn', 'mê_tín', 'mênh_mông', 'mì', 'mì_chính', 'mìn', 'mí', 'mía', 'mính', 'mít', 'mít_tinh', 'mò', 'mòn', 'mòn_mỏi', 'móc', 'móc_ngoặc', 'móc_nối', 'móc_túi', 'món', 'móng', 'móng_ngựa', 'mô', 'mô_hình', 'mô_phỏng', 'mô_tô', 'mô_tả', 'môi', 'môi_giới', 'môi_trường', 'môn', 'môn_học', 'mông', 'môt', 'môtô', 'mù', 'mù_lòa', 'mù_mịt', 'mù_quáng', 'mùa', 'mùa_vụ', 'mùi', 'mùi_vị', 'mùng', 'múa', 'múc', 'múi', 'mút', 'măng', 'mũ', 'mũ_bảo_hiểm', 'mũi', 'mũi_nhọn', 'mũi_tên', 'mơ', 'mơ_hồ', 'mơ_mộng', 'mơ_ước', 'mưa', 'mưa_lũ', 'mưa_đá', 'mưu', 'mưu_sinh', 'mưu_sát', 'mươi', 'mương', 'mướn', 'mướp', 'mười', 'mười_mươi', 'mường', 'mượn', 'mượt', 'mượt_mà', 'mạ', 'mạc', 'mạch', 'mạch_lạc', 'mạch_máu', 'mạch_vành', 'mại_dâm', 'mạn', 'mạng', 'mạng_di_động', 'mạng_lưới', 'mạnh_bạo', 'mạnh_dạn', 'mạnh_khỏe', 'mạnh_mẽ', 'mạnh_tay', 'mạo_danh', 'mạo_hiểm', 'mải', 'mải_miết', 'mải_mê', 'mảng', 'mảnh', 'mảnh_mai', 'mảy_may', 'mất_công', 'mất_cắp', 'mất_giá', 'mất_hút', 'mất_lòng', 'mất_mát', 'mất_mặt', 'mất_ngủ', 'mất_sức', 'mất_trí', 'mất_trí_nhớ', 'mất_trắng', 'mất_trộm', 'mất_tích', 'mấu_chốt', 'mấy', 'mấy_ai', 'mấy_chốc', 'mấy_khi', 'mầm', 'mầm_non', 'mầu', 'mầu_sắc', 'mẩn', 'mẩu', 'mẫn', 'mẫn_cảm', 'mẫu', 'mẫu_giáo', 'mẫu_mã', 'mẫu_mực', 'mẫu_vật', 'mận', 'mập', 'mập_mờ', 'mật', 'mật_khẩu', 'mật_mã', 'mật_ong', 'mật_thiết', 'mật_vụ', 'mật_độ', 'mậu', 'mậu_dịch', 'mắc', 'mắc_cạn', 'mắc_kẹt', 'mắm', 'mắm_tôm', 'mắng', 'mắt', 'mắt_cá', 'mắt_kính', 'mắt_xanh', 'mắt_xích', 'mặc', 'mặc_cả', 'mặc_cảm', 'mặc_dù', 'mặc_dầu', 'mặc_kệ', 'mặc_nhiên', 'mặc_sức', 'mặc_định', 'mặc_đồ', 'mặn', 'mặn_mà', 'mặn_nồng', 'mặt', 'mặt_biển', 'mặt_bằng', 'mặt_cầu', 'mặt_cắt', 'mặt_hàng', 'mặt_khác', 'mặt_mày', 'mặt_mũi', 'mặt_nước', 'mặt_nạ', 'mặt_phẳng', 'mặt_tiền', 'mặt_trái', 'mặt_trăng', 'mặt_trận', 'mặt_trời', 'mặt_đường', 'mặt_đất', 'mẹ', 'mẹ_đẻ', 'mẹo', 'mẻ', 'mến', 'mến_mộ', 'mềm', 'mềm_dẻo', 'mềm_mại', 'mềm_mỏng', 'mềm_yếu', 'mền', 'mễ', 'mệnh', 'mệnh_danh', 'mệnh_giá', 'mệnh_lệnh', 'mệt', 'mệt_mỏi', 'mệt_nhọc', 'mỉa_mai', 'mỉm', 'mịn', 'mịn_màng', 'mọc', 'mọng', 'mỏ', 'mỏi', 'mỏi_mắt', 'mỏi_mệt', 'mỏm', 'mỏng', 'mỏng_manh', 'mố', 'mốc', 'mốt', 'mồ', 'mồ_côi', 'mồ_hôi', 'mồi', 'mồm', 'mồng', 'mồng_tơi', 'mổ', 'mổ_xẻ', 'mộ', 'mộc', 'mộc_hóa', 'mộc_mạc', 'mộc_nhĩ', 'mộng', 'mộng_du', 'mộng_mơ', 'mộng_tinh', 'một_chiều', 'một_chút', 'một_cái', 'một_hai', 'một_hơi', 'một_lòng', 'một_mình', 'một_mạch', 'một_mực', 'một_nửa', 'một_phép', 'một_thí_nghiệm', 'một_triệu', 'một_tí', 'một_viên', 'một_vẻ', 'một_đôi', 'mớ', 'mới_lạ', 'mới_mẻ', 'mới_toanh', 'mới_đó', 'mới_đầu', 'mờ', 'mờ_nhạt', 'mờ_ám', 'mờ_ảo', 'mời', 'mời_chào', 'mời_gọi', 'mời_thầu', 'mở_cửa', 'mở_hàng', 'mở_miệng', 'mở_màn', 'mở_mắt', 'mở_rộng', 'mở_toang', 'mở_đường', 'mở_đầu', 'mỡ', 'mụ', 'mục', 'mục_sư', 'mục_tiêu', 'mục_tiêu_đề', 'mục_đích', 'mụn', 'mụn_nhọt', 'mủ', 'mức_sống', 'mức_triệu', 'mức_tỷ', 'mức_độ', 'mứt', 'mừng', 'mừng_rỡ', 'mửa', 'mực', 'mỳ', 'mỹ', 'mỹ_hưng', 'mỹ_lệ', 'mỹ_mãn', 'mỹ_nghệ', 'mỹ_nhân', 'mỹ_phẩm', 'mỹ_quan', 'mỹ_thuật', 'mỹ_tục', 'mỹ_đình', 'na', 'na_ná', 'na_uy', 'nadal', 'nai', 'najaf', 'nakata', 'nalbandian', 'nam', 'nam_cao', 'nam_châm', 'nam_giang', 'nam_giới', 'nam_khoa', 'nam_nữ', 'nam_ta', 'nam_trung', 'nam_tính', 'nam_đây', 'nam_định', 'name', 'nan', 'nan_giải', 'nancy', 'nang', 'nano', 'nao', 'naomi', 'napoli', 'napster', 'narathiwat', 'nasa', 'nasdaq', 'national', 'nato', 'natri', 'nature', 'nauy', 'navarro', 'nay_mai', 'nb', 'nbc', 'ndt', 'nec', 'nedved', 'nehru', 'neil', 'neill', 'nelson', 'nem', 'nen', 'neo', 'nepal', 'neri', 'nero', 'nesta', 'net', 'netnam', 'neto', 'netsent', 'netsky', 'network', 'networks', 'neu', 'neville', 'new', 'new_south', 'new_york', 'new_zealand', 'newcastle', 'news', 'next', 'ng', 'nga', 'ngai', 'ngan', 'ngang', 'ngang_dọc', 'ngang_hàng', 'ngang_ngửa', 'ngang_nhiên', 'nganh', 'ngao_ngán', 'ngay_ngắn', 'nghe_ngóng', 'nghi', 'nghi_lễ', 'nghi_ngút', 'nghi_ngại', 'nghi_ngờ', 'nghi_thức', 'nghi_vấn', 'nghiep', 'nghiê', 'nghiêm', 'nghiêm_chỉnh', 'nghiêm_cấm', 'nghiêm_khắc', 'nghiêm_minh', 'nghiêm_ngặt', 'nghiêm_trọng', 'nghiêm_túc', 'nghiên_cứu', 'nghiên_cứu_sinh', 'nghiêng', 'nghiến', 'nghiền', 'nghiệm', 'nghiệm_thu', 'nghiện', 'nghiện_hút', 'nghiện_ngập', 'nghiệp', 'nghiệp_dư', 'nghiệp_vụ', 'nghiệt_ngã', 'nghèo', 'nghèo_khó', 'nghèo_khổ', 'nghèo_nàn', 'nghèo_đói', 'nghé', 'nghêu', 'nghìn', 'nghìn_tỷ', 'nghĩ_ngợi', 'nghĩa', 'nghĩa_là', 'nghĩa_trang', 'nghĩa_vụ', 'nghĩa_địa', 'nghẹn_ngào', 'nghẹt', 'nghẹt_thở', 'nghẽn', 'nghề', 'nghề_nghiệp', 'nghệ', 'nghệ_an', 'nghệ_nhân', 'nghệ_sĩ', 'nghệ_thuật', 'nghệ_tĩnh', 'nghỉ', 'nghỉ_dưỡng', 'nghỉ_hè', 'nghỉ_mát', 'nghỉ_ngơi', 'nghỉ_phép', 'nghỉ_việc', 'nghị', 'nghị_lực', 'nghị_quyết', 'nghị_sĩ', 'nghị_sự', 'nghị_viện', 'nghị_án', 'nghị_định', 'nghị_định_thư', 'nghịch', 'nghịch_lý', 'nghịch_ngợm', 'ngo', 'ngoa', 'ngoai', 'ngoan', 'ngoan_cường', 'ngoan_cố', 'ngoan_ngoãn', 'ngoc', 'ngon', 'ngon_lành', 'ngon_miệng', 'ngon_ngọt', 'ngon_ăn', 'ngoài_luồng', 'ngoài_tai', 'ngoài_trời', 'ngoại', 'ngoại_binh', 'ngoại_cảnh', 'ngoại_giao', 'ngoại_hình', 'ngoại_hạng', 'ngoại_hối', 'ngoại_khoa', 'ngoại_lệ', 'ngoại_ngữ', 'ngoại_nhập', 'ngoại_thành', 'ngoại_thương', 'ngoại_trú', 'ngoại_trưởng', 'ngoại_trừ', 'ngoại_tình', 'ngoại_tệ', 'ngoại_tỉnh', 'ngoại_vi', 'ngoại_vụ', 'ngoại_đạo', 'ngoạn', 'ngoạn_mục', 'ngoặc', 'ngu', 'ngu_ngốc', 'nguoi', 'nguon', 'nguy', 'nguy_cơ', 'nguy_cấp', 'nguy_hiểm', 'nguy_hiểm_nhất', 'nguy_hại', 'nguy_kịch', 'nguyen', 'nguyento', 'nguyên', 'nguyên_bản', 'nguyên_chất', 'nguyên_do', 'nguyên_liệu', 'nguyên_lý', 'nguyên_mẫu', 'nguyên_nhân', 'nguyên_phát', 'nguyên_sinh', 'nguyên_sơ', 'nguyên_thuỷ', 'nguyên_thủ', 'nguyên_thủy', 'nguyên_tắc', 'nguyên_tố', 'nguyên_tử', 'nguyên_vẹn', 'nguyên_đán', 'nguyên_đơn', 'nguyền', 'nguyễn', 'nguyễn_anh', 'nguyễn_anh_dũng', 'nguyễn_bá', 'nguyễn_bảo', 'nguyễn_chí', 'nguyễn_công', 'nguyễn_cường', 'nguyễn_danh', 'nguyễn_du', 'nguyễn_duy', 'nguyễn_gia', 'nguyễn_hoài', 'nguyễn_hoàng', 'nguyễn_huy', 'nguyễn_huệ', 'nguyễn_hùng', 'nguyễn_hưng', 'nguyễn_hải', 'nguyễn_hồng', 'nguyễn_hữu', 'nguyễn_hữu_thắng', 'nguyễn_khắc', 'nguyễn_kim', 'nguyễn_lâm', 'nguyễn_lương', 'nguyễn_minh', 'nguyễn_mạnh', 'nguyễn_mậu', 'nguyễn_nam', 'nguyễn_ngọc', 'nguyễn_ngọc_long', 'nguyễn_như', 'nguyễn_nhật', 'nguyễn_phi', 'nguyễn_phú', 'nguyễn_phúc', 'nguyễn_phương', 'nguyễn_phước', 'nguyễn_quang', 'nguyễn_quốc', 'nguyễn_sinh', 'nguyễn_sơn', 'nguyễn_sỹ', 'nguyễn_thanh', 'nguyễn_thanh_bình', 'nguyễn_thiện', 'nguyễn_thu', 'nguyễn_thành', 'nguyễn_thái', 'nguyễn_thái_bình', 'nguyễn_thượng', 'nguyễn_thế', 'nguyễn_thị', 'nguyễn_thị_huyền', 'nguyễn_thị_minh', 'nguyễn_thị_ngọc', 'nguyễn_thị_thu', 'nguyễn_tiến', 'nguyễn_tri', 'nguyễn_trung', 'nguyễn_trãi', 'nguyễn_trường', 'nguyễn_trọng', 'nguyễn_tuân', 'nguyễn_tuấn', 'nguyễn_tấn', 'nguyễn_tất', 'nguyễn_viết', 'nguyễn_việt', 'nguyễn_văn', 'nguyễn_văn_an', 'nguyễn_văn_dũng', 'nguyễn_văn_hùng', 'nguyễn_văn_hồng', 'nguyễn_văn_linh', 'nguyễn_văn_thanh', 'nguyễn_văn_vinh', 'nguyễn_văn_vạn', 'nguyễn_văn_đua', 'nguyễn_xuân', 'nguyễn_ánh', 'nguyễn_đình', 'nguyễn_đình_chiểu', 'nguyễn_đăng', 'nguyễn_đức', 'nguyện', 'nguyện_vọng', 'nguyệt', 'nguôi', 'nguôi_ngoai', 'nguồn_gốc', 'nguồn_lực', 'nguội', 'nguội_lạnh', 'nguời', 'ngà', 'ngài', 'ngàn', 'ngành', 'ngành_hàng', 'ngành_nghề', 'ngày_công_an', 'ngày_công_dụng', 'ngày_công_ty', 'ngày_kia', 'ngày_mai', 'ngày_mùa', 'ngày_một', 'ngày_nay', 'ngày_sinh', 'ngày_sinh_nhật', 'ngày_trước', 'ngày_đêm', 'ngách', 'ngán', 'ngán_ngẩm', 'ngáp', 'ngát', 'ngáy', 'ngâm', 'ngân', 'ngân_hà', 'ngân_hàng', 'ngân_hàng_đầu_tư', 'ngân_sách', 'ngây_ngất', 'ngây_thơ', 'ngã', 'ngã_bệnh', 'ngã_ngũ', 'ngò', 'ngòai', 'ngòi', 'ngòi_bút', 'ngòi_nổ', 'ngó', 'ngóc_ngách', 'ngói', 'ngón', 'ngón_cái', 'ngón_giữa', 'ngón_trỏ', 'ngót', 'ngô', 'ngô_gia', 'ngô_quang', 'ngô_quyền', 'ngô_thanh', 'ngô_thị', 'ngô_tiến', 'ngô_xuân', 'ngô_đức', 'ngôi_sao', 'ngôi_vị', 'ngôn_luận', 'ngôn_ngữ', 'ngôn_từ', 'ngõ', 'ngõ_ngách', 'ngăn', 'ngăn_chặn', 'ngăn_cách', 'ngăn_cản', 'ngăn_cấm', 'ngăn_ngừa', 'ngăn_nắp', 'ngũ', 'ngũ_cốc', 'ngũ_hành', 'ngũ_vị', 'ngơ_ngác', 'ngư', 'ngư_dân', 'ngư_phủ', 'ngưng', 'ngưng_trệ', 'ngưu', 'ngươ', 'ngước', 'người_bệnh', 'người_hùng', 'người_làm', 'người_lớn', 'người_mẫu', 'người_ngoài', 'người_nhà', 'người_phát_ngôn', 'người_ta', 'người_thân', 'người_thân_yêu', 'người_tình', 'người_xưa', 'người_yêu', 'người_đời', 'ngưỡng', 'ngưỡng_mộ', 'ngược', 'ngược_lại', 'ngược_xuôi', 'ngược_đãi', 'ngượng', 'ngạc_nhiên', 'ngại', 'ngại_ngùng', 'ngạn', 'ngạo_mạn', 'ngạt', 'ngả', 'ngải', 'ngấm', 'ngấm_ngầm', 'ngất', 'ngất_ngây', 'ngất_ngưởng', 'ngất_xỉu', 'ngấy', 'ngầm', 'ngần', 'ngần_ngại', 'ngẩn_ngơ', 'ngẩng', 'ngẫm', 'ngẫu', 'ngẫu_hứng', 'ngẫu_nhiên', 'ngậm', 'ngậm_ngùi', 'ngập', 'ngập_lụt', 'ngập_mặn', 'ngập_ngừng', 'ngập_tràn', 'ngậy', 'ngắm', 'ngắm_nghía', 'ngắn', 'ngắn_gọn', 'ngắn_hạn', 'ngắn_ngủi', 'ngắn_tỷ_số', 'ngắt', 'ngặt_nghèo', 'ngọ', 'ngọc', 'ngọc_bích', 'ngọc_dung', 'ngọc_hà', 'ngọc_khuê', 'ngọc_khánh', 'ngọc_lan', 'ngọc_linh', 'ngọc_oánh', 'ngọc_sơn', 'ngọc_thanh', 'ngọc_thạch', 'ngọc_trai', 'ngọc_đại', 'ngọt_ngào', 'ngỏ', 'ngốn', 'ngồi_tù', 'ngổn_ngang', 'ngỗng', 'ngộ', 'ngộ_nghĩnh', 'ngộ_nhận', 'ngộ_độc', 'ngộp', 'ngột_ngạt', 'ngớ_ngẩn', 'ngớt', 'ngờ', 'ngờ_vực', 'ngời', 'ngỡ', 'ngỡ_ngàng', 'ngợi_khen', 'ngụ', 'ngụm', 'ngụy', 'ngụy_trang', 'ngủ', 'ngủ_gật', 'ngứa', 'ngứa_ngáy', 'ngừa', 'ngừng', 'ngừng_bắn', 'ngửa', 'ngửi', 'ngữ', 'ngữ_văn', 'ngự', 'ngự_trị', 'ngựa', 'ngực', 'nh', 'nha', 'nha_chu', 'nha_khoa', 'nha_sĩ', 'nha_trang', 'nhac', 'nhai', 'nham_thạch', 'nhan', 'nhan_nhản', 'nhan_sắc', 'nhang', 'nhanh_chóng', 'nhanh_nhạy', 'nhanh_nhẹn', 'nhat', 'nhe', 'nhen_nhóm', 'nhi', 'nhi_khoa', 'nhi_đồng', 'nhieu', 'nhiê', 'nhiên', 'nhiên_liệu', 'nhiêu', 'nhiếp_ảnh', 'nhiễm', 'nhiễm_bệnh', 'nhiễm_khuẩn', 'nhiễm_trùng', 'nhiễm_độc', 'nhiễu', 'nhiệm', 'nhiệm_kỳ', 'nhiệm_vụ', 'nhiệt', 'nhiệt_huyết', 'nhiệt_tình', 'nhiệt_điện', 'nhiệt_độ', 'nhiệt_đới', 'nho', 'nho_nhỏ', 'nhu', 'nhu_cầu', 'nhu_nhược', 'nhung', 'nhuyễn', 'nhuần_nhuyễn', 'nhuận', 'nhuận_bút', 'nhuận_tràng', 'nhuốm', 'nhuộm', 'nhà_buôn', 'nhà_báo', 'nhà_bè', 'nhà_bếp', 'nhà_chung_cư', 'nhà_chứa', 'nhà_cái', 'nhà_cổ', 'nhà_cửa', 'nhà_du', 'nhà_du_hành', 'nhà_dân', 'nhà_ga', 'nhà_giam', 'nhà_giáo', 'nhà_gái', 'nhà_hàng', 'nhà_hát', 'nhà_kho', 'nhà_khách', 'nhà_kính', 'nhà_lầu', 'nhà_máy', 'nhà_máy_điện', 'nhà_nghề', 'nhà_nghỉ', 'nhà_nhà', 'nhà_nhập_khẩu', 'nhà_nước', 'nhà_quê', 'nhà_riêng', 'nhà_sàn', 'nhà_sách', 'nhà_sư', 'nhà_thi_đấu', 'nhà_thuốc', 'nhà_thơ', 'nhà_thầu', 'nhà_thờ', 'nhà_trai', 'nhà_trường', 'nhà_trẻ', 'nhà_trọ', 'nhà_tù', 'nhà_tầng', 'nhà_tắm', 'nhà_vua', 'nhà_văn', 'nhà_văn_hóa', 'nhà_vườn', 'nhà_xe', 'nhà_xưởng', 'nhà_ăn', 'nhà_đây', 'nhà_đất', 'nhàm_chán', 'nhàn', 'nhàn_rỗi', 'nhào', 'nhào_lộn', 'nhá', 'nhái', 'nhánh', 'nháp', 'nhát', 'nháy', 'nháy_mắt', 'nhâ', 'nhâm', 'nhâm_nhi', 'nhân', 'nhân_bản', 'nhân_chủng_học', 'nhân_chứng', 'nhân_cách', 'nhân_công', 'nhân_danh', 'nhân_dân', 'nhân_dân_tệ', 'nhân_giống', 'nhân_hậu', 'nhân_khẩu', 'nhân_loại', 'nhân_lực', 'nhân_nhượng', 'nhân_phẩm', 'nhân_quyền', 'nhân_sâm', 'nhân_sự', 'nhân_thân', 'nhân_tài', 'nhân_tạo', 'nhân_tố', 'nhân_viên', 'nhân_văn', 'nhân_văn_tp', 'nhân_vật', 'nhân_ái', 'nhân_điện', 'nhân_đạo', 'nhã', 'nhãn', 'nhãn_cầu', 'nhãn_hiệu', 'nhãn_mác', 'nhão', 'nhè_nhẹ', 'nhép', 'nhét', 'nhì', 'nhí', 'nhích', 'nhím', 'nhóc', 'nhóm_họp', 'nhô', 'nhôm', 'nhúm', 'nhúng', 'nhút_nhát', 'nhăn', 'nhđa', 'nhđá', 'nhĩ', 'nhũ', 'nhũng_nhiễu', 'nhơ', 'nhơn', 'nhường', 'nhường_nhịn', 'nhưỡng', 'nhược', 'nhược_điểm', 'nhượng', 'nhượng_bộ', 'nhạc', 'nhạc_công', 'nhạc_cụ', 'nhạc_kịch', 'nhạc_nhẹ', 'nhạc_phẩm', 'nhạc_sĩ', 'nhạc_trưởng', 'nhạc_viện', 'nhạt', 'nhạt_nhẽo', 'nhạy', 'nhạy_bén', 'nhạy_cảm', 'nhả', 'nhảm_nhí', 'nhảy', 'nhảy_cao', 'nhảy_cầu', 'nhảy_dù', 'nhảy_múa', 'nhảy_nhót', 'nhảy_sào', 'nhảy_vọt', 'nhảy_xa', 'nhấc', 'nhấn', 'nhấn_chìm', 'nhấn_mạnh', 'nhấp', 'nhất_quán', 'nhất_thời', 'nhất_triệu', 'nhất_trí', 'nhầm', 'nhầm_lẫn', 'nhầy', 'nhẩm', 'nhẫn', 'nhẫn_cưới', 'nhẫn_nhịn', 'nhẫn_nại', 'nhẫn_tâm', 'nhậm', 'nhậm_chức', 'nhận_diện', 'nhận_dạng', 'nhận_lời', 'nhận_thức', 'nhận_triệu', 'nhận_xét', 'nhận_định', 'nhập', 'nhập_cuộc', 'nhập_cư', 'nhập_cảnh', 'nhập_học', 'nhập_khẩu', 'nhập_ngoại', 'nhập_ngũ', 'nhập_nhằng', 'nhập_siêu', 'nhập_vai', 'nhập_viện', 'nhật', 'nhật_báo', 'nhật_bản', 'nhật_ký', 'nhật_lệ', 'nhật_thực', 'nhậu', 'nhắc', 'nhắc_nhở', 'nhắm', 'nhắm_mắt', 'nhắn', 'nhắn_gửi', 'nhắn_nhủ', 'nhắn_tin', 'nhắp', 'nhẵn', 'nhặt', 'nhẹ', 'nhẹ_dạ', 'nhẹ_nhàng', 'nhẹ_nhõm', 'nhẹ_tay', 'nhẹt', 'nhẽ', 'nhện', 'nhỉnh', 'nhị', 'nhịn', 'nhịn_đói', 'nhịp', 'nhịp_nhàng', 'nhịp_điệu', 'nhịp_độ', 'nhọc_nhằn', 'nhọn', 'nhọt', 'nhỏ_bé', 'nhỏ_con', 'nhỏ_giọt', 'nhỏ_lẻ', 'nhỏ_nhoi', 'nhỏ_nhắn', 'nhỏ_nhặt', 'nhỏ_nhẹ', 'nhỏ_tuổi', 'nhỏ_xíu', 'nhốn_nháo', 'nhốt', 'nhồi', 'nhồi_nhét', 'nhổ', 'nhổn', 'nhộn_nhịp', 'nhớ_nhung', 'nhớt', 'nhờ_vả', 'nhờn', 'nhỡ', 'nhợt_nhạt', 'nhục', 'nhục_nhã', 'nhức', 'nhức_nhối', 'nhừ', 'những_tưởng', 'nhựa', 'nhựt', 'ni', 'nicholas', 'nick', 'nickname', 'nicky', 'nicolas', 'nicole', 'nicotine', 'nielsen', 'nigel', 'nigeria', 'night', 'nike', 'nikopolidis', 'nile', 'nilon', 'nilông', 'ninh', 'ninh_thuận', 'nino', 'nintendo', 'nirut', 'nissan', 'nistelrooy', 'nitrate', 'nitơ', 'niweat', 'nixon', 'niêm', 'niêm_mạc', 'niêm_phong', 'niêm_yết', 'niêm_yết_giá', 'niên', 'niên_thiếu', 'niên_đại', 'niềm', 'niệm', 'niệu', 'niệu_quản', 'niệu_đạo', 'nkd', 'nlđ', 'nlđo', 'nn', 'nnptnt', 'no', 'nobel', 'noel', 'noh', 'noi', 'nokia', 'nolan', 'non', 'non_nớt', 'non_trẻ', 'nong', 'normandy', 'norodom', 'north', 'norton', 'norwich', 'not', 'notebook', 'nottingham', 'nou', 'november', 'now', 'nowotny', 'noãn', 'nsnd', 'nsưt', 'nt', 'ntk', 'ntt', 'nu', 'nude', 'numancia', 'nung', 'nung_nấu', 'nuno', 'nuremberg', 'nuro', 'nuôi', 'nuôi_cấy', 'nuôi_dưỡng', 'nuôi_nấng', 'nuôi_trồng', 'nuông_chiều', 'nuối_tiếc', 'nuốt', 'nuốt_chửng', 'nv', 'nxb', 'nylon', 'nàng', 'nào_ngờ', 'nách', 'nám', 'nán', 'náo_loạn', 'náo_nhiệt', 'nát', 'nâng', 'nâng_cấp', 'nâng_giá', 'nâng_niu', 'nâng_đỡ', 'nâu', 'nã', 'não', 'nãy', 'nè', 'né', 'né_tránh', 'ném', 'nén', 'nét', 'nê', 'nêm', 'nên_thơ', 'nêu', 'nín', 'níu', 'níu_kéo', 'nòng_cốt', 'nói_chuyện', 'nói_dối', 'nói_năng', 'nói_thẳng', 'nói_xấu', 'nón', 'nóng', 'nóng_bỏng', 'nóng_bức', 'nóng_chảy', 'nóng_giận', 'nóng_hổi', 'nóng_lòng', 'nóng_nảy', 'nóng_nực', 'nóng_tính', 'nóng_vội', 'nô', 'nô_lệ', 'nôi', 'nôm', 'nôm_na', 'nôn', 'nôn_mửa', 'nôn_nóng', 'nông', 'nông_dân', 'nông_lâm', 'nông_nghiệp', 'nông_nổi', 'nông_sản', 'nông_thôn', 'nông_trường', 'núi', 'núi_lửa', 'núi_rừng', 'núm', 'núp', 'nút', 'năm_học', 'năm_ngoái', 'năm_ngụ', 'năm_qua', 'năm_tuổi', 'năm_đây', 'năn_nỉ', 'năng', 'năng_khiếu', 'năng_lượng', 'năng_lực', 'năng_nổ', 'năng_suất', 'năng_động', 'nđ', 'nđ_cp', 'nũng_nịu', 'nơ', 'nươ', 'nương', 'nương_tựa', 'nước_bọt', 'nước_chấm', 'nước_cốt', 'nước_da', 'nước_dùng', 'nước_hoa', 'nước_hoa_quả', 'nước_khoáng', 'nước_lã', 'nước_lèo', 'nước_lạnh', 'nước_lọc', 'nước_lớn', 'nước_máy', 'nước_mũi', 'nước_mắm', 'nước_mắt', 'nước_mặn', 'nước_ngoài', 'nước_ngầm', 'nước_ngọt', 'nước_nhà', 'nước_rút', 'nước_sạch', 'nước_thải', 'nước_tiểu', 'nước_đá', 'nướng', 'nướu', 'nạc', 'nại', 'nạn', 'nạn_nhân', 'nạng', 'nạo', 'nạo_phá_thai', 'nạo_vét', 'nạp', 'nản', 'nản_chí', 'nản_lòng', 'nảy', 'nảy_lửa', 'nảy_nở', 'nảy_sinh', 'nấc', 'nấm', 'nấm_hương', 'nấm_mèo', 'nấm_mốc', 'nấm_rơm', 'nấu', 'nấu_nướng', 'nấu_ăn', 'nẫm', 'nắm', 'nắm_bắt', 'nắn', 'nắng', 'nắng_nóng', 'nắp', 'nằm', 'nằm_mơ', 'nặc_danh', 'nặn', 'nặng_ký', 'nặng_nhọc', 'nặng_nề', 'nặng_trĩu', 'nẻ', 'nẻo', 'nếm', 'nếm_trải', 'nến', 'nếp', 'nề_nếp', 'nền_móng', 'nền_tảng', 'nể', 'nể_nang', 'nệm', 'nện', 'nỉ', 'nịt', 'nọc', 'nọc_độc', 'nối', 'nối_kết', 'nối_liền', 'nối_mạng', 'nối_tiếp', 'nốt', 'nốt_nhạc', 'nốt_ruồi', 'nồi', 'nồng', 'nồng_nhiệt', 'nồng_nàn', 'nồng_nặc', 'nồng_độ', 'nồng_ấm', 'nổ', 'nổ_súng', 'nổi', 'nổi_bật', 'nổi_cáu', 'nổi_cộm', 'nổi_danh', 'nổi_dậy', 'nổi_giận', 'nổi_loạn', 'nổi_nóng', 'nổi_tiếng', 'nổi_tiếng_thế_giới', 'nổi_trội', 'nỗ_lực', 'nỗi', 'nỗi_lòng', 'nỗi_niềm', 'nội', 'nội_bộ', 'nội_chiến', 'nội_chính', 'nội_các', 'nội_dung', 'nội_khoa', 'nội_lực', 'nội_quy', 'nội_soi', 'nội_thành', 'nội_thất', 'nội_tiết', 'nội_tiết_tố', 'nội_trú', 'nội_trợ', 'nội_tâm', 'nội_tại', 'nội_vụ', 'nội_địa', 'nội_địa_hóa', 'nội_đồng', 'nộm', 'nộp', 'nộp_triệu', 'nới', 'nở', 'nở_rộ', 'nỡ', 'nợ', 'nợ_nần', 'nợ_triệu', 'nợ_đọng', 'nụ', 'nứa', 'nứt', 'nứt_nẻ', 'nửa', 'nửa_đêm', 'nữ', 'nữ_giới', 'nữ_hoàng', 'nữ_sinh', 'nữ_thần', 'nữ_trang', 'nữ_tính', 'nữ_tướng', 'nực_cười', 'oai', 'oan', 'oan_uổng', 'oan_ức', 'oanh', 'oanh_liệt', 'obafemi', 'oc', 'oci', 'october', 'oda', 'oestrogen', 'of', 'off', 'office', 'offline', 'oh', 'ohio', 'oi_bức', 'ok', 'okocha', 'old', 'oleg', 'oleguer', 'olimpico', 'oliveira', 'oliver', 'olivier', 'olmert', 'olsen', 'olympia', 'olympiakos', 'olympic', 'olympique', 'om', 'oman', 'omar', 'omega', 'on', 'one', 'ong', 'ong_chúa', 'ong_mật', 'online', 'oo', 'op', 'opec', 'open', 'openoffice', 'opera', 'opportunity', 'opteron', 'options', 'or', 'oracle', 'org', 'organ', 'orleans', 'os', 'osaka', 'osama', 'osasuna', 'oscar', 'oshin', 'oslo', 'otto', 'ouma', 'ounce', 'out', 'outlook', 'owen', 'oxford', 'oxi', 'oxy', 'oxy_hóa', 'ozon', 'ozone', 'oái_oăm', 'oán', 'oánh', 'oải', 'oằn', 'pa', 'pablo', 'pacific', 'pack', 'packard', 'page', 'paing', 'pak', 'pakistan', 'paksé', 'palace', 'palermo', 'palestine', 'palm', 'pan', 'panasonic', 'panathinaikos', 'pancaro', 'pandiani', 'panel', 'panis', 'pantano', 'panucci', 'pao', 'paolo', 'para_games', 'paracetamol', 'paraguay', 'paris', 'park', 'parker', 'parkinson', 'parma', 'parmalat', 'parreira', 'pascal', 'password', 'pasteur', 'patrick', 'pattani', 'paul', 'paul_scholes', 'paula', 'pauleta', 'paulo', 'pavel', 'pavon', 'paypal', 'pc', 'pccc', 'pci', 'pda', 'pdf', 'pearce', 'pedersen', 'pedro', 'pekerman', 'pele', 'pelizzoli', 'pen', 'pena', 'penalty', 'pencak', 'penh', 'penicillin', 'penn', 'pennsylvania', 'pentium', 'people', 'pepsi', 'perez', 'perrotta', 'persie', 'persik', 'peru', 'perugia', 'peruzzi', 'pervez', 'pete', 'peter', 'petersburg', 'petr', 'petro', 'petrolimex', 'petronas', 'petrov', 'petrovietnam', 'pgs', 'ph', 'pha', 'pha_chế', 'pha_lê', 'pha_trộn', 'phai', 'phai_nhạt', 'pham', 'phan', 'phan_anh', 'phan_bội', 'phan_chu_trinh', 'phan_châu', 'phan_rang', 'phan_thanh', 'phan_thiết', 'phan_thế', 'phan_thị', 'phan_văn', 'phan_văn_khải', 'phan_đình', 'phan_đăng', 'phang', 'phanh', 'phanh_phui', 'phao', 'phap', 'pharaoh', 'phe', 'phe_phái', 'phen', 'phhs', 'phi', 'phi_công', 'phi_cơ', 'phi_hành_gia', 'phi_hùng', 'phi_lý', 'phi_pháp', 'phi_thuyền', 'phi_thường', 'phi_vụ', 'phi_đội', 'phil', 'philani', 'philip', 'philippe', 'philippines', 'philips', 'phillip', 'phillips', 'phim', 'phim_hài', 'phim_nhựa', 'phim_truyện', 'phim_trường', 'phim_ảnh', 'phishing', 'phiên', 'phiên_bản', 'phiên_dịch', 'phiên_toà', 'phiên_tòa', 'phiên_xử', 'phiên_đấu_giá', 'phiêu', 'phiêu_lưu', 'phiến', 'phiếu', 'phiền', 'phiền_hà', 'phiền_lòng', 'phiền_muộn', 'phiền_phức', 'phiền_toái', 'phnom', 'pho_mát', 'phonak', 'phone', 'phong', 'phong_bì', 'phong_cách', 'phong_cảnh', 'phong_kiến', 'phong_phú', 'phong_thái', 'phong_toả', 'phong_trào', 'phong_tỏa', 'phong_tục', 'phong_độ', 'photo', 'photocopy', 'php', 'phu', 'phu_nhân', 'phu_quân', 'phuc', 'phuket', 'phun', 'phung_phí', 'phuong', 'phà', 'phàn_nàn', 'phá', 'phá_bỏ', 'phá_cách', 'phá_giá', 'phá_hoại', 'phá_huỷ', 'phá_hủy', 'phá_lưới', 'phá_phách', 'phá_sản', 'phá_thai', 'phá_thế', 'phá_án', 'phác_họa', 'phác_thảo', 'phác_đồ', 'phách', 'phái', 'phái_mạnh', 'phái_viên', 'phái_yếu', 'phái_đoàn', 'phái_đẹp', 'phán', 'phán_quyết', 'phán_xét', 'phán_đoán', 'pháo', 'pháo_hoa', 'pháo_thủ', 'pháo_đài', 'pháp', 'pháp_chế', 'pháp_luật', 'pháp_lý', 'pháp_lệnh', 'pháp_nhân', 'pháp_quyền', 'pháp_định', 'phát', 'phát_ban', 'phát_biểu', 'phát_bóng', 'phát_giác', 'phát_hiện', 'phát_hiện_tại', 'phát_huy', 'phát_huy_hiệu_quả', 'phát_hành', 'phát_minh', 'phát_ngôn', 'phát_ngôn_viên', 'phát_nổ', 'phát_quang', 'phát_sinh', 'phát_sóng', 'phát_thanh', 'phát_thanh_truyền_hình', 'phát_triển', 'phát_tán', 'phát_xít', 'phát_âm', 'phát_điện', 'phát_đạt', 'phát_động', 'phân', 'phân_ban', 'phân_biệt', 'phân_bón', 'phân_bố', 'phân_bổ', 'phân_chia', 'phân_công', 'phân_cấp', 'phân_giải', 'phân_huỷ', 'phân_hóa', 'phân_hạng', 'phân_hủy', 'phân_khối', 'phân_liệt', 'phân_loại', 'phân_luồng', 'phân_lập', 'phân_nửa', 'phân_phát', 'phân_phối', 'phân_trần', 'phân_tán', 'phân_tích', 'phân_tử', 'phân_viện', 'phân_vân', 'phân_vùng', 'phân_xưởng', 'phân_xử', 'phân_đoạn', 'phân_định', 'phèn', 'phép', 'phê', 'phê_bình', 'phê_chuẩn', 'phê_duyệt', 'phê_phán', 'phì', 'phình', 'phí', 'phí_tổn', 'phím', 'phòng', 'phòng_ban', 'phòng_bệnh', 'phòng_chống', 'phòng_dịch', 'phòng_hộ', 'phòng_khám', 'phòng_không', 'phòng_mạch', 'phòng_ngừa', 'phòng_ngự', 'phòng_the', 'phòng_thí_nghiệm', 'phòng_thủ', 'phòng_tránh', 'phòng_vệ', 'phó', 'phó_ban', 'phó_bí_thư', 'phó_chánh', 'phó_chủ_nhiệm', 'phó_chủ_tịch', 'phó_giám_đốc', 'phó_giáo_sư', 'phó_phòng', 'phó_tgđ', 'phó_trưởng', 'phó_tổng', 'phó_tổng_biên_tập', 'phó_tổng_giám_đốc', 'phó_tổng_thống', 'phó_đội', 'phó_đức', 'phóng', 'phóng_khoáng', 'phóng_sự', 'phóng_thích', 'phóng_viên', 'phóng_xạ', 'phóng_đại', 'phô', 'phô_diễn', 'phô_mai', 'phô_trương', 'phôi', 'phôi_thai', 'phông', 'phù', 'phù_hợp_nhất', 'phù_nề', 'phù_phiếm', 'phù_phép', 'phù_sa', 'phù_thuỷ', 'phù_thủy', 'phù_điêu', 'phù_đổng', 'phùng', 'phùng_tp', 'phú', 'phú_hòa', 'phú_lộc', 'phú_nhuận', 'phú_quang', 'phú_quý', 'phú_quốc', 'phú_yên', 'phúc', 'phúc_khảo', 'phúc_lợi', 'phúc_mạc', 'phúc_thẩm', 'phúc_tra', 'phút', 'phút_giây', 'phăng', 'phũ_phàng', 'phơi', 'phơi_bày', 'phơi_áo', 'phương', 'phương_châm', 'phương_cách', 'phương_diện', 'phương_hướng', 'phương_hại', 'phương_pháp', 'phương_thuốc', 'phương_thức', 'phương_tiện', 'phương_trình', 'phương_án', 'phước', 'phường', 'phượng', 'phạm', 'phạm_duy', 'phạm_gia', 'phạm_minh', 'phạm_ngũ', 'phạm_ngọc', 'phạm_nhân', 'phạm_pháp', 'phạm_thế', 'phạm_thị', 'phạm_tiến', 'phạm_tội', 'phạm_vi', 'phạm_văn', 'phạm_đình', 'phạt', 'phạt_góc', 'phạt_triệu', 'phạt_đền', 'phả', 'phải_lòng', 'phản', 'phản_bác', 'phản_bội', 'phản_chiếu', 'phản_công', 'phản_cảm', 'phản_diện', 'phản_hồi', 'phản_kháng', 'phản_lực', 'phản_xạ', 'phản_ánh', 'phản_đối', 'phản_ảnh', 'phản_ứng', 'phảng_phất', 'phấn', 'phấn_chấn', 'phấn_khích', 'phấn_khởi', 'phấn_đấu', 'phất', 'phần_cứng', 'phần_mềm', 'phần_thưởng', 'phần_trăm', 'phần_tử', 'phần_đông', 'phẩm', 'phẩm_chất', 'phẫn_nộ', 'phẫu_thuật', 'phận', 'phật', 'phật_giáo', 'phật_tử', 'phẳng', 'phế', 'phế_liệu', 'phế_quản', 'phế_thải', 'phết', 'phỏng_vấn', 'phỏng_đoán', 'phố', 'phố_phường', 'phối', 'phối_hợp', 'phối_khí', 'phối_màu', 'phồng', 'phổ', 'phổ_biến', 'phổ_cập', 'phổ_thông', 'phổi', 'phớt', 'phớt_lờ', 'phở', 'phụ', 'phụ_cấp', 'phụ_cận', 'phụ_gia', 'phụ_giúp', 'phụ_huynh', 'phụ_khoa', 'phụ_kiện', 'phụ_liệu', 'phụ_nữ', 'phụ_phí', 'phụ_sản', 'phụ_thu', 'phụ_thuộc', 'phụ_trách', 'phụ_trợ', 'phụ_tá', 'phụ_tùng', 'phục', 'phục_chế', 'phục_hưng', 'phục_hồi', 'phục_khẩu', 'phục_kích', 'phục_linh', 'phục_thù', 'phục_trang', 'phục_tùng', 'phục_vụ', 'phục_vụ_việc', 'phụng', 'phủ', 'phủ_nhận', 'phủ_sóng', 'phủ_đầu', 'phức_hợp', 'phức_tạp', 'piano', 'picasso', 'pierce', 'pierluigi', 'piero', 'pierre', 'pin', 'pires', 'pirlo', 'pisa', 'pisico', 'pit', 'pitt', 'pixel', 'pizarro', 'pjico', 'pl', 'plasma', 'platini', 'play', 'player', 'playstation', 'plaza', 'pleiku', 'plo', 'plus', 'pm', 'pmsubject', 'pmu', 'poborsky', 'pocket', 'podolski', 'poe', 'point', 'pole', 'polymer', 'polyp', 'polytechnic', 'pomina', 'pongolle', 'pop', 'port', 'portable', 'portman', 'porto', 'portsmouth', 'posh', 'post', 'posted', 'poster', 'potter', 'powell', 'power', 'pp', 'pr', 'prague', 'premier', 'premiership', 'premium', 'prenn', 'presley', 'primera', 'prince', 'prix', 'pro', 'procurve', 'prodi', 'progesteron', 'progesterone', 'program', 'project', 'prost', 'protein', 'proton', 'provenzano', 'prso', 'prudential', 'ps', 'psg', 'psm', 'psp', 'psv', 'pt', 'ptnt', 'pts', 'ptsc', 'ptth', 'putin', 'puyol', 'pv', 'pv_thanh_niên', 'pvc', 'pvecc', 'pw', 'pyo', 'pê', 'qaeda', 'qatar', 'qg', 'qh', 'qk', 'ql', 'qltt', 'qn', 'qsdđ', 'qua_loa', 'qua_mặt', 'qua_đời', 'quai', 'quai_bị', 'qualcomm', 'quan', 'quan_chức', 'quan_hệ', 'quan_họ', 'quan_liêu', 'quan_ngại', 'quan_niệm', 'quan_sát', 'quan_sát_viên', 'quan_trắc', 'quan_tài', 'quan_điểm', 'quang', 'quang_cảnh', 'quang_dũng', 'quang_huy', 'quang_học', 'quang_linh', 'quang_minh', 'quang_nghị', 'quang_thắng', 'quang_trung', 'quang_vinh', 'quanh', 'quanh_co', 'quanh_năm', 'quanh_quẩn', 'quat', 'quay_cóp', 'quay_phim', 'quay_vòng', 'que', 'queen', 'queensland', 'queiroz', 'quen', 'quen_biết', 'quen_thuộc', 'qui', 'qui_chế', 'qui_hoạch', 'qui_luật', 'qui_mô', 'qui_trình', 'qui_định', 'quick', 'quoc', 'quota', 'quy', 'quy_chuẩn', 'quy_chế', 'quy_cách', 'quy_hoạch', 'quy_kết', 'quy_luật', 'quy_mô', 'quy_nhơn', 'quy_phạm', 'quy_trình', 'quy_tắc', 'quy_tụ', 'quy_định', 'quy_đổi', 'quy_ước', 'quynh', 'quyên', 'quyên_góp', 'quyến', 'quyến_rũ', 'quyết', 'quyết_chiến', 'quyết_liệt', 'quyết_sách', 'quyết_thắng', 'quyết_toán', 'quyết_tâm', 'quyết_đoán', 'quyết_đấu', 'quyết_định', 'quyền', 'quyền_hạn', 'quyền_lợi', 'quyền_lực', 'quyển', 'quyện', 'quà', 'quà_cáp', 'quá_cảnh', 'quá_cố', 'quá_khích', 'quá_khổ', 'quá_khứ', 'quá_sức', 'quá_tải', 'quá_đà', 'quá_độ', 'quách', 'quái', 'quái_vật', 'quái_ác', 'quán', 'quán_triệt', 'quán_xuyến', 'quánh', 'quát', 'quân', 'quân_bình', 'quân_bình_tỷ_số', 'quân_cảnh', 'quân_dụng', 'quân_khu', 'quân_ngũ', 'quân_nhân', 'quân_phục', 'quân_số', 'quân_sự', 'quân_tử', 'quân_đoàn', 'quân_đội', 'quây', 'quây_quần', 'quãng', 'quét', 'quét_dọn', 'quê', 'quê_hương', 'quê_mùa', 'quên', 'quên_lãng', 'quên_mình', 'quí', 'quý', 'quý_báu', 'quý_giá', 'quý_hiếm', 'quý_khách', 'quý_mến', 'quý_phái', 'quý_trọng', 'quý_tộc', 'quý_tử', 'quý_vị', 'quýt', 'quăng', 'quĩ', 'quạt', 'quả_quyết', 'quả_tang', 'quả_thực', 'quản', 'quản_giáo', 'quản_lý', 'quản_lý_tài_chính', 'quản_lý_tài_sản', 'quản_trị', 'quảng', 'quảng_bá', 'quảng_bình', 'quảng_châu', 'quảng_cáo', 'quảng_nam', 'quảng_ngãi', 'quảng_ninh', 'quảng_trường', 'quảng_trị', 'quảng_tây', 'quảng_đông', 'quấn', 'quất', 'quấy', 'quấy_rầy', 'quấy_rối', 'quần', 'quần_chúng', 'quần_jean', 'quần_lót', 'quần_thể', 'quần_vợt', 'quần_áo', 'quần_đùi', 'quần_đảo', 'quầng', 'quầy', 'quận_huyện', 'quận_tp', 'quật', 'quậy', 'quậy_phá', 'quắc', 'quẳng', 'quặng', 'quẹt', 'quẻ', 'quế', 'quốc', 'quốc_ca', 'quốc_doanh', 'quốc_gia', 'quốc_hội', 'quốc_khánh', 'quốc_kỳ', 'quốc_lộ', 'quốc_nội', 'quốc_phòng', 'quốc_trung', 'quốc_tế', 'quốc_tịch', 'quốc_tử', 'quốc_vương', 'quốc_vượng', 'quốc_đại', 'quốc_đảo', 'quới', 'quỳ', 'quỳnh', 'quỳnh_hương', 'quỵ', 'quỷ', 'quỹ', 'quỹ_đạo', 'qđ', 'ra_công_ty', 'ra_hiệu', 'ra_hồn', 'ra_lò', 'ra_lệnh', 'ra_mắt', 'ra_mặt', 'ra_quân', 'ra_sức', 'ra_triệu', 'ra_trò', 'ra_vẻ', 'ra_đời', 'rabin', 'rachel', 'racing', 'radar', 'radio', 'rafael', 'rafah', 'rahman', 'rai', 'raikkonen', 'rainer', 'rajiv', 'rak', 'ralf', 'ram', 'ramadan', 'ramallah', 'ramos', 'rang', 'rangers', 'ranh', 'ranh_giới', 'ranieri', 'rao', 'rap', 'rapid', 'rashid', 'rat', 'rau', 'rau_câu', 'rau_cần', 'rau_dền', 'rau_muống', 'rau_má', 'rau_răm', 'rau_sống', 'rau_thơm', 'raul', 'rausing', 'ray', 'raymond', 'rb', 're', 'reader', 'reagan', 'real', 'rebecca', 'recoba', 'red', 'redknapp', 'ree', 'reese', 'reggina', 'registry', 'rehhagel', 'reid', 'reina', 'reiziger', 'remon', 'renato', 'renault', 'rene', 'reo', 'reo_hò', 'research', 'resort', 'reuters', 'rex', 'reyes', 'rfid', 'ri', 'ria', 'riazor', 'rica', 'ricardo', 'rice', 'rich', 'richard', 'richardson', 'richter', 'rico', 'riedl', 'riise', 'rijkaard', 'rio', 'riquelme', 'rit', 'rivaldo', 'river', 'riyadh', 'riêng_biệt', 'riêng_lẻ', 'riêng_rẽ', 'riêng_tư', 'riết', 'riềng', 'rlc', 'rlcd', 'rm', 'rmit', 'ro', 'road', 'robben', 'robbie', 'robert', 'roberto', 'roberts', 'robin', 'robinho', 'robinson', 'robot', 'robson', 'rocchi', 'roche', 'rock', 'rocker', 'rocket', 'roddick', 'rodrigo', 'rodrigues', 'rodriguez', 'roger', 'rogerio', 'roh_moo', 'roi', 'roland', 'rom', 'roma', 'roman', 'romania', 'romano', 'romario', 'rome', 'romeo', 'ron', 'ronald', 'ronaldinho', 'ronaldo', 'rong', 'rong_ruổi', 'room', 'rooney', 'roque', 'rose', 'rosenborg', 'rosicky', 'ross', 'rossi', 'rothen', 'rovers', 'roy', 'royal', 'ru', 'rubella', 'ruben', 'rubens', 'rudi', 'rui', 'rumsfeld', 'run', 'run_rẩy', 'rung', 'rung_chuyển', 'rung_động', 'rusalka', 'rusedski', 'russell', 'ruud', 'ruy_băng', 'ruệ', 'ruốc', 'ruồi', 'ruộng', 'ruột', 'ruột_già', 'ruột_non', 'ruột_thừa', 'rv', 'rw', 'ryan', 'ryu', 'rà', 'rà_soát', 'ràng_buộc', 'rành', 'rào', 'rào_chắn', 'rào_cản', 'rác', 'rác_thải', 'rách', 'rám', 'rán', 'ráng', 'ráo_riết', 'ráp', 'rát', 'ráy', 'râm_ran', 'râu', 'rã', 'rã_rời', 'rãnh', 'rèm', 'rèn', 'rèn_luyện', 'rét', 'rê', 'rêu', 'rìa', 'rình', 'rình_rập', 'rìu', 'rít', 'rò', 'rò_rỉ', 'ròng', 'ròng_rã', 'rót', 'rô', 'rô_bốt', 'rôm_rả', 'rõ_ràng', 'rõ_rệt', 'rùa', 'rùng_mình', 'rùng_rợn', 'rú', 'rúp', 'rút', 'rút_lui', 'rút_ruột', 'rút_tiền', 'răn_đe', 'răng_cưa', 'răng_hàm', 'răng_sữa', 'rũ', 'rơi', 'rơm', 'rưng_rưng', 'rươi', 'rước', 'rưới', 'rườm_rà', 'rưỡi', 'rượt', 'rượu', 'rượu_bia', 'rượu_chè', 'rượu_trắng', 'rượu_vang', 'rạch', 'rạch_miễu', 'rạch_ròi', 'rạn', 'rạn_nứt', 'rạng', 'rạng_rỡ', 'rạng_đông', 'rạp', 'rải', 'rải_rác', 'rảnh', 'rảnh_rỗi', 'rất_đỗi', 'rầm_rộ', 'rầy', 'rầy_nâu', 'rẫy', 'rậm', 'rập', 'rắc', 'rắc_rối', 'rắn', 'rắn_chắc', 'rắn_độc', 'rằm', 'rặn', 'rặng', 'rẻ', 'rẻ_tiền', 'rẽ', 'rền', 'rể', 'rễ', 'rệp', 'rỉ', 'rỉ_tai', 'rịa', 'rọi', 'rối', 'rối_bời', 'rối_loạn', 'rối_rắm', 'rốn', 'rốt_ráo', 'rồng', 'rổ', 'rỗi', 'rỗng', 'rộ', 'rộn_ràng', 'rộn_rã', 'rộng', 'rộng_lượng', 'rộng_lớn', 'rộng_mở', 'rộng_rãi', 'rộp', 'rớt', 'rớt_giá', 'rời', 'rời_rạc', 'rợp', 'rục_rịch', 'rụi', 'rụng', 'rụt_rè', 'rủ', 'rủ_rê', 'rủi_ro', 'rừng', 'rừng_núi', 'rửa', 'rửa_tiền', 'rữa', 'rực', 'rực_rỡ', 'sa', 'sa_mạc', 'sa_ngã', 'sa_pa', 'sa_sút', 'sa_sút_trí_tuệ', 'sa_thải', 'sabri', 'sabrosa', 'sacchi', 'sacombank', 'saddam', 'sadr', 'saez', 'safin', 'sagnol', 'saha', 'sai', 'sai_lầm', 'sai_lệch', 'sai_phạm', 'sai_sót', 'sai_số', 'sai_trái', 'saigon', 'saigontourist', 'saint', 'sakda', 'salad', 'sale', 'salgado', 'salon', 'salossa', 'sam', 'samba', 'sampdoria', 'sampras', 'samsung', 'samuel', 'san', 'san_bằng', 'san_hô', 'san_lấp', 'san_sát', 'san_sẻ', 'sanchez', 'sand', 'sandy', 'sang_chấn', 'sang_nhượng', 'sang_trọng', 'sang_tên', 'sanh', 'santa', 'santander', 'santiago', 'santini', 'santoro', 'santos', 'sanyo', 'sao_chép', 'sao_chổi', 'sao_hỏa', 'sap', 'sapa', 'sar', 'sarah', 'sarayoot', 'sars', 'sasser', 'sat', 'sata', 'satellite', 'sato', 'saturday', 'sauber', 'saudi', 'sav', 'save', 'savimex', 'saviola', 'sawaco', 'saxophone', 'say', 'say_mê', 'say_sưa', 'say_xỉn', 'say_đắm', 'sbs', 'scan', 'scandal', 'schalke', 'schneider', 'scholes', 'school', 'schroeder', 'schumacher', 'schwarzenegger', 'schwarzer', 'schweinsteiger', 'science', 'sco', 'scolari', 'scotland', 'scott', 'screen', 'screensaver', 'scudetto', 'sd', 'sdđ', 'se', 'sea', 'sea_games', 'seagate', 'sean', 'seaprodex', 'search', 'seattle', 'sebastian', 'sebastien', 'secure', 'security', 'seedorf', 'seitaridis', 'sen', 'senderos', 'senegal', 'seng', 'senna', 'sent', 'seo', 'seongnam', 'seoul', 'sepp', 'september', 'serbia', 'serena', 'sergei', 'sergey', 'serginho', 'sergio', 'serial', 'serie', 'series', 'server', 'service', 'set', 'settings', 'seung', 'sevilla', 'sex', 'sexy', 'sfc', 'sg', 'sgd', 'sgh', 'sgk', 'sgp', 'sh', 'shah', 'shakespeare', 'shakhtar', 'sharapova', 'sharon', 'sharp', 'shaun', 'shawn', 'shea', 'shearer', 'sheffield', 'sheikh', 'shell', 'sheraton', 'sheva', 'shevchenko', 'shide', 'shiite', 'shin', 'shinawatra', 'shock', 'shop', 'shopping', 'short', 'show', 'showbiz', 'si', 'siberia', 'sicily', 'side', 'siemens', 'siena', 'sierra', 'sihamoni', 'sihanouk', 'sikh', 'silat', 'silicon', 'silva', 'silvestre', 'silvio', 'sim', 'simao', 'simba', 'simon', 'simone', 'simpson', 'sin', 'sing', 'singapore', 'singh', 'sinh', 'sinh_dục', 'sinh_hoạt', 'sinh_hóa', 'sinh_học', 'sinh_khí', 'sinh_lý', 'sinh_lợi', 'sinh_lực', 'sinh_mạng', 'sinh_nhật', 'sinh_nở', 'sinh_sôi', 'sinh_sản', 'sinh_sống', 'sinh_thiết', 'sinh_thái', 'sinh_trưởng', 'sinh_tố', 'sinh_tồn', 'sinh_tử', 'sinh_viên', 'sinh_vật', 'sinh_vật_học', 'sinh_đôi', 'sinh_đẻ', 'sinh_địa', 'sinh_động', 'sinhanco', 'sir', 'siriwanwaree', 'siriwong', 'siro', 'sissoko', 'sitc', 'site', 'siu', 'size', 'siêng_năng', 'siêu', 'siêu_hạng', 'siêu_mẫu', 'siêu_nhân', 'siêu_sao', 'siêu_thị', 'siêu_tốc', 'siêu_vi', 'siêu_vi_trùng', 'siêu_âm', 'siết', 'sjc', 'sk', 'sky', 'skype', 'slam', 'slim', 'slna', 'slovakia', 'slovenia', 'smart', 'smertin', 'smicer', 'smith', 'sms', 'sn', 'sneijder', 'snoop', 'so_le', 'so_sánh', 'sociedad', 'socket', 'soda', 'soe', 'sofa', 'sofia', 'sofitel', 'software', 'soi', 'soichiro', 'sol', 'solana', 'solano', 'solari', 'solo', 'solskjaer', 'somalia', 'son', 'son_phấn', 'song', 'song_ca', 'song_hành', 'song_phương', 'song_sinh', 'song_song', 'sonia', 'sony', 'soo', 'sophia', 'sophos', 'sorensen', 'sorin', 'soros', 'sound', 'souness', 'south', 'southampton', 'soái', 'soán', 'soát', 'soạn', 'soạn_thảo', 'sp', 'spa', 'space', 'spacy', 'spam', 'spammer', 'sparta', 'spears', 'speed', 'spice', 'spielberg', 'spirit', 'spirulina', 'sport', 'sports', 'spt', 'spyware', 'sri', 'ssa', 'st', 'stade', 'stam', 'stamford', 'standard', 'stankovic', 'stanley', 'star', 'start', 'state', 'steaua', 'stefan', 'stefano', 'stelios', 'step', 'stephane', 'stephen', 'steroid', 'steve', 'steven', 'stewart', 'stick', 'stilian', 'stockholm', 'stoichkov', 'stone', 'strasbourg', 'straw', 'street', 'stress', 'stuart', 'studio', 'stuttgart', 'style', 'su', 'suarez', 'subject', 'sudan', 'suha', 'sui', 'suk', 'sum_họp', 'sumatra', 'sun', 'sunday', 'sunderland', 'sung', 'sung_mãn', 'sung_sướng', 'sung_sức', 'sung_túc', 'sunni', 'super', 'supersport', 'susan', 'susilo', 'suy', 'suy_dinh_dưỡng', 'suy_diễn', 'suy_giảm', 'suy_kiệt', 'suy_luận', 'suy_nghĩ', 'suy_nghĩ_lại', 'suy_ngẫm', 'suy_nhược', 'suy_sụp', 'suy_thoái', 'suy_tính', 'suy_tư', 'suy_xét', 'suy_yếu', 'suy_đoán', 'suyễn', 'suzuki', 'suôn_sẻ', 'suông', 'suất', 'suối', 'suốt', 'sv', 'sven', 'svetlana', 'svđ', 'switch', 'sx', 'sxh', 'sydney', 'sylvain', 'symantec', 'symbian', 'sync', 'syria', 'system', 'systems', 'sà', 'sà_lan', 'sài', 'sài_gòn', 'sàn', 'sàn_diễn', 'sàn_nhảy', 'sàng', 'sàng_lọc', 'sành', 'sành_điệu', 'sào', 'sách', 'sách_báo', 'sách_kỷ_lục', 'sách_lược', 'sách_vở', 'sái', 'sán', 'sáng_chế', 'sáng_giá', 'sáng_kiến', 'sáng_lập', 'sáng_mai', 'sáng_mắt', 'sáng_rực', 'sáng_suốt', 'sáng_sủa', 'sáng_tác', 'sáng_tạo', 'sáng_tỏ', 'sánh', 'sánh_vai', 'sáo', 'sáp', 'sáp_nhập', 'sát', 'sát_cánh', 'sát_hạch', 'sát_hại', 'sát_khuẩn', 'sát_nhân', 'sát_nút', 'sát_sao', 'sát_thủ', 'sát_trùng', 'sáu', 'sâm', 'sân', 'sân_bay', 'sân_chơi', 'sân_cỏ', 'sân_khách', 'sân_khấu', 'sân_nhà', 'sân_thượng', 'sân_tập', 'sân_đấu', 'sâu', 'sâu_lắng', 'sâu_răng', 'sâu_rộng', 'sâu_sát', 'sâu_sắc', 'sâu_xa', 'sâu_đậm', 'séc', 'sét', 'síp', 'sít_sao', 'sò', 'sòng', 'sòng_phẳng', 'sóc', 'sóc_trăng', 'sói', 'sóng', 'sóng_gió', 'sóng_lừng', 'sóng_radio', 'sóng_thần', 'sót', 'sô', 'sôi', 'sôi_nổi', 'sôi_sục', 'sôi_động', 'sông', 'sông_nước', 'sùi', 'súc', 'súc_vật', 'súng', 'súng_ngắn', 'súng_trường', 'súp', 'sút', 'sút_bóng', 'sút_chân', 'sút_chéo', 'sút_chệch', 'sút_cân', 'sút_phạt', 'sút_xa', 'săm_soi', 'săn', 'săn_bắn', 'săn_bắt', 'săn_lùng', 'săn_sóc', 'săn_tìm', 'săn_đuổi', 'săn_đón', 'sđ', 'sđnđ', 'sĩ', 'sĩ_diện', 'sĩ_quan', 'sơ', 'sơ_bộ', 'sơ_chế', 'sơ_cấp', 'sơ_cứu', 'sơ_hở', 'sơ_khai', 'sơ_kết', 'sơ_mi', 'sơ_sinh', 'sơ_suất', 'sơ_sài', 'sơ_sơ', 'sơ_thẩm', 'sơ_thẩm_xét_xử', 'sơ_tuyển', 'sơ_tán', 'sơ_đồ', 'sơmi', 'sơn', 'sơn_dầu', 'sơn_la', 'sơn_mài', 'sơn_trà', 'sư', 'sư_phạm', 'sư_phạm_tp', 'sư_tử', 'sư_đoàn', 'sưng', 'sưu_tầm', 'sưu_tập', 'sương', 'sương_mù', 'sướng', 'sườn', 'sưởi', 'sạc', 'sạch', 'sạch_sẽ', 'sạm', 'sạn', 'sạp', 'sạt', 'sạt_lở', 'sả', 'sải', 'sản', 'sản_khoa', 'sản_lượng', 'sản_phẩm', 'sản_phụ', 'sản_sinh', 'sản_vật', 'sản_xuất', 'sảng_khoái', 'sảnh', 'sảy', 'sấm', 'sấm_sét', 'sấp', 'sấu', 'sấy', 'sầm', 'sầm_uất', 'sầu', 'sầu_riêng', 'sẩy', 'sẩy_thai', 'sẫm', 'sậm', 'sập', 'sắc', 'sắc_bén', 'sắc_màu', 'sắc_sảo', 'sắc_thái', 'sắc_thể', 'sắc_tố', 'sắc_tộc', 'sắc_đẹp', 'sắm', 'sắn', 'sắn_dây', 'sắp_sửa', 'sắp_xếp', 'sắt', 'sẵn', 'sẵn_lòng', 'sẵn_sàng', 'sặc', 'sặc_sỡ', 'sẹo', 'sẻ', 'sến', 'sếp', 'sếu', 'sệ', 'sệt', 'sỉ', 'sỉ_nhục', 'sọ', 'sọc', 'sỏi', 'số_dư', 'số_gia_cầm', 'số_hiệu', 'số_liệu', 'số_lượng', 'số_phận', 'số_ít', 'số_đo', 'số_đề', 'sốc', 'sống', 'sống_chết', 'sống_còn', 'sống_mũi', 'sống_sót', 'sống_động', 'sốt', 'sốt_ruột', 'sốt_rét', 'sốt_sắng', 'sốt_xuất_huyết', 'sổ', 'sổ_mũi', 'sổ_sách', 'sổ_tay', 'sổ_đỏ', 'sới', 'sớm_muộn', 'sờ', 'sở', 'sở_hữu', 'sở_hữu_trí_tuệ', 'sở_thích', 'sở_trường', 'sở_tại', 'sởi', 'sợ', 'sợ_hãi', 'sợi', 'sụn', 'sụp', 'sụp_đổ', 'sụt', 'sụt_giảm', 'sủi', 'sủng', 'sứ', 'sứ_mệnh', 'sứ_quán', 'sứa', 'sức', 'sức_bật', 'sức_bền', 'sức_gió', 'sức_khoẻ', 'sức_khỏe', 'sức_lực', 'sức_mua', 'sức_mạnh', 'sức_sống', 'sức_ép', 'sứt', 'sứt_mẻ', 'sừng', 'sử', 'sử_học', 'sử_thi', 'sửa', 'sửa_chữa', 'sửa_sai', 'sửa_sang', 'sửa_đổi', 'sửng_sốt', 'sửu', 'sữa', 'sữa_chua', 'sữa_tươi', 'sững_sờ', 'sự_biến_động', 'sự_cố', 'sự_cố_gắng', 'sự_kiện', 'sự_nghiệp', 'sự_thật', 'sự_thực', 'sự_tỏa', 'sự_vật', 'sự_vụ', 'sỹ', 'ta', 'tab', 'tac', 'tacchinardi', 'taddei', 'taekwondo', 'tai', 'tai_biến', 'tai_hại', 'tai_họa', 'tai_nghe', 'tai_nạn', 'tai_tiếng', 'taj', 'take', 'takuma', 'taliban', 'talk', 'tam', 'tam_bình', 'tam_giác', 'tam_kỳ', 'tam_lang', 'tamiflu', 'tamil', 'tamsu', 'tan', 'tan_nát', 'tan_rã', 'tan_tành', 'tan_vỡ', 'tand', 'tang', 'tang_lễ', 'tang_vật', 'tango', 'tanzania', 'tao', 'tat', 'tau', 'tavares', 'tawan', 'taxi', 'tay_ba', 'tay_chân', 'tay_chơi', 'tay_cầm', 'tay_lái', 'tay_nghề', 'tay_phải', 'tay_trong', 'tay_trái', 'tay_trắng', 'tay_vợt', 'tay_áo', 'tay_đua', 'tay_đôi', 'taylor', 'tb', 'tbn', 'tc', 'tccn', 'tct', 'tddc', 'tdtt', 'te', 'team', 'tech', 'techcombank', 'technologies', 'technology', 'teen', 'tehran', 'tel', 'telecom', 'telegraph', 'tem', 'ten', 'tenet', 'tennis', 'teo', 'teraflop', 'terry', 'test', 'testosteron', 'testosterone', 'tetra', 'tevez', 'texas', 'text', 'tfs', 'tft', 'tg', 'tgđ', 'th', 'tha', 'tha_thiết', 'tha_thứ', 'thai', 'thai_nghén', 'thai_nhi', 'thai_phụ', 'thaksin', 'tham', 'tham_chiến', 'tham_dự', 'tham_gia', 'tham_gia_công_tác', 'tham_gia_tố_tụng', 'tham_khảo', 'tham_lam', 'tham_luận', 'tham_mưu', 'tham_mưu_trưởng', 'tham_nhũng', 'tham_quan', 'tham_vấn', 'tham_vọng', 'than', 'than_phiền', 'than_thở', 'than_vãn', 'than_đá', 'thang', 'thang_máy', 'thanh_bình', 'thanh_bạch', 'thanh_danh', 'thanh_hóa', 'thanh_hải', 'thanh_liêm', 'thanh_long', 'thanh_lý', 'thanh_lịch', 'thanh_minh', 'thanh_mảnh', 'thanh_nguyên', 'thanh_nhàn', 'thanh_nhạc', 'thanh_niên', 'thanh_phong', 'thanh_phương', 'thanh_quản', 'thanh_sát', 'thanh_sơn', 'thanh_thoát', 'thanh_thản', 'thanh_thảo', 'thanh_thủy', 'thanh_toán', 'thanh_tra', 'thanh_trì', 'thanh_tân', 'thanh_tùng', 'thanh_tú', 'thanh_vân', 'thanh_xuân', 'thanh_đa', 'thao', 'thao_tác', 'thao_túng', 'that', 'thau', 'thay', 'thay_mặt', 'thay_thế', 'thay_vì', 'thay_đồ', 'thcn', 'thcs', 'the', 'then', 'then_chốt', 'theo_dõi', 'theo_đuổi', 'therdsak', 'theron', 'thi', 'thi_công', 'thi_cử', 'thi_hài', 'thi_hành', 'thi_sĩ', 'thi_thể', 'thi_thố', 'thi_tuyển', 'thi_tuyển_sinh', 'thi_viết', 'thi_vị', 'thi_đua', 'thi_đấu', 'thich', 'thierry', 'thiêm', 'thiên', 'thiên_chúa', 'thiên_chức', 'thiên_hà', 'thiên_hạ', 'thiên_lạc', 'thiên_nga', 'thiên_nhiên', 'thiên_niên_kỷ', 'thiên_tai', 'thiên_thanh', 'thiên_thạch', 'thiên_thần', 'thiên_thể', 'thiên_tài', 'thiên_văn', 'thiên_văn_học', 'thiên_vương', 'thiên_vị', 'thiên_đường', 'thiên_đồ', 'thiêng', 'thiêng_liêng', 'thiêu', 'thiếc', 'thiếp', 'thiết', 'thiết_bị', 'thiết_kế', 'thiết_lập', 'thiết_nghĩ', 'thiết_tha', 'thiết_thực', 'thiết_yếu', 'thiếu_hụt', 'thiếu_nhi', 'thiếu_niên', 'thiếu_nữ', 'thiếu_sót', 'thiếu_thốn', 'thiếu_tá', 'thiếu_tướng', 'thiếu_vắng', 'thiền', 'thiều', 'thiện', 'thiện_chí', 'thiện_cảm', 'thiệp', 'thiệt', 'thiệt_hại', 'thiệt_mạng', 'thiệt_thòi', 'tho', 'thoa', 'thoai', 'thoi', 'thomas', 'thompson', 'thon', 'thon_thả', 'thong', 'thong_thả', 'thonglao', 'thor', 'thoái', 'thoái_hóa', 'thoáng', 'thoáng_đãng', 'thoát', 'thoát_thân', 'thoát_vị', 'thoăn_thoắt', 'thoại', 'thoạt_đầu', 'thoả_hiệp', 'thoả_mãn', 'thoả_thuận', 'thoả_đáng', 'thoải_mái', 'thoảng', 'thpt', 'ths', 'thsct', 'thu', 'thu_chi', 'thu_dọn', 'thu_giữ', 'thu_gom', 'thu_hoạch', 'thu_hình', 'thu_hút', 'thu_hẹp', 'thu_hồi', 'thu_lượm', 'thu_mua', 'thu_nhận', 'thu_nhập', 'thu_thập', 'thu_thủy', 'thu_xếp', 'thua', 'thua_kém', 'thua_lỗ', 'thua_thiệt', 'thuc', 'thun', 'thung_lũng', 'thuong', 'thuram', 'thursday', 'thuy', 'thuyên', 'thuyên_giảm', 'thuyết', 'thuyết_phục', 'thuyết_trình', 'thuyền', 'thuyền_trưởng', 'thuyền_viên', 'thuê', 'thuê_bao', 'thuý', 'thuần_phong', 'thuần_thục', 'thuần_túy', 'thuận', 'thuận_lợi', 'thuận_tiện', 'thuật', 'thuật_ngữ', 'thuật_toán', 'thuế', 'thuế_chống', 'thuế_nhập_khẩu', 'thuế_quan', 'thuế_suất', 'thuế_thu_nhập', 'thuế_tp', 'thuế_vat', 'thuốc', 'thuốc_bắc', 'thuốc_bổ', 'thuốc_lá', 'thuốc_men', 'thuốc_mê', 'thuốc_nam', 'thuốc_ngủ', 'thuốc_nhuộm', 'thuốc_nổ', 'thuốc_phiện', 'thuốc_sắc', 'thuốc_tây', 'thuốc_độc', 'thuộc_lòng', 'thuột', 'thuở', 'thuỳ', 'thuỵ', 'thuỵ_sĩ', 'thuỵ_sỹ', 'thuỷ', 'thuỷ_sản', 'thuỷ_thủ', 'thuỷ_tinh', 'thuỷ_văn', 'thuỷ_điện', 'thy', 'thành', 'thành_công', 'thành_công_quả', 'thành_danh', 'thành_hình', 'thành_hội', 'thành_khẩn', 'thành_kiến', 'thành_kính', 'thành_lập', 'thành_niên', 'thành_phần', 'thành_phẩm', 'thành_phố', 'thành_quả', 'thành_thạo', 'thành_thật', 'thành_thị', 'thành_tài', 'thành_tâm', 'thành_tích', 'thành_tựu', 'thành_viên', 'thành_đoàn', 'thành_đạt', 'thành_ủy', 'thày', 'thày_giáo', 'thác', 'thách_thức', 'thái', 'thái_bình', 'thái_cực', 'thái_dương', 'thái_lan', 'thái_tử', 'thái_độ', 'thám', 'thám_hiểm', 'thám_tử', 'thán_phục', 'tháng_chạp', 'tháng_giêng', 'tháng_một', 'tháng_qua', 'tháng_tư', 'tháng_đây', 'thánh', 'thánh_đường', 'thánh_địa', 'tháo', 'tháo_chạy', 'tháo_dỡ', 'tháo_gỡ', 'tháp', 'tháp_tùng', 'thâ', 'thâm', 'thâm_hụt', 'thâm_nhập', 'thâm_niên', 'thâm_tâm', 'thân', 'thân_chủ', 'thân_cận', 'thân_hình', 'thân_mật', 'thân_mến', 'thân_nhiệt', 'thân_nhân', 'thân_phận', 'thân_quen', 'thân_thiết', 'thân_thiện', 'thân_thuộc', 'thân_thích', 'thân_thương', 'thân_thể', 'thân_tình', 'thân_tín', 'thân_xác', 'thân_yêu', 'thân_ái', 'thâu', 'thâu_tóm', 'thèm', 'thèm_khát', 'thèm_muốn', 'thép', 'thét', 'thê', 'thê_thảm', 'thêm_tỷ', 'thêu', 'thì_thầm', 'thìa', 'thìa_canh', 'thìn', 'thí_dụ', 'thí_nghiệm', 'thí_sinh', 'thí_điểm', 'thích_hợp', 'thích_hợp_nhất', 'thích_nghi', 'thích_thú', 'thích_đáng', 'thích_ứng', 'thính', 'thính_giác', 'thính_giả', 'thính_lực', 'thính_phòng', 'thò', 'thóc', 'thói', 'thói_quen', 'thót_tim', 'thô', 'thô_bạo', 'thô_lỗ', 'thô_sơ', 'thô_thiển', 'thôi_miên', 'thôi_thì', 'thôi_thúc', 'thôn', 'thông', 'thông_báo', 'thông_cáo', 'thông_cảm', 'thông_dụng', 'thông_lệ', 'thông_minh', 'thông_qua', 'thông_quan', 'thông_suốt', 'thông_số', 'thông_thoáng', 'thông_thường', 'thông_thường_khi', 'thông_thạo', 'thông_tin', 'thông_tư', 'thông_tấn', 'thông_điệp', 'thông_đồng', 'thù', 'thù_lao', 'thù_địch', 'thùng', 'thùng_xe', 'thùy', 'thú', 'thú_nhận', 'thú_thật', 'thú_thực', 'thú_vui', 'thú_vị', 'thúc', 'thúc_giục', 'thúc_ép', 'thúc_đẩy', 'thúng', 'thúy', 'thăm', 'thăm_dò', 'thăm_hỏi', 'thăm_viếng', 'thăn', 'thăng', 'thăng_bằng', 'thăng_hoa', 'thăng_hạng', 'thăng_long', 'thăng_tiến', 'thăng_trầm', 'thơ', 'thơ_ca', 'thơ_mộng', 'thơ_ấu', 'thơm', 'thơm_lừng', 'thơm_phức', 'thư', 'thư_giãn', 'thư_ký', 'thư_mục', 'thư_pháp', 'thư_thái', 'thư_từ', 'thư_viện', 'thưa', 'thưa_thớt', 'thương', 'thương_binh', 'thương_gia', 'thương_hiệu', 'thương_hàn', 'thương_hại', 'thương_lái', 'thương_lượng', 'thương_mại', 'thương_nhân', 'thương_nhớ', 'thương_thuyết', 'thương_thảo', 'thương_tiếc', 'thương_trường', 'thương_tâm', 'thương_tích', 'thương_tật', 'thương_tổn', 'thương_vong', 'thương_vụ', 'thương_yêu', 'thước', 'thước_đo', 'thường_dân', 'thường_kỳ', 'thường_lệ', 'thường_ngày', 'thường_nhật', 'thường_niên', 'thường_trú', 'thường_trực', 'thường_tình', 'thường_vụ', 'thường_xuyên', 'thưởng', 'thưởng_thức', 'thưởng_triệu', 'thược', 'thượng', 'thượng_hải', 'thượng_lưu', 'thượng_nghị_sĩ', 'thượng_nguồn', 'thượng_phong', 'thượng_thận', 'thượng_tá', 'thượng_tướng', 'thượng_viện', 'thượng_đế', 'thượng_đỉnh', 'thạc_sĩ', 'thạc_sỹ', 'thạch', 'thạch_cao', 'thạnh', 'thạo', 'thả', 'thả_lỏng', 'thả_nổi', 'thải', 'thảm', 'thảm_bại', 'thảm_hoạ', 'thảm_hại', 'thảm_họa', 'thảm_khốc', 'thảm_kịch', 'thảm_sát', 'thản_nhiên', 'thảnh', 'thảnh_thơi', 'thảo', 'thảo_dược', 'thảo_luận', 'thảo_nguyên', 'thấm', 'thấm_thía', 'thấp_khớp', 'thấp_thoáng', 'thất', 'thất_bát', 'thất_bại', 'thất_bại_trận', 'thất_lạc', 'thất_nghiệp', 'thất_thoát', 'thất_thu', 'thất_thường', 'thất_thế', 'thất_thủ', 'thất_tình', 'thất_vọng', 'thấu', 'thấu_hiểu', 'thấu_kính', 'thấu_đáo', 'thầm', 'thầm_kín', 'thầm_lặng', 'thần', 'thần_kinh', 'thần_kỳ', 'thần_linh', 'thần_thoại', 'thần_thánh', 'thần_tiên', 'thần_tượng', 'thần_đồng', 'thầu', 'thầy', 'thầy_bói', 'thầy_giáo', 'thầy_thuốc', 'thầy_tu', 'thẩm', 'thẩm_mỹ', 'thẩm_mỹ_viện', 'thẩm_phán', 'thẩm_quyền', 'thẩm_thấu', 'thẩm_tra', 'thẩm_vấn', 'thẩm_định', 'thẫm', 'thận', 'thận_trọng', 'thập', 'thập_cẩm', 'thập_kỷ', 'thập_niên', 'thật_tình', 'thắc_mắc', 'thắm', 'thắm_thiết', 'thắng', 'thắng_bại', 'thắng_cảnh', 'thắng_cử', 'thắng_lợi', 'thắp', 'thắt', 'thắt_lưng', 'thằn_lằn', 'thằng', 'thẳm', 'thẳng', 'thẳng_tay', 'thẳng_thắn', 'thẳng_thừng', 'thẳng_đứng', 'thặng_dư', 'thẻ', 'thẻ_nhớ', 'thẻ_vàng', 'thẻ_đỏ', 'thế_chiến', 'thế_chấp', 'thế_gian', 'thế_giới', 'thế_hệ', 'thế_kỷ', 'thế_lực', 'thế_trận', 'thế_tục', 'thề', 'thềm', 'thể', 'thể_chất', 'thể_chế', 'thể_chế_biến', 'thể_diện', 'thể_dục', 'thể_hiện', 'thể_hình', 'thể_loại', 'thể_lệ', 'thể_lực', 'thể_nghiệm', 'thể_thao', 'thể_thức', 'thể_trạng', 'thể_tích', 'thể_xác', 'thị', 'thị_giác', 'thị_hiếu', 'thị_lực', 'thị_nghè', 'thị_phần', 'thị_sát', 'thị_thực', 'thị_trường', 'thị_trưởng', 'thị_trấn', 'thị_vải', 'thị_xã', 'thị_xã_hội', 'thịnh', 'thịnh_hành', 'thịnh_vượng', 'thịt', 'thọ', 'thọc', 'thỏ', 'thỏa', 'thỏa_hiệp', 'thỏa_mãn', 'thỏa_thuận', 'thỏa_đáng', 'thỏi', 'thối', 'thống', 'thống_kê', 'thống_lĩnh', 'thống_nhất', 'thống_trị', 'thống_đốc', 'thốt_nốt', 'thồ', 'thổ', 'thổ_cẩm', 'thổ_lộ', 'thổi', 'thổi_phồng', 'thới', 'thớt', 'thờ', 'thờ_cúng', 'thời', 'thời_buổi', 'thời_chiến', 'thời_cuộc', 'thời_cơ', 'thời_gian_biểu', 'thời_giờ', 'thời_hiệu', 'thời_hạn', 'thời_khắc', 'thời_kỳ', 'thời_lượng', 'thời_sự', 'thời_thượng', 'thời_tiết', 'thời_trang', 'thời_vụ', 'thời_đại', 'thở', 'thở_dài', 'thở_phào', 'thợ', 'thợ_săn', 'thụ', 'thụ_hưởng', 'thụ_lý', 'thụ_thai', 'thụ_tinh', 'thụ_án', 'thụ_động', 'thục', 'thục_địa', 'thụt_lùi', 'thụy', 'thụy_sĩ', 'thụy_sỹ', 'thụy_điển', 'thủ', 'thủ_công', 'thủ_công_nghiệp', 'thủ_dâm', 'thủ_hoà', 'thủ_hòa', 'thủ_khoa', 'thủ_lĩnh', 'thủ_môn', 'thủ_phạm', 'thủ_phủ', 'thủ_quân', 'thủ_quân_đội_tuyển', 'thủ_quỹ', 'thủ_thiêm', 'thủ_thuật', 'thủ_thành', 'thủ_trưởng', 'thủ_tướng', 'thủ_tục', 'thủ_đoạn', 'thủ_đô', 'thủ_đức', 'thủng', 'thủy', 'thủy_cầm', 'thủy_lợi', 'thủy_ngân', 'thủy_sản', 'thủy_thủ', 'thủy_tinh', 'thủy_tinh_thể', 'thủy_triều', 'thủy_văn', 'thủy_điện', 'thủy_đậu', 'thứ_ba', 'thứ_bảy', 'thứ_hạng', 'thứ_trưởng', 'thứ_tư', 'thứ_tự', 'thức', 'thức_giấc', 'thức_tỉnh', 'thức_ăn', 'thừa', 'thừa_hưởng', 'thừa_kế', 'thừa_nhận', 'thừa_thiên', 'thừng', 'thử', 'thử_hỏi', 'thử_nghiệm', 'thử_thách', 'thự', 'thực', 'thực_chất', 'thực_dân', 'thực_dụng', 'thực_hiện_hành_vi', 'thực_hiện_tại', 'thực_hành', 'thực_hư', 'thực_khuẩn', 'thực_khách', 'thực_lòng', 'thực_lực', 'thực_nghiệm', 'thực_phẩm', 'thực_quản', 'thực_thi', 'thực_thể', 'thực_thụ', 'thực_tiễn', 'thực_trạng', 'thực_tại', 'thực_tập', 'thực_vật', 'thực_đơn', 'thực_địa', 'ti', 'ti_vi', 'tia', 'tiago', 'tie', 'tien', 'tieng', 'tiger', 'tim', 'tim_mạch', 'time', 'times', 'timor', 'tin_cậy', 'tin_dùng', 'tin_học', 'tin_tưởng', 'tin_tặc', 'tin_tức', 'tin_vui', 'tin_vắn', 'tin_yêu', 'tin_đồn', 'tinh', 'tinh_anh', 'tinh_bột', 'tinh_chế', 'tinh_dầu', 'tinh_dịch', 'tinh_hoa', 'tinh_hoàn', 'tinh_khiết', 'tinh_nghịch', 'tinh_nhuệ', 'tinh_quái', 'tinh_thần', 'tinh_thể', 'tinh_thể_lỏng', 'tinh_tinh', 'tinh_trùng', 'tinh_tế', 'tinh_vi', 'tinh_xảo', 'titan', 'titanic', 'tivi', 'tiê', 'tiêm', 'tiêm_chủng', 'tiên', 'tiên_lượng', 'tiên_phong', 'tiên_quyết', 'tiên_tiến', 'tiên_tri', 'tiên_đoán', 'tiêu', 'tiêu_biểu', 'tiêu_chuẩn', 'tiêu_chí', 'tiêu_chảy', 'tiêu_cực', 'tiêu_diệt', 'tiêu_dùng', 'tiêu_hao', 'tiêu_hoá', 'tiêu_huỷ', 'tiêu_hóa', 'tiêu_hủy', 'tiêu_tan', 'tiêu_thụ', 'tiêu_xài', 'tiêu_điểm', 'tiêu_đề', 'tiếc', 'tiếc_nuối', 'tiếc_rẻ', 'tiến', 'tiến_bộ', 'tiến_công', 'tiến_hoá', 'tiến_hành', 'tiến_hóa', 'tiến_minh', 'tiến_sĩ', 'tiến_sỹ', 'tiến_triển', 'tiến_trình', 'tiến_độ', 'tiếng', 'tiếng_nói', 'tiếng_tăm', 'tiếng_vang', 'tiếng_động', 'tiếp', 'tiếp_cận', 'tiếp_cận_thị_trường', 'tiếp_diễn', 'tiếp_giáp', 'tiếp_nhận', 'tiếp_quản', 'tiếp_sức', 'tiếp_tay', 'tiếp_thu', 'tiếp_thị', 'tiếp_tân', 'tiếp_tế', 'tiếp_viên', 'tiếp_xúc', 'tiếp_đón', 'tiết', 'tiết_canh', 'tiết_kiệm', 'tiết_lộ', 'tiết_mục', 'tiết_niệu', 'tiết_tấu', 'tiềm', 'tiềm_lực', 'tiềm_năng', 'tiềm_thức', 'tiềm_tàng', 'tiềm_ẩn', 'tiền', 'tiền_bạc', 'tiền_bối', 'tiền_chiến', 'tiền_của', 'tiền_giang', 'tiền_liệt', 'tiền_lương', 'tiền_lệ', 'tiền_mặt', 'tiền_nhiệm', 'tiền_nong', 'tiền_phong', 'tiền_sử', 'tiền_sự', 'tiền_thân', 'tiền_tiêu', 'tiền_triệu', 'tiền_tài_trợ', 'tiền_túi', 'tiền_tệ', 'tiền_tỉ', 'tiền_tỷ', 'tiền_vệ', 'tiền_án', 'tiền_đạo', 'tiền_đề', 'tiểu', 'tiểu_ban', 'tiểu_bang', 'tiểu_cầu', 'tiểu_học', 'tiểu_khu', 'tiểu_long', 'tiểu_phẩm', 'tiểu_sử', 'tiểu_thuyết', 'tiểu_thư', 'tiểu_thương', 'tiểu_tiện', 'tiểu_xảo', 'tiểu_đoàn', 'tiểu_đường', 'tiễn', 'tiệc', 'tiệc_tùng', 'tiệm', 'tiện', 'tiện_dụng', 'tiện_lợi', 'tiện_nghi', 'tiện_ích', 'tiệp', 'tiệt', 'tl', 'tm', 'tmcp', 'tmn', 'tmncsg', 'tms', 'tmđt', 'tn', 'tncs', 'tngt', 'tnlđ', 'tnt', 'tnxp', 'to', 'to_lớn', 'to_nhỏ', 'to_tiếng', 'to_tát', 'to_tướng', 'to_đùng', 'toa', 'toa_xe', 'toan', 'toan_tính', 'tobago', 'today', 'todd', 'toefl', 'toeic', 'togo', 'toi', 'toilet', 'tokyo', 'toldo', 'toledo', 'tom', 'tomas', 'tomasson', 'tommy', 'toni', 'tony', 'toolbar', 'tools', 'top', 'toro', 'toronto', 'torres', 'torsten', 'torvalds', 'toshiba', 'tostao', 'tot', 'tottenham', 'totti', 'toulouse', 'tour', 'toure', 'town', 'toyota', 'toà_án', 'toàn', 'toàn_bộ', 'toàn_cảnh', 'toàn_cầu', 'toàn_cầu_hóa', 'toàn_diện', 'toàn_lực', 'toàn_năng', 'toàn_phần', 'toàn_quyền', 'toàn_quốc', 'toàn_thân', 'toàn_thắng', 'toàn_thể', 'toàn_vẹn', 'toán', 'toán_học', 'toát', 'toại_nguyện', 'toả', 'toản', 'tp', 'tphcm', 'tq', 'tr', 'tra', 'tra_cứu', 'tra_hỏi', 'tra_tấn', 'trafford', 'trai', 'trai_gái', 'trai_trẻ', 'traianos', 'tran', 'trang', 'trang_bị', 'trang_chủ', 'trang_hoàng', 'trang_lứa', 'trang_nhã', 'trang_phục', 'trang_sức', 'trang_thiết_bị', 'trang_trí', 'trang_trại', 'trang_trải', 'trang_trọng', 'trang_web', 'trang_điểm', 'tranh', 'tranh_chấp', 'tranh_cãi', 'tranh_cử', 'tranh_giành', 'tranh_luận', 'tranh_thủ', 'tranh_tụng', 'tranh_đấu', 'tranh_ảnh', 'trao', 'trao_trả', 'trao_tặng', 'trao_đổi', 'trapattoni', 'trau_chuốt', 'trau_dồi', 'travel', 'tray', 'tre', 'tren', 'treo', 'treo_giò', 'treviso', 'trezeguet', 'tri', 'tri_thức', 'tri_ân', 'trick', 'trinh', 'trinh_sát', 'trinh_tiết', 'trinidad', 'trio', 'tripoli', 'triết', 'triết_học', 'triết_lý', 'triền', 'triền_miên', 'triều', 'triều_cường', 'triều_tiên', 'triều_đại', 'triển', 'triển_khai', 'triển_lãm', 'triển_vọng', 'triệt_hạ', 'triệt_phá', 'triệt_tiêu', 'triệt_để', 'triệu', 'triệu_chứng', 'triệu_chứng_bệnh', 'triệu_phú', 'triệu_tập', 'tro', 'trojan', 'trong_lành', 'trong_suốt', 'trong_sáng', 'trong_sạch', 'trong_trắng', 'trong_trẻo', 'trong_vắt', 'troy', 'trt', 'truc', 'trulli', 'trump', 'trung', 'trung_bình', 'trung_chuyển', 'trung_cấp', 'trung_cổ', 'trung_du', 'trung_gian', 'trung_học', 'trung_kiên', 'trung_lưu', 'trung_lập', 'trung_lộ', 'trung_niên', 'trung_phong', 'trung_quốc', 'trung_thu', 'trung_thành', 'trung_thực', 'trung_tuyến', 'trung_tuần', 'trung_tá', 'trung_tâm', 'trung_tính', 'trung_tướng', 'trung_vệ', 'trung_úy', 'trung_đoàn', 'trung_ương', 'truoc', 'truong', 'truy', 'truy_cản', 'truy_cập', 'truy_cứu', 'truy_lùng', 'truy_nhập', 'truy_nã', 'truy_quét', 'truy_thu', 'truy_tìm', 'truy_tố', 'truy_xuất', 'truy_xét', 'truy_đuổi', 'truyền', 'truyền_bá', 'truyền_cảm', 'truyền_dẫn', 'truyền_hình', 'truyền_nhiễm', 'truyền_thuyết', 'truyền_thông', 'truyền_thống', 'truyền_tải', 'truyền_đạt', 'truyện', 'truyện_ngắn', 'truyện_tranh', 'truất', 'trà', 'trà_my', 'trà_trộn', 'tràm', 'tràn', 'tràn_lan', 'tràn_ngập', 'tràn_trề', 'tràn_đầy', 'tràng', 'trào', 'trào_lưu', 'trá_hình', 'trách', 'trách_cứ', 'trách_móc', 'trách_nhiệm', 'trái', 'trái_cây', 'trái_lại', 'trái_ngược', 'trái_phiếu', 'trái_phép', 'trái_tim', 'trái_đất', 'trám', 'trán', 'tráng', 'tráng_miệng', 'tránh_né', 'trát', 'trâm', 'trân', 'trân_trọng', 'trâu', 'trâu_bò', 'trãi', 'trèo', 'trên_cơ_thể', 'trêu', 'trêu_chọc', 'trì', 'trì_hoãn', 'trì_trệ', 'trình', 'trình_bày', 'trình_báo', 'trình_chiếu', 'trình_diễn', 'trình_diện', 'trình_duyệt', 'trình_làng', 'trình_tự', 'trình_độ', 'trìu_mến', 'trí', 'trí_lực', 'trí_nhớ', 'trí_não', 'trí_thức', 'trí_tuệ', 'trí_óc', 'trích', 'trích_dẫn', 'trích_đoạn', 'trò', 'trò_chuyện', 'trò_chơi', 'trò_đùa', 'tròn', 'tròn_trịa', 'tròng', 'tróc', 'trói', 'trói_buộc', 'trót', 'trót_lọt', 'trôi', 'trôi_chảy', 'trôi_dạt', 'trôi_nổi', 'trông', 'trông_chờ', 'trông_coi', 'trông_cậy', 'trông_nom', 'trông_đợi', 'trù_bị', 'trùm', 'trùng', 'trùng_hợp', 'trùng_lắp', 'trùng_lặp', 'trùng_tu', 'trú', 'trú_ngụ', 'trú_ẩn', 'trúc', 'trúng', 'trúng_cử', 'trúng_thầu', 'trúng_tuyển', 'trút', 'trăm', 'trăm_nghìn', 'trăn', 'trăn_trở', 'trăng', 'trăng_hoa', 'trĩ', 'trũng', 'trơ', 'trơn', 'trơn_tru', 'trưa', 'trưng', 'trưng_bày', 'trưng_cầu', 'trươ', 'trương', 'trương_chí', 'trương_lực', 'trương_nghệ', 'trương_ngọc', 'trương_quốc', 'trương_thị', 'trương_văn', 'trương_đình', 'trương_định', 'trước_bạ', 'trước_mắt', 'trước_triệu', 'trướng', 'trường', 'trường_ca', 'trường_chinh', 'trường_giang', 'trường_học', 'trường_hợp', 'trường_phái', 'trường_quay', 'trường_thành', 'trường_thọ', 'trường_đua', 'trưởng', 'trưởng_phòng', 'trưởng_thành', 'trưởng_thôn', 'trưởng_đoàn', 'trưởng_đoàn_thể_thao', 'trượng', 'trượt', 'trượt_băng', 'trượt_giá', 'trượt_tuyết', 'trạc', 'trạch', 'trại', 'trại_giam', 'trạm', 'trạm_trưởng', 'trạng', 'trạng_thái', 'trả_chậm', 'trả_giá', 'trả_góp', 'trả_lời', 'trả_miếng', 'trả_thù', 'trả_triệu', 'trả_đũa', 'trải', 'trảng', 'trấn', 'trấn_an', 'trấn_giữ', 'trấn_lột', 'trấn_tĩnh', 'trấn_áp', 'trấu', 'trầm', 'trầm_cảm', 'trầm_lắng', 'trầm_lặng', 'trầm_trọng', 'trầm_trồ', 'trầm_tích', 'trầm_tĩnh', 'trầm_uất', 'trần', 'trần_anh', 'trần_bì', 'trần_chỉnh', 'trần_duy', 'trần_duy_ly', 'trần_huy', 'trần_hùng', 'trần_hưng', 'trần_hồng', 'trần_hữu', 'trần_minh', 'trần_mạnh', 'trần_nam', 'trần_ngọc', 'trần_phú', 'trần_phương', 'trần_quang', 'trần_quốc', 'trần_thanh', 'trần_thu', 'trần_thuỷ', 'trần_thành', 'trần_thế', 'trần_thị', 'trần_tiến', 'trần_trọng', 'trần_tuấn', 'trần_văn', 'trần_vũ', 'trần_xuân', 'trần_đình', 'trần_đức', 'trầu', 'trầy_xước', 'trận', 'trận_mạc', 'trận_đấu', 'trật', 'trật_tự', 'trật_tự_quản_lý', 'trắc', 'trắc_nghiệm', 'trắc_trở', 'trắng', 'trắng_tay', 'trắng_trợn', 'trắng_đen', 'trẻ', 'trẻ_con', 'trẻ_em', 'trẻ_hóa', 'trẻ_thơ', 'trẻ_trung', 'trễ', 'trệ', 'trị', 'trị_an', 'trị_giá', 'trị_giá_triệu', 'trị_giá_tỉ', 'trị_giá_tỷ', 'trị_liệu', 'trị_vì', 'trịnh', 'trịnh_công', 'trịnh_quân', 'trịnh_sang', 'trịnh_xuân', 'trọ', 'trọc', 'trọn', 'trọn_gói', 'trọn_vẹn', 'trọng', 'trọng_dụng', 'trọng_lượng', 'trọng_lực', 'trọng_thương', 'trọng_thể', 'trọng_trách', 'trọng_tài', 'trọng_tài_chính', 'trọng_tâm', 'trọng_tải', 'trọng_yếu', 'trọng_án', 'trọng_điểm', 'trọng_đại', 'trỏ', 'trốn', 'trốn_thuế', 'trốn_tránh', 'trống', 'trống_ngực', 'trống_rỗng', 'trống_trải', 'trống_vắng', 'trống_đồng', 'trồi', 'trồng', 'trồng_trọt', 'trổ', 'trổ_tài', 'trỗi', 'trội', 'trộm', 'trộm_cắp', 'trộn', 'trớ_trêu', 'trớn', 'trời', 'trời_đất', 'trở', 'trở_lại', 'trở_ngại', 'trở_nên', 'trở_tay', 'trở_thành_tâm_điểm', 'trợ', 'trợ_cấp', 'trợ_giá', 'trợ_giúp', 'trợ_lý', 'trụ', 'trụ_cột', 'trụ_sở', 'trục', 'trục_lợi', 'trục_trặc', 'trục_vớt', 'trục_xuất', 'trụy', 'trứng', 'trứng_cá', 'trừ', 'trừ_sâu', 'trừng_phạt', 'trừng_trị', 'trừu_tượng', 'trữ', 'trữ_lượng', 'trữ_tình', 'trực', 'trực_ban', 'trực_diện', 'trực_giác', 'trực_khuẩn', 'trực_quan', 'trực_thuộc', 'trực_thăng', 'trực_tiếp_quản_lý', 'trực_tràng', 'trực_tuyến', 'ts', 'tskh', 'tt', 'ttbvqtg', 'ttck', 'ttg', 'ttk', 'tto', 'ttt', 'ttvn', 'ttxh', 'ttxvn', 'tu', 'tu_bổ', 'tu_nghiệp', 'tu_sửa', 'tu_viện', 'tua', 'tuan', 'tudor', 'tuesday', 'tui', 'tulip', 'tum', 'tun', 'tung', 'tung_hoành', 'tung_hứng', 'tung_lưới', 'tung_tích', 'tung_tăng', 'tunisia', 'turin', 'turkmenistan', 'tuyen', 'tuyên', 'tuyên_bố', 'tuyên_bố_chung', 'tuyên_chiến', 'tuyên_dương', 'tuyên_phạt', 'tuyên_thệ', 'tuyên_truyền', 'tuyên_án', 'tuyến', 'tuyến_giáp', 'tuyến_yên', 'tuyết', 'tuyết_sơn', 'tuyền', 'tuyển', 'tuyển_chọn', 'tuyển_dụng', 'tuyển_mộ', 'tuyển_sinh', 'tuyển_thủ', 'tuyệt', 'tuyệt_chủng', 'tuyệt_diệu', 'tuyệt_hảo', 'tuyệt_vọng', 'tuyệt_vời', 'tuyệt_đối', 'tuân', 'tuân_thủ', 'tuôn', 'tuýp', 'tuấn', 'tuất', 'tuần', 'tuần_báo', 'tuần_hoàn', 'tuần_hành', 'tuần_lễ', 'tuần_tra', 'tuần_trăng_mật', 'tuệ', 'tuồn', 'tuồng', 'tuổi_thơ', 'tuổi_thọ', 'tuổi_trẻ', 'tuổi_tác', 'tuổi_đời', 'tuột', 'tuột_dốc', 'tuỳ', 'tuỳ_thuộc', 'tuỷ', 'tv', 'tw', 'ty', 'tyler', 'type', 'tyson', 'tà', 'tài', 'tài_ba', 'tài_chính', 'tài_chính_quốc_tế', 'tài_giỏi', 'tài_hoa', 'tài_khoản', 'tài_liệu', 'tài_nghệ', 'tài_nguyên', 'tài_nào', 'tài_năng', 'tài_phiệt', 'tài_sản', 'tài_trợ', 'tài_tình', 'tài_tử', 'tài_xế', 'tàn', 'tàn_bạo', 'tàn_nhẫn', 'tàn_phá', 'tàn_phế', 'tàn_sát', 'tàn_tật', 'tàng', 'tàng_trữ', 'tào', 'tàu', 'tàu_biển', 'tàu_chiến', 'tàu_hoả', 'tàu_hỏa', 'tàu_ngầm', 'tàu_thuyền', 'tàu_điện_ngầm', 'tày', 'tá', 'tá_tràng', 'tác', 'tác_chiến', 'tác_dụng', 'tác_giả', 'tác_hại', 'tác_nghiệp', 'tác_nhân', 'tác_phong', 'tác_phẩm', 'tác_động', 'tách', 'tách_biệt', 'tái', 'tái_bản', 'tái_chế', 'tái_diễn', 'tái_hiện', 'tái_hợp', 'tái_khám', 'tái_lập', 'tái_ngộ', 'tái_phát', 'tái_phạm', 'tái_sinh', 'tái_thiết', 'tái_tạo', 'tái_xuất', 'tái_đấu', 'tái_đắc_cử', 'tái_định_cư', 'tám', 'tán', 'tán_gẫu', 'tán_thành', 'tán_thưởng', 'tán_tỉnh', 'tán_đồng', 'tánh', 'táo', 'táo_bón', 'táo_bạo', 'táo_tợn', 'tát', 'tâm', 'tâm_bão', 'tâm_huyết', 'tâm_hồn', 'tâm_linh', 'tâm_lý', 'tâm_lý_học', 'tâm_nguyện', 'tâm_niệm', 'tâm_sức', 'tâm_sự', 'tâm_thần', 'tâm_trí', 'tâm_trạng', 'tâm_tình', 'tâm_tư', 'tâm_điểm', 'tâm_đắc', 'tân', 'tân_an', 'tân_binh', 'tân_bình', 'tân_dược', 'tân_hiệp', 'tân_hlv', 'tân_hôn', 'tân_hưng', 'tân_phú', 'tân_sơn', 'tân_thanh', 'tân_thuận', 'tân_thành', 'tân_tiến', 'tân_trang', 'tâng', 'tây', 'tây_ban', 'tây_dương', 'tây_nguyên', 'tây_ninh', 'tây_sơn', 'tã', 'té', 'tép', 'tê', 'tê_giác', 'tê_liệt', 'tên_lửa', 'tên_miền', 'tên_tuổi', 'tì', 'tìm_kiếm', 'tìm_tòi', 'tình', 'tình_báo', 'tình_ca', 'tình_cảm', 'tình_cảnh', 'tình_cờ', 'tình_duyên', 'tình_dục', 'tình_dục_học', 'tình_huống', 'tình_hình', 'tình_khúc', 'tình_nghi', 'tình_nghĩa', 'tình_nguyện', 'tình_nguyện_viên', 'tình_nhân', 'tình_thương', 'tình_thế', 'tình_tiết', 'tình_tiết_giảm', 'tình_trường', 'tình_tứ', 'tình_yêu', 'tình_yêu_thương', 'tình_ái', 'tí', 'tí_hon', 'tía_tô', 'tích', 'tích_cực', 'tích_hợp', 'tích_kê', 'tích_luỹ', 'tích_lũy', 'tích_trữ', 'tích_tắc', 'tích_tụ', 'tím', 'tím_tái', 'tín', 'tín_dụng', 'tín_hiệu', 'tín_ngưỡng', 'tín_nhiệm', 'tín_đồ', 'tính_chuyện', 'tính_chất', 'tính_dục', 'tính_khí', 'tính_mạng', 'tính_năng', 'tính_toán', 'tính_tình', 'tính_tẩu', 'tít', 'tò_mò', 'tòa', 'tòa_huyện', 'tòa_soạn', 'tòa_tháp', 'tòa_án', 'tòng', 'tóc', 'tóm', 'tóm_lại', 'tóm_tắt', 'tô', 'tô_châu', 'tô_màu', 'tô_điểm', 'tôm', 'tôm_hùm', 'tôm_sú', 'tôn', 'tôn_giáo', 'tôn_thờ', 'tôn_trọng', 'tôn_tạo', 'tôn_vinh', 'tôn_đức', 'tông', 'tù', 'tù_binh', 'tù_giam', 'tù_nhân', 'tù_treo', 'tùng', 'tùy', 'tùy_chọn', 'tùy_thân', 'tùy_thích', 'tùy_tiện', 'tú', 'tú_bà', 'tú_tài', 'túc', 'túc_trực', 'túi', 'túi_bụi', 'túi_mật', 'túi_tiền', 'túi_xách', 'túm', 'túp', 'tý', 'tăm', 'tăng_cường', 'tăng_giá', 'tăng_giá_trị', 'tăng_sản_lượng', 'tăng_triệu', 'tăng_trưởng', 'tăng_tốc', 'tăng_tốc_độ', 'tĩnh', 'tĩnh_lặng', 'tĩnh_mạch', 'tĩnh_tâm', 'tơ', 'tơ_tằm', 'tư', 'tư_bản', 'tư_cách', 'tư_duy', 'tư_liệu', 'tư_lệnh', 'tư_nhân', 'tư_pháp', 'tư_thế', 'tư_thục', 'tư_tưởng', 'tư_vấn', 'tưng_bừng', 'tươi', 'tươi_cười', 'tươi_mát', 'tươi_sáng', 'tươi_sống', 'tươi_trẻ', 'tươi_tắn', 'tương', 'tương_lai', 'tương_phản', 'tương_quan', 'tương_thích', 'tương_tác', 'tương_tự', 'tương_xứng', 'tương_đương', 'tương_đối', 'tương_đồng', 'tương_ớt', 'tương_ứng', 'tước', 'tưới', 'tưới_tiêu', 'tướng', 'tướng_cướp', 'tường', 'tường_thuật', 'tường_trình', 'tường_tận', 'tưởng', 'tưởng_chừng', 'tưởng_nhớ', 'tưởng_niệm', 'tưởng_tượng', 'tượng', 'tượng_trưng', 'tượng_đài', 'tạ', 'tạ_quang', 'tạc', 'tại_chỗ', 'tại_chức', 'tại_gia', 'tại_ngoại', 'tại_trận', 'tạm', 'tạm_biệt', 'tạm_bợ', 'tạm_cư', 'tạm_thời', 'tạm_trú', 'tạm_ứng', 'tạng', 'tạo_dựng', 'tạo_hình', 'tạo_hóa', 'tạo_lập', 'tạo_mẫu', 'tạo_vẻ', 'tạp', 'tạp_chí', 'tạp_chất', 'tạp_hóa', 'tạt', 'tả', 'tải', 'tải_trọng', 'tản', 'tảng', 'tảo', 'tấc', 'tấm_lợp', 'tấn_công', 'tấn_công_bằng', 'tấp', 'tấp_nập', 'tất', 'tất_bật', 'tất_nhiên', 'tất_niên', 'tất_tố', 'tất_yếu', 'tấu', 'tấy', 'tầm', 'tầm_cỡ', 'tầm_mắt', 'tầm_thường', 'tầm_vóc', 'tần', 'tần_suất', 'tần_số', 'tầng', 'tầng_lớp', 'tẩm', 'tẩu', 'tẩu_thoát', 'tẩu_tán', 'tẩy', 'tẩy_chay', 'tẩy_rửa', 'tẩy_trang', 'tận', 'tận_cùng', 'tận_dụng', 'tận_hưởng', 'tận_mắt', 'tận_tay', 'tận_tâm', 'tận_tình', 'tận_tụy', 'tập', 'tập_dượt', 'tập_huấn', 'tập_hợp', 'tập_kết', 'tập_luyện', 'tập_quán', 'tập_thơ', 'tập_thể', 'tập_thể_dục', 'tập_thể_thao', 'tập_tin', 'tập_trung_đội_tuyển', 'tập_tành', 'tập_đoàn', 'tậptiêu', 'tật', 'tật_nguyền', 'tậu', 'tắc', 'tắc_kè', 'tắc_nghẽn', 'tắm', 'tắm_giặt', 'tắm_rửa', 'tắt', 'tắt_thở', 'tằm', 'tặc', 'tặng', 'tẹc', 'tẻ', 'tẻ_nhạt', 'tế', 'tế_bào', 'tế_nhị', 'tết', 'tề', 'tề_tựu', 'tệ', 'tệ_hại', 'tệ_nạn', 'tỉ', 'tỉ_lệ', 'tỉ_mỉ', 'tỉ_phú', 'tỉ_số', 'tỉa', 'tỉnh', 'tỉnh_giấc', 'tỉnh_lẻ', 'tỉnh_lộ', 'tỉnh_thành', 'tỉnh_thành_phố', 'tỉnh_táo', 'tỉnh_uỷ', 'tỉnh_ủy', 'tị_nạn', 'tịch_thu', 'tịnh', 'tịt_ngòi', 'tọa', 'tọa_lạc', 'tọa_đàm', 'tỏ', 'tỏ_tình', 'tỏa', 'tỏi', 'tỏi_tây', 'tố', 'tố_chất', 'tố_cáo', 'tố_giác', 'tố_tụng', 'tố_tụng_hình_sự', 'tốc', 'tốc_độ', 'tối', 'tối_cao', 'tối_hậu_thư', 'tối_ngày', 'tối_thiểu', 'tối_tăm', 'tối_đa', 'tối_ưu', 'tối_ưu_hóa', 'tốn', 'tốn_kém', 'tống', 'tống_tiền', 'tống_đạt', 'tốp', 'tốt_bụng', 'tốt_lành', 'tốt_nghiệp', 'tốt_đẹp', 'tồi', 'tồi_tệ', 'tồn', 'tồn_kho', 'tồn_tại', 'tồn_đọng', 'tổ', 'tổ_chức', 'tổ_hợp', 'tổ_quốc', 'tổ_tiên', 'tổ_trưởng', 'tổ_ấm', 'tổn', 'tổn_hại', 'tổn_thương', 'tổn_thất', 'tổng', 'tổng_biên_tập', 'tổng_bí_thư', 'tổng_chi_phí', 'tổng_cộng', 'tổng_cộng_triệu', 'tổng_cục', 'tổng_cục_trưởng', 'tổng_giám_đốc', 'tổng_hành_dinh', 'tổng_hợp', 'tổng_kết', 'tổng_lãnh_sự', 'tổng_lãnh_sự_quán', 'tổng_lượng', 'tổng_quát', 'tổng_sản_phẩm', 'tổng_sắp', 'tổng_số', 'tổng_thu', 'tổng_thu_nhập', 'tổng_thư_ký', 'tổng_thể', 'tổng_thống', 'tổng_tuyển_cử', 'tổng_điểm', 'tổng_đài', 'tội', 'tội_danh', 'tội_gì', 'tội_lỗi', 'tội_nghiệp', 'tội_phạm', 'tội_ác', 'tới_triệu', 'tới_tấp', 'tới_tỉ', 'tới_tỷ', 'tờ', 'tờ_rơi', 'tờ_trình', 'tụ', 'tụ_họp', 'tụ_tập', 'tụ_điểm', 'tục', 'tụi', 'tụt', 'tụt_dốc', 'tụt_hậu', 'tụy', 'tủ', 'tủ_lạnh', 'tủ_sách', 'tủi_thân', 'tủy', 'tứ', 'tứ_kết', 'tức', 'tức_giận', 'tức_là', 'tức_thời', 'tức_tối', 'từ_biệt', 'từ_bỏ', 'từ_chối', 'từ_chức', 'từ_giã', 'từ_ngữ', 'từ_thiện', 'từ_trường', 'từ_tốn', 'từ_tỷ', 'từ_điển', 'từ_đường', 'từng_trải', 'tử', 'tử_cung', 'tử_di', 'tử_hình', 'tử_nạn', 'tử_thi', 'tử_thần', 'tử_tù', 'tử_tế', 'tử_vi', 'tử_vong', 'tự_chủ', 'tự_do', 'tự_dưng', 'tự_giác', 'tự_hành', 'tự_hào', 'tự_kỷ', 'tự_lập', 'tự_mãn', 'tự_nguyện', 'tự_nhiên', 'tự_nhủ', 'tự_phát', 'tự_quyết_định', 'tự_sát', 'tự_sự', 'tự_thân', 'tự_thú', 'tự_ti', 'tự_tin', 'tự_truyện', 'tự_trị', 'tự_trọng', 'tự_túc', 'tự_tử', 'tự_vệ', 'tự_xưng', 'tự_ái', 'tự_động', 'tựa', 'tỳ', 'tỳ_vị', 'tỵ', 'tỷ', 'tỷ_giá', 'tỷ_lệ', 'tỷ_phú', 'tỷ_số', 'tỷ_trọng', 'uae', 'ub', 'ubck', 'ubnd', 'ubtdtt', 'udinese', 'uefa', 'uganda', 'uk', 'ukraina', 'ukraine', 'ullrich', 'ultra', 'undp', 'unesco', 'ung', 'ung_bướu', 'ung_dung', 'ung_nhọt', 'ung_thư', 'unicef', 'unicode', 'union', 'united', 'universal', 'university', 'unix', 'up', 'update', 'uranium', 'uric', 'url', 'uruguay', 'urê', 'us', 'usa', 'usb', 'usd', 'usd_đây', 'user', 'usitc', 'ut', 'utah', 'utd', 'uy', 'uy_hiếp', 'uy_lực', 'uy_tín', 'uyên', 'uyên_ương', 'uyển', 'uyển_chuyển', 'uzbekistan', 'uông', 'uất', 'uất_ức', 'uể_oải', 'uốn', 'uốn_lượn', 'uốn_nắn', 'uốn_tóc', 'uốn_ván', 'uống', 'uống_viên', 'uổng', 'uỷ_ban', 'uỷ_viên', 'va', 'va_chạm', 'va_đập', 'vaart', 'vaccine', 'vacxin', 'vai', 'vai_trò', 'valdes', 'valdez', 'valencia', 'valente', 'valentine', 'valeri', 'valeron', 'vali', 'valladolid', 'value', 'vama', 'van', 'van_xin', 'vang', 'vang_dội', 'vao', 'vasep', 'vassell', 'vat', 'vatican', 'vay', 'vay_mượn', 'vay_triệu', 'vcb', 'vcd', 'vck', 'vdc', 've', 've_chai', 'vec', 'vegas', 'velappan', 'ven', 'venezuela', 'venice', 'venus', 'vera', 'verisign', 'veron', 'version', 'vertu', 'vest', 'vf', 'vfb', 'vfd', 'vff', 'vh', 'vhnt', 'vhtt', 'vi', 'vi_chất', 'vi_khuẩn', 'vi_lượng', 'vi_phạm', 'vi_phạm_luật', 'vi_phạm_quy_chế', 'vi_phạm_quy_định', 'vi_sinh', 'vi_sinh_vật', 'vi_sóng', 'vi_trùng', 'vi_tính', 'viagra', 'vic', 'vicarrent', 'vicente', 'victor', 'victoria', 'video', 'viduka', 'viec', 'vieira', 'vien', 'vienna', 'vieri', 'viet', 'vietcombank', 'vietnam', 'vietravel', 'vietsovpetro', 'viettel', 'view', 'vigo', 'vii', 'viii', 'viktor', 'villa', 'villarreal', 'villepin', 'vina', 'vinaconex', 'vinagame', 'vinamilk', 'vinaphone', 'vinashin', 'vinatex', 'vincent', 'vincenzo', 'vinci', 'vincom', 'vinh', 'vinh_danh', 'vinh_dự', 'vinh_quang', 'violet', 'violon', 'vip', 'virenque', 'virginia', 'virus', 'virút', 'visa', 'visay', 'visco', 'vision', 'vissan', 'vista', 'visual', 'vital', 'vitamin', 'viê', 'viêm', 'viêm_nhiễm', 'viên', 'viên_chức', 'viếng', 'viếng_thăm', 'viết', 'viết_tay', 'viền', 'viễn', 'viễn_cảnh', 'viễn_thông', 'viễn_tưởng', 'việc_làm', 'viện', 'viện_phí', 'viện_trưởng', 'viện_trợ', 'việt', 'việt_hưng', 'việt_kiều', 'việt_nam', 'việt_vị', 'vks', 'vksnd', 'vladimir', 'vms', 'vn', 'vna', 'vnd', 'vne', 'vnexpress', 'vnn', 'vnnic', 'vnpt', 'vnsa', 'vnđ', 'vo', 'voan', 'voeckler', 'voeller', 'voi', 'voip', 'vol', 'voller', 'vong', 'voọc', 'vp', 'vpbank', 'vpcp', 'vs', 'vsattp', 'vsp', 'vt', 'vtc', 'vtv', 'vu', 'vu_khống', 'vua', 'vucinic', 'vui', 'vui_chơi', 'vui_lòng', 'vui_mừng', 'vui_nhộn', 'vui_sướng', 'vui_tính', 'vui_tươi', 'vui_vẻ', 'vui_đùa', 'vun_vén', 'vun_đắp', 'vung', 'vuông', 'vuốt', 'vuốt_ve', 'vuột', 'vxl', 'vy', 'vài_triệu', 'vàm', 'vàng', 'vàng_anh', 'vàng_bạc', 'vàng_mã', 'vàng_son', 'vàng_đen', 'vành', 'vành_đai', 'vào_cuộc', 'vào_cầu_môn', 'vào_vai', 'vá', 'vác', 'vách', 'ván', 'ván_đấu', 'váng', 'váy', 'vân', 'vây', 'vây_hãm', 'vã', 'vãng_lai', 'vè', 'vé', 'vé_số', 'vén', 'vét', 'vê', 'vênh', 'ví', 'ví_dụ', 'ví_như', 'ví_von', 'vít', 'vò', 'vòi', 'vòi_nước', 'vòm', 'vòng', 'vòng_cung', 'vòng_loại', 'vòng_quanh', 'vòng_tay', 'vòng_tròn', 'vòng_vo', 'vòng_vây', 'vòng_đấu', 'vóc_dáng', 'vô', 'vô_bờ', 'vô_can', 'vô_cùng', 'vô_cảm', 'vô_cớ', 'vô_danh', 'vô_duyên', 'vô_dụng', 'vô_giá', 'vô_hiệu', 'vô_hiệu_hoá', 'vô_hiệu_hóa', 'vô_hình', 'vô_hại', 'vô_hồn', 'vô_lê', 'vô_lý', 'vô_nghĩa', 'vô_nhị', 'vô_sinh', 'vô_số', 'vô_thức', 'vô_trùng', 'vô_tuyến', 'vô_tâm', 'vô_tình', 'vô_tính', 'vô_tư', 'vô_tận', 'vô_tội', 'vô_tội_vạ', 'vô_vọng', 'vô_ích', 'vô_địch', 'vôi', 'vôlê', 'võ', 'võ_gậy', 'võ_hiệp', 'võ_hồng', 'võ_lâm', 'võ_nguyên', 'võ_sĩ', 'võ_sư', 'võ_thiện', 'võ_thuật', 'võ_thành', 'võ_thị', 'võ_trọng', 'võ_văn', 'võ_văn_kiệt', 'võ_đài', 'võng', 'võng_mạc', 'vùi', 'vùn_vụt', 'vùng_biển', 'vùng_cao', 'vùng_sâu', 'vùng_ven', 'vùng_vẫy', 'vùng_xa', 'vùng_đất', 'vú', 'vú_sữa', 'vút', 'văcxin', 'văn', 'văn_an', 'văn_biển', 'văn_bản', 'văn_bằng', 'văn_chương', 'văn_cường', 'văn_dâu', 'văn_hiến', 'văn_hoá', 'văn_hoátiêu', 'văn_hóa', 'văn_hùng', 'văn_hạnh', 'văn_học', 'văn_khê', 'văn_kiện', 'văn_lang', 'văn_lợi', 'văn_minh', 'văn_miếu', 'văn_mách', 'văn_nam', 'văn_nghệ', 'văn_nghệ_sĩ', 'văn_nhiên', 'văn_phòng', 'văn_phương', 'văn_quyến', 'văn_sỹ', 'văn_thành', 'văn_thánh', 'văn_thị', 'văn_thị_thanh', 'văn_thụ', 'văn_trí', 'văn_trương', 'văn_tự', 'văn_xuân', 'văn_đàn', 'văng', 'vđ', 'vđqg', 'vđtg', 'vđv', 'vĩ', 'vĩ_mô', 'vĩ_đại', 'vĩnh', 'vĩnh_cửu', 'vĩnh_hưng', 'vĩnh_long', 'vĩnh_lộc', 'vĩnh_lợi', 'vĩnh_phúc', 'vĩnh_viễn', 'vũ', 'vũ_anh', 'vũ_bão', 'vũ_công', 'vũ_dũng', 'vũ_khí', 'vũ_kịch', 'vũ_lực', 'vũ_minh', 'vũ_ngọc', 'vũ_nữ', 'vũ_phong', 'vũ_phu', 'vũ_quốc', 'vũ_thị', 'vũ_tiến', 'vũ_trang', 'vũ_trường', 'vũ_trọng', 'vũ_trụ', 'vũ_văn', 'vũ_điệu', 'vũ_đoàn', 'vũ_đình', 'vũ_đạo', 'vũ_đức', 'vũng', 'vũng_tàu', 'vơ', 'vơi', 'vươn', 'vương', 'vương_miện', 'vương_quốc', 'vương_tiến', 'vướng', 'vướng_bận', 'vướng_mắc', 'vườn', 'vượng', 'vượt_biên', 'vượt_bậc', 'vượt_trội', 'vượt_tuyến', 'vạc', 'vạch', 'vại', 'vạn', 'vạt', 'vải', 'vảy', 'vảy_nến', 'vấn', 'vấn_nạn', 'vấp', 'vấp_ngã', 'vất_vả', 'vần', 'vầng', 'vẩy', 'vẫy', 'vận', 'vận_chuyển', 'vận_dụng', 'vận_hành', 'vận_hội', 'vận_mệnh', 'vận_tải', 'vận_tốc', 'vận_động', 'vận_động_viên', 'vật', 'vật_chất', 'vật_chứng', 'vật_dụng', 'vật_giá', 'vật_liệu', 'vật_lý', 'vật_lộn', 'vật_nuôi', 'vật_thí_nghiệm', 'vật_thể', 'vật_tư', 'vật_vã', 'vắc', 'vắng', 'vắng_mặt', 'vắng_mặt_trận', 'vắng_vẻ', 'vắt', 'vằn', 'vặn', 'vặt', 'vẹn_toàn', 'vẹo', 'vẹt', 'vẻ', 'vẻ_vang', 'vẽ', 'vết', 'vết_thương', 'vệ', 'vệ_sinh', 'vệ_sĩ', 'vệ_tinh', 'vệt', 'vỉ', 'vỉa_hè', 'vị', 'vị_giác', 'vị_tha', 'vị_thế', 'vịnh', 'vịt', 'vọng', 'vọt', 'vỏ', 'vỏ_chai', 'vỏ_não', 'vỏn_vẹn', 'vốn', 'vốn_liếng', 'vốn_sống', 'vồ', 'vỗ', 'vỗ_tay', 'vỗ_về', 'vội', 'vội_vàng', 'vội_vã', 'vớ', 'vớ_vẩn', 'vớt', 'vờ', 'vỡ', 'vỡ_lở', 'vợ', 'vợ_chồng', 'vợ_con', 'vợt', 'vụ', 'vụ_lợi', 'vụ_trưởng', 'vụ_việc', 'vụn', 'vụng_về', 'vứt', 'vừa_lòng', 'vừa_phải', 'vừa_vặn', 'vừng', 'vữa', 'vững', 'vững_chãi', 'vững_chắc', 'vững_mạnh', 'vững_vàng', 'vựa', 'vực', 'vỹ', 'wales', 'walker', 'walkman', 'wall', 'walt', 'walter', 'wan', 'wanderers', 'wang', 'wap', 'war', 'ward', 'warner', 'washington', 'watford', 'watson', 'wav', 'wave', 'wayne', 'wb', 'we', 'weah', 'web', 'webber', 'webcam', 'webmaster', 'website', 'wednesday', 'wef', 'wei', 'wenger', 'werder', 'west', 'western', 'westlife', 'white', 'who', 'wi', 'wifi', 'wigan', 'wikipedia', 'wilbur', 'will', 'william', 'williams', 'willy', 'wilson', 'wiltord', 'wimax', 'wimbledon', 'win', 'window', 'windows', 'winothai', 'wireless', 'with', 'withe', 'wma', 'wmd', 'wolfsburg', 'wolves', 'won', 'woo', 'woodgate', 'woods', 'word', 'world', 'world_cup', 'worm', 'wright', 'wt', 'wta', 'wto', 'wu', 'wushu', 'wwf', 'xa_hoa', 'xa_lánh', 'xa_lạ', 'xa_lộ', 'xa_rời', 'xa_vắng', 'xa_vời', 'xa_xôi', 'xa_xưa', 'xa_xỉ', 'xabi', 'xanh', 'xanh_xao', 'xao', 'xao_xuyến', 'xavi', 'xavier', 'xay', 'xbox', 'xdctgt', 'xdhk', 'xe', 'xe_buýt', 'xe_bồn', 'xe_cộ', 'xe_gắn_máy', 'xe_hoa', 'xe_hơi', 'xe_khách', 'xe_lăn', 'xe_máy', 'xe_ngựa', 'xe_thồ', 'xe_tăng', 'xe_tải', 'xe_ôm', 'xe_đò', 'xe_đạp', 'xem_thường', 'xem_xét', 'xem_xét_lại', 'xen', 'xen_kẽ', 'xen_lẫn', 'xeon', 'xh', 'xhcn', 'xi', 'xi_măng', 'ximăng', 'xin_lỗi', 'xinh', 'xinh_xắn', 'xinh_đẹp', 'xiêm', 'xiên', 'xiếc', 'xiết', 'xn', 'xnk', 'xnkvtđb', 'xoa', 'xoa_bóp', 'xoa_dịu', 'xoang', 'xoay', 'xoay_chuyển', 'xoay_xở', 'xong', 'xoong', 'xoài', 'xoá', 'xoá_bỏ', 'xoáy', 'xoăn', 'xoắn', 'xp', 'xskt', 'xu', 'xu_hướng', 'xu_thế', 'xua', 'xua_tan', 'xua_đuổi', 'xui', 'xung', 'xung_kích', 'xung_phong', 'xung_quanh', 'xung_trận', 'xung_đột', 'xuyên', 'xuân', 'xuân_lan', 'xuân_lộc', 'xuôi', 'xuất', 'xuất_bản', 'xuất_cảnh', 'xuất_hiện_tại', 'xuất_huyết', 'xuất_khẩu', 'xuất_ngoại', 'xuất_nhập_khẩu', 'xuất_phát', 'xuất_quân', 'xuất_sắc', 'xuất_thân', 'xuất_thần', 'xuất_tinh', 'xuất_trình', 'xuất_viện', 'xuất_xưởng', 'xuất_xứ', 'xuống_cấp', 'xuống_dốc', 'xuống_nước', 'xuống_đường', 'xuồng', 'xx', 'xxx', 'xy', 'xà', 'xà_bông', 'xà_lim', 'xà_lách', 'xà_ngang', 'xà_phòng', 'xài', 'xào', 'xác', 'xác_chết', 'xác_lập', 'xác_minh', 'xác_nhận', 'xác_suất', 'xác_thực', 'xác_đáng', 'xác_định', 'xách', 'xám', 'xáo_trộn', 'xát', 'xâm_chiếm', 'xâm_hại', 'xâm_lược', 'xâm_lấn', 'xâm_nhập', 'xâm_phạm', 'xâu', 'xây', 'xây_dựng', 'xây_dựng_hạ_tầng', 'xây_lắp', 'xã', 'xã_giao', 'xã_hội', 'xã_hội_hóa', 'xã_hội_học', 'xã_hội_đen', 'xé', 'xéo', 'xét', 'xét_duyệt', 'xét_hỏi', 'xét_nghiệm', 'xét_nét', 'xét_xử', 'xê', 'xê_dịch', 'xêut', 'xêút', 'xì', 'xì_dầu', 'xí', 'xí_nghiệp', 'xích', 'xích_lô', 'xích_mích', 'xích_đạo', 'xít', 'xíu', 'xòe', 'xóa', 'xóa_bỏ', 'xóa_sổ', 'xóa_đói_giảm', 'xóc', 'xói_mòn', 'xóm', 'xót', 'xót_xa', 'xô', 'xô_viết', 'xô_xát', 'xô_đẩy', 'xôi', 'xôn_xao', 'xông', 'xông_hơi', 'xông_xáo', 'xù', 'xúc', 'xúc_cảm', 'xúc_phạm', 'xúc_tiến', 'xúc_tác', 'xúc_xích', 'xúc_động', 'xúi_giục', 'xúm', 'xúp', 'xăm', 'xăng', 'xăng_dầu', 'xơ', 'xơ_cứng', 'xơ_gan', 'xơ_vữa', 'xơi', 'xưa', 'xưa_nay', 'xưng', 'xương', 'xương_chậu', 'xương_máu', 'xương_rồng', 'xương_sống', 'xước', 'xướng', 'xưởng', 'xạ', 'xạ_trị', 'xả', 'xả_hơi', 'xảy', 'xấp', 'xấp_xỉ', 'xấu', 'xấu_hổ', 'xấu_số', 'xấu_xa', 'xấu_xí', 'xắn', 'xắt', 'xẹp', 'xẻ', 'xế', 'xếp', 'xếp_hàng', 'xếp_hạng', 'xệ', 'xỉ', 'xỉa', 'xỉn', 'xịn', 'xịt', 'xỏ', 'xốc', 'xốp', 'xốt', 'xổ', 'xổ_số', 'xới', 'xứ', 'xứ_sở', 'xứng', 'xứng_đáng', 'xử', 'xử_phạt', 'xử_sự', 'xử_trí', 'yahoo', 'yakubu', 'yala', 'yale', 'yamaha', 'yan', 'yang', 'yanukovich', 'yartsev', 'yasser', 'yasukuni', 'yeltsin', 'yemen', 'yen', 'yeon', 'yersin', 'yeu', 'ym', 'yoga', 'yokohama', 'yong', 'yoo', 'yoon', 'york', 'you', 'young', 'your', 'yu', 'yudhoyono', 'yuganskneftegas', 'yukos', 'yuri', 'yushchenko', 'yên', 'yên_lòng', 'yên_lặng', 'yên_nghỉ', 'yên_tâm', 'yên_tĩnh', 'yên_ấm', 'yên_ổn', 'yêu', 'yêu_dấu', 'yêu_mến', 'yêu_nhạc', 'yêu_quý', 'yêu_sách', 'yêu_thương', 'yêu_đương', 'yêu_đời', 'yếm', 'yến', 'yết', 'yếu', 'yếu_kém', 'yếu_thế', 'yếu_tố', 'yếu_đuối', 'yếu_ớt', 'yểu', 'zabel', 'zaccheroni', 'zagorakis', 'zalayeta', 'zambrotta', 'zampagna', 'zanetti', 'zaragoza', 'zarqawi', 'zaw', 'zawahri', 'ze', 'zealand', 'zebina', 'zeman', 'zen', 'zenit', 'zeus', 'zhang', 'zheng', 'zico', 'zidane', 'zinedine', 'zip', 'zlatan', 'zola', 'zona', 'zoom', 'zurich', 'zvonareva', 'ào_ạt', 'ác', 'ác_liệt', 'ác_mộng', 'ác_tính', 'ách', 'ách_tắc', 'ái_mộ', 'ái_ngại', 'ái_tình', 'ái_ân', 'ám', 'ám_chỉ', 'ám_sát', 'ám_ảnh', 'án', 'án_mạng', 'án_treo', 'án_treo_giò', 'ánh', 'ánh_sáng', 'áo', 'áo_cưới', 'áo_dài', 'áo_khoác', 'áo_lót', 'áo_mưa', 'áo_phao', 'áo_phông', 'áo_quần', 'áo_tắm', 'áp', 'áp_chót', 'áp_dụng', 'áp_giá', 'áp_giải', 'áp_lực', 'áp_suất', 'áp_thuế', 'áp_thấp', 'áp_đảo', 'áp_đặt', 'át', 'áy_náy', 'âm', 'âm_hưởng', 'âm_hộ', 'âm_lịch', 'âm_mưu', 'âm_nhạc', 'âm_thanh', 'âm_thầm', 'âm_tính', 'âm_vật', 'âm_đạo', 'ân', 'ân_cần', 'ân_hận', 'ân_xá', 'ân_ái', 'âu', 'âu_lo', 'âu_yếm', 'ây', 'ém', 'éo_le', 'ép', 'ép_buộc', 'êkip', 'êkíp', 'êm', 'êm_dịu', 'êm_ái', 'êm_đềm', 'êm_ấm', 'ích', 'ích_kỷ', 'ích_lợi', 'ít_ỏi', 'ðảng', 'òa', 'óc', 'ói', 'ôi', 'ôliu', 'ôm', 'ôm_ấp', 'ôn', 'ôn_hoà', 'ôn_hòa', 'ôn_thi', 'ôn_tập', 'ông_bà', 'ông_bầu', 'ông_già', 'ông_hoàng', 'ông_xã', 'ôtô', 'ôxy', 'ôxy_hóa', 'ùa', 'ùn_tắc', 'úc', 'úp', 'út', 'ăn_chay', 'ăn_chia', 'ăn_chơi', 'ăn_chặn', 'ăn_cắp', 'ăn_hàng', 'ăn_học', 'ăn_khách', 'ăn_không', 'ăn_kiêng', 'ăn_liền', 'ăn_mòn', 'ăn_mặc', 'ăn_mừng', 'ăn_nhậu', 'ăn_nói', 'ăn_năn', 'ăn_theo', 'ăn_thua', 'ăn_tiền', 'ăn_trộm', 'ăn_uống', 'ăn_xin', 'ăn_đủ', 'ăng', 'ăngten', 'đa', 'đa_cấp', 'đa_dạng', 'đa_dạng_hoá', 'đa_dạng_hóa', 'đa_khoa', 'đa_nghi', 'đa_năng', 'đa_phương', 'đa_phương_tiện', 'đa_phần', 'đa_số', 'đa_tình', 'đai', 'đam', 'đam_mê', 'đan', 'đan_xen', 'đanh_đá', 'đao', 'đatp', 'đau', 'đau_buồn', 'đau_khổ', 'đau_lòng', 'đau_nhói', 'đau_thương', 'đau_xót', 'đau_đầu', 'đau_đớn', 'đau_ốm', 'đb', 'đbqh', 'đbscl', 'đe_doạ', 'đe_dọa', 'đem', 'đen', 'đen_tối', 'đeo', 'đeo_bám', 'đeo_đuổi', 'đh', 'đhdl', 'đhhđ', 'đhqg', 'đi', 'đi_bụi', 'đi_khách', 'đi_lại', 'đi_ngoài', 'đi_nữa', 'đi_sâu', 'đi_tiêu_thụ', 'đi_tiểu', 'đi_đêm', 'đi_đôi', 'đi_đứng', 'đinh', 'đinh_lăng', 'đinh_ninh', 'đinh_thế', 'đinh_thị', 'đinh_tiên', 'đinh_văn', 'điên', 'điên_cuồng', 'điên_rồ', 'điêu', 'điêu_khắc', 'điêu_luyện', 'điêu_đứng', 'điếc', 'điếu', 'điềm', 'điềm_tĩnh', 'điềm_đạm', 'điền', 'điền_kinh', 'điều_chuyển', 'điều_chế', 'điều_chỉnh', 'điều_dưỡng', 'điều_hoà', 'điều_hành', 'điều_khiển', 'điều_khoản', 'điều_luật', 'điều_lệ', 'điều_phối', 'điều_phối_viên', 'điều_tiếng', 'điều_tiết', 'điều_tra', 'điều_tra_viên', 'điều_trần', 'điều_trị', 'điều_độ', 'điều_động', 'điểm_cao', 'điểm_chuẩn', 'điểm_nóng', 'điểm_sàn', 'điểm_tâm', 'điểm_tựa', 'điểm_xuyết', 'điển', 'điển_hình', 'điển_hình_như', 'điển_trai', 'điện', 'điện_biên', 'điện_báo', 'điện_cực', 'điện_kế', 'điện_lạnh', 'điện_lực', 'điện_máy', 'điện_năng', 'điện_thoại', 'điện_thoại_di_động', 'điện_toán', 'điện_từ', 'điện_tử', 'điện_áp', 'điện_đàm', 'điện_ảnh', 'điệp', 'điệp_khúc', 'điệp_viên', 'điệu', 'điệu_bộ', 'điệu_nghệ', 'đkdt', 'đkhk', 'đktqt', 'đkvđ', 'đkđt', 'đl', 'đmn', 'đn', 'đna', 'đná', 'đo', 'đo_lường', 'đo_đạc', 'đoan', 'đoan_trang', 'đong', 'đoàn', 'đoàn_kết', 'đoàn_thể', 'đoàn_thể_thao', 'đoàn_thị', 'đoàn_tụ', 'đoàn_viên', 'đoán', 'đoạn', 'đoạt', 'đt', 'đtdđ', 'đtla', 'đtlt', 'đtqg', 'đtvn', 'đu', 'đu_đủ', 'đua', 'đua_tranh', 'đun', 'đuôi', 'đuông', 'đuốc', 'đuối', 'đuổi', 'đuợc', 'đà', 'đà_lạt', 'đà_nẵng', 'đà_điểu', 'đài', 'đài_loan', 'đài_ptth', 'đàm', 'đàm_phán', 'đàm_thoại', 'đàm_tiếu', 'đàn', 'đàn_anh', 'đàn_bà', 'đàn_em', 'đàn_hồi', 'đàn_áp', 'đàn_ông', 'đàng_hoàng', 'đành', 'đào', 'đào_bới', 'đào_hoa', 'đào_sâu', 'đào_thải', 'đào_thị', 'đào_tạo', 'đá', 'đá_quý', 'đá_vôi', 'đái', 'đái_dầm', 'đái_tháo', 'đám', 'đám_cưới', 'đám_tang', 'đáng_giá', 'đáng_ra', 'đánh', 'đánh_bài', 'đánh_bóng', 'đánh_bạc', 'đánh_bại', 'đánh_bật', 'đánh_bắt', 'đánh_bộ', 'đánh_cá', 'đánh_cắp', 'đánh_dấu', 'đánh_ghen', 'đánh_hơi', 'đánh_lạc', 'đánh_lừa', 'đánh_máy', 'đánh_số', 'đánh_thức', 'đánh_võng', 'đánh_đầu', 'đánh_đập', 'đánh_đồng', 'đánh_đổi', 'đáp', 'đáp_án', 'đáp_ứng', 'đát', 'đáy', 'đâ', 'đâm', 'đâm_ra', 'đâm_đơn', 'đãi', 'đãi_ngộ', 'đãng', 'đè', 'đè_bẹp', 'đèn', 'đèn_chiếu', 'đèn_pin', 'đèn_xanh', 'đèn_đỏ', 'đèo', 'đéc', 'đê', 'đê_biển', 'đê_điều', 'đêm', 'đêm_đêm', 'đìa', 'đình', 'đình_chỉ', 'đình_công', 'đình_trệ', 'đình_đám', 'đích', 'đích_danh', 'đích_thân', 'đích_thực', 'đính', 'đính_chính', 'đính_hôn', 'đò', 'đòi', 'đòi_hỏi', 'đòn', 'đòn_bẩy', 'đóa', 'đói', 'đói_giảm', 'đói_nghèo', 'đón', 'đón_chào', 'đón_nhận', 'đón_tiếp', 'đón_đầu', 'đóng', 'đóng_băng', 'đóng_chai', 'đóng_cửa', 'đóng_dấu', 'đóng_gói', 'đóng_góp', 'đóng_hộp', 'đóng_kịch', 'đô', 'đô_la', 'đô_thị', 'đô_thị_hóa', 'đôi', 'đôi_chút', 'đôi_khi', 'đôi_lứa', 'đôi_mươi', 'đôla', 'đôn', 'đôn_đốc', 'đông', 'đông_dương', 'đông_dược', 'đông_lạnh', 'đông_nam', 'đông_nghẹt', 'đông_nghịt', 'đông_sơn', 'đông_đúc', 'đông_đảo', 'đông_đủ', 'đùa', 'đùi', 'đùng', 'đúc', 'đúc_kết', 'đúng_mức', 'đúng_mực', 'đúng_đắn', 'đúp', 'đút', 'đăk', 'đăng', 'đăng_cai', 'đăng_kiểm', 'đăng_kí', 'đăng_ký', 'đăng_nhập', 'đăng_quang', 'đăng_tải', 'đĩa', 'đĩa_cứng', 'đĩa_hát', 'đĩa_mềm', 'đĩa_đệm', 'đĩnh', 'đũa', 'đơn', 'đơn_cử', 'đơn_giá', 'đơn_giản', 'đơn_giản_hóa', 'đơn_lẻ', 'đơn_phương', 'đơn_sơ', 'đơn_thuần', 'đơn_điệu', 'đơn_độc', 'đưa_triệu', 'đưa_đón', 'đươ', 'đươc', 'đương', 'đương_chức', 'đương_kim', 'đương_kim_quân', 'đương_nhiên', 'đương_nhiệm', 'đương_quy', 'đương_sự', 'đương_thời', 'đương_đại', 'đương_đầu', 'đước', 'đường', 'đường_bay', 'đường_biên', 'đường_biên_giới', 'đường_biển', 'đường_băng', 'đường_bộ', 'đường_cao', 'đường_cao_tốc', 'đường_cong', 'đường_cát', 'đường_dây', 'đường_dây_nóng', 'đường_dẫn', 'đường_hoàng', 'đường_huyết', 'đường_hầm', 'đường_kính', 'đường_lối', 'đường_máu', 'đường_mòn', 'đường_mật', 'đường_nét', 'đường_phèn', 'đường_phố', 'đường_ray', 'đường_sá', 'đường_sông', 'đường_sắt', 'đường_thẳng', 'đường_trường', 'đường_ống', 'được_lòng', 'được_việc', 'đại', 'đại_biểu', 'đại_bàng', 'đại_bác', 'đại_ca', 'đại_chúng', 'đại_diện', 'đại_dương', 'đại_dịch', 'đại_gia', 'đại_gia_đình', 'đại_hùng', 'đại_học', 'đại_học_bang', 'đại_hội', 'đại_hội_đồng', 'đại_liên', 'đại_lý', 'đại_lộ', 'đại_lộc', 'đại_lục', 'đại_mạch', 'đại_phẫu', 'đại_sứ', 'đại_sứ_quán', 'đại_thắng', 'đại_tiện', 'đại_trà', 'đại_tràng', 'đại_tá', 'đại_táo', 'đại_tướng', 'đại_uý', 'đại_úy', 'đại_đoàn_kết', 'đại_đế', 'đạm', 'đạn', 'đạn_đạo', 'đạo', 'đạo_diễn', 'đạo_diễn_xuất_sắc', 'đạo_luật', 'đạo_lý', 'đạo_đức', 'đạp', 'đạt_triệu', 'đạt_tỷ', 'đảm', 'đảm_bảo_an_ninh', 'đảm_bảo_vệ_sinh', 'đảm_nhiệm', 'đảm_nhận', 'đảm_trách', 'đảm_đang', 'đảm_đương', 'đản', 'đảng', 'đảng_bộ', 'đảng_phái', 'đảng_viên', 'đảng_ủy', 'đảo', 'đảo_chính', 'đảo_lộn', 'đảo_ngược', 'đảo_quốc', 'đấm', 'đấm_đá', 'đấng', 'đất', 'đất_liền', 'đất_nung', 'đất_nước', 'đất_sét', 'đất_đai', 'đấu', 'đấu_giá', 'đấu_khẩu', 'đấu_loại', 'đấu_pháp', 'đấu_sĩ', 'đấu_thầu', 'đấu_tranh', 'đấu_trường', 'đấy', 'đầm', 'đầm_sen', 'đầm_ấm', 'đầu', 'đầu_bảng', 'đầu_bếp', 'đầu_cuối', 'đầu_cơ', 'đầu_cơ_quan', 'đầu_gối', 'đầu_hàng', 'đầu_lòng', 'đầu_lưỡi', 'đầu_máy', 'đầu_mối', 'đầu_nậu', 'đầu_quân', 'đầu_ra', 'đầu_sách', 'đầu_tay', 'đầu_thú', 'đầu_tiên_ông', 'đầu_tàu', 'đầu_tư', 'đầu_tư_sản_xuất', 'đầu_tư_triệu', 'đầu_tư_tỉ', 'đầu_tư_tỷ', 'đầu_vào', 'đầu_óc', 'đầu_đọc', 'đầu_độc', 'đầy_rẫy', 'đầy_tháng', 'đầy_vẻ', 'đầy_đặn', 'đầy_đủ', 'đầy_ắp', 'đẩy', 'đẩy_lùi', 'đẩy_mạnh', 'đẫm', 'đẫy', 'đậm', 'đậm_nét', 'đậm_đà', 'đậm_đặc', 'đập', 'đậu', 'đậu_hũ', 'đậu_nành', 'đậu_phộng', 'đậu_phụ', 'đậu_xanh', 'đậu_đen', 'đậu_đỏ', 'đậy', 'đắc', 'đắc_cử', 'đắc_lắc', 'đắc_lực', 'đắk', 'đắm', 'đắn_đo', 'đắng', 'đắng_cay', 'đắp', 'đắt', 'đắt_giá', 'đắt_đỏ', 'đằm_thắm', 'đằng', 'đẳng_cấp', 'đặc', 'đặc_chủng', 'đặc_cách', 'đặc_hiệu', 'đặc_nhiệm', 'đặc_quyền', 'đặc_sản', 'đặc_sắc', 'đặc_thù', 'đặc_trưng', 'đặc_trị', 'đặc_tính', 'đặc_xá', 'đặc_điểm', 'đặng', 'đặng_hùng', 'đặng_ngọc', 'đặng_phước', 'đặng_thanh', 'đặng_thùy', 'đặng_thị', 'đặng_tất_thắng', 'đặng_văn', 'đặng_văn_thành', 'đặt_chân', 'đặt_cược', 'đặt_cọc', 'đặt_hàng', 'đẹp', 'đẹp_mắt', 'đẹp_trai', 'đẹp_đẽ', 'đẻ', 'đẻ_non', 'đế', 'đế_chế', 'đế_quốc', 'đếm', 'đề', 'đề_bạt', 'đề_cao', 'đề_cương', 'đề_cập', 'đề_cử', 'đề_kháng', 'đề_nghị', 'đề_phòng', 'đề_tài', 'đề_xuất', 'đề_án', 'đền', 'đền_bù', 'đền_đáp', 'đều_đặn', 'để_dành', 'để_mắt', 'để_tâm', 'để_tâm_sự', 'đệ', 'đệ_trình', 'đệ_tử', 'đệm', 'đệm_bóng', 'đỉnh', 'đỉnh_cao', 'đỉnh_điểm', 'địa', 'địa_bàn', 'địa_chính', 'địa_chấn', 'địa_chất', 'địa_chỉ', 'địa_cầu', 'địa_danh', 'địa_hình', 'địa_lan', 'địa_lý', 'địa_ngục', 'địa_phương', 'địa_phận', 'địa_vị', 'địa_điểm', 'địa_đạo', 'địa_ốc', 'địch', 'địch_thủ', 'định', 'định_cư', 'định_danh', 'định_dạng', 'định_giá', 'định_hình', 'định_hướng', 'định_kiến', 'định_kỳ', 'định_luật', 'định_lượng', 'định_mệnh', 'định_mức', 'định_nghĩa', 'định_vị', 'định_đoạt', 'đọ', 'đọc', 'đọng', 'đỏ', 'đỏ_rực', 'đỏ_đen', 'đỏng_đảnh', 'đố', 'đố_kỵ', 'đốc', 'đối', 'đối_chiếu', 'đối_chất', 'đối_chọi', 'đối_chứng', 'đối_diện', 'đối_kháng', 'đối_lập', 'đối_mặt', 'đối_nghịch', 'đối_ngoại', 'đối_phó', 'đối_phương', 'đối_thoại', 'đối_thủ', 'đối_trọng', 'đối_tác', 'đối_tượng', 'đối_xứng', 'đối_xử', 'đối_đáp', 'đối_đầu', 'đốm', 'đốn', 'đống', 'đốt', 'đốt_sống', 'đồ', 'đồ_chơi', 'đồ_dùng', 'đồ_hoạ', 'đồ_họa', 'đồ_nghề', 'đồ_sộ', 'đồ_vật', 'đồ_án', 'đồ_đạc', 'đồi', 'đồi_bại', 'đồn', 'đồn_thổi', 'đồn_đại', 'đồng', 'đồng_bào', 'đồng_bằng', 'đồng_bọn', 'đồng_bộ', 'đồng_ca', 'đồng_chí', 'đồng_cảm', 'đồng_cỏ', 'đồng_giới', 'đồng_hành', 'đồng_hương', 'đồng_hồ', 'đồng_khởi', 'đồng_loại', 'đồng_loạt', 'đồng_lòng', 'đồng_lương', 'đồng_lần', 'đồng_minh', 'đồng_nai', 'đồng_nghiệp', 'đồng_nghĩa', 'đồng_nhất', 'đồng_nội_tệ', 'đồng_nửa', 'đồng_phạm', 'đồng_phục', 'đồng_quê', 'đồng_thanh', 'đồng_thuận', 'đồng_tháp', 'đồng_tiền', 'đồng_triệu', 'đồng_tâm', 'đồng_tình', 'đồng_tính', 'đồng_tử', 'đồng_vốn', 'đồng_điệu', 'đồng_đất', 'đồng_đều', 'đồng_đội', 'đổ', 'đổ_bộ', 'đổ_dồn', 'đổ_nát', 'đổ_vỡ', 'đổ_xô', 'đổi', 'đổi_mới', 'đổi_thay', 'đổi_đời', 'đỗ', 'đỗ_minh', 'đỗ_quang', 'đỗ_thành', 'đỗ_thị', 'đỗ_trung_quân', 'đỗ_tố', 'đỗ_văn', 'đỗ_đức', 'độ', 'độ_lượng', 'độ_ẩm', 'độc', 'độc_chiếm', 'độc_diễn', 'độc_giả', 'độc_hại', 'độc_lập', 'độc_nhất', 'độc_quyền', 'độc_thân', 'độc_tài', 'độc_tính', 'độc_tôn', 'độc_tố', 'độc_đoán', 'độc_đáo', 'đội', 'đội_hình', 'đội_ngũ', 'đội_trưởng', 'đội_tuyển', 'động', 'động_chạm', 'động_cơ', 'động_học', 'động_kinh', 'động_lực', 'động_mạch', 'động_mạch_vành', 'động_thái', 'động_trời', 'động_tác', 'động_tĩnh', 'động_viên', 'động_vật', 'động_vật_học', 'động_đất', 'đột', 'đột_biến', 'đột_kích', 'đột_ngột', 'đột_nhiên', 'đột_nhập', 'đột_phá', 'đột_quị', 'đột_quỵ', 'đột_tử', 'đột_xuất', 'đới', 'đời', 'đời_mới', 'đời_sống', 'đời_thường', 'đờm', 'đờn', 'đỡ', 'đỡ_đầu', 'đợi', 'đợi_chờ', 'đợt', 'đục', 'đụng', 'đụng_chạm', 'đụng_độ', 'đứa', 'đức', 'đức_hòa', 'đức_phổ', 'đức_quốc', 'đức_thắng', 'đức_tp', 'đức_trí', 'đức_tính', 'đứng', 'đứng_tên', 'đứng_đắn', 'đứt', 'đứt_gãy', 'đừng', 'đực', 'đựng', 'đựơc', 'ơn', 'ưa', 'ưa_chuộng', 'ưa_thích', 'ưng', 'ưu', 'ưu_thế', 'ưu_tiên', 'ưu_tú', 'ưu_việt', 'ưu_ái', 'ưu_điểm', 'ưu_đãi', 'ươm', 'ước', 'ước_lượng', 'ước_muốn', 'ước_mơ', 'ước_nguyện', 'ước_tính', 'ước_vọng', 'ướp', 'ướt', 'ạch', 'ạt', 'ảm_đạm', 'ảnh', 'ảnh_hưởng', 'ảnh_liêm', 'ảnh_sĩ', 'ảo', 'ảo_giác', 'ảo_thuật', 'ảo_tưởng', 'ảrập', 'ấm', 'ấm_cúng', 'ấm_áp', 'ấm_ức', 'ấn', 'ấn_hành', 'ấn_phẩm', 'ấn_tượng', 'ấn_định', 'ấn_độ', 'ấp', 'ất', 'ấu_trùng', 'ầm', 'ầm_ầm', 'ẩm', 'ẩm_thực', 'ẩm_ướt', 'ẩn', 'ẩn_chứa', 'ẩn_náu', 'ẩn_số', 'ẩu', 'ẩu_đả', 'ập', 'ẵm', 'ếch', 'ốc', 'ốc_sên', 'ốm', 'ốm_yếu', 'ốm_đau', 'ống', 'ống_kính', 'ống_nghiệm', 'ốp', 'ồn', 'ồn_ào', 'ổi', 'ổn', 'ổn_định', 'ớt', 'ủi', 'ủng', 'ủng_hộ', 'ủy', 'ủy_ban', 'ủy_quyền', 'ủy_thác', 'ủy_viên', 'ức', 'ức_chế', 'ứng', 'ứng_cứu', 'ứng_cử', 'ứng_cử_viên', 'ứng_dụng', 'ứng_phó', 'ứng_viên', 'ứng_xử']\n"
     ]
    }
   ],
   "source": [
    "print(tfidf_vect.get_feature_names())"
   ]
  },
  {
   "cell_type": "code",
   "execution_count": null,
   "metadata": {},
   "outputs": [],
   "source": []
  }
 ],
 "metadata": {
  "kernelspec": {
   "display_name": "Python 3",
   "language": "python",
   "name": "python3"
  },
  "language_info": {
   "codemirror_mode": {
    "name": "ipython",
    "version": 3
   },
   "file_extension": ".py",
   "mimetype": "text/x-python",
   "name": "python",
   "nbconvert_exporter": "python",
   "pygments_lexer": "ipython3",
   "version": "3.6.8"
  }
 },
 "nbformat": 4,
 "nbformat_minor": 2
}
